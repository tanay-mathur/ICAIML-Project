{
 "cells": [
  {
   "cell_type": "markdown",
   "source": "<div style=\"font-size: 48px; font-weight: bold\">Music Recommendation System</div>",
   "metadata": {
    "cell_id": "b9d48c0c1d4444a68e36977344f4b4ca",
    "tags": [],
    "deepnote_cell_type": "markdown",
    "deepnote_cell_height": 106.80000305175781
   },
   "outputs": [],
   "execution_count": null
  },
  {
   "cell_type": "markdown",
   "source": "# Download data",
   "metadata": {
    "cell_id": "20c567896ba4497b941cd41cc4d909e6",
    "tags": [],
    "deepnote_cell_type": "markdown",
    "deepnote_cell_height": 82
   },
   "outputs": [],
   "execution_count": null
  },
  {
   "cell_type": "code",
   "metadata": {
    "tags": [],
    "cell_id": "75d78f05-43ff-4fe8-9081-b54e54f53868",
    "deepnote_to_be_reexecuted": false,
    "source_hash": "5450275e",
    "execution_start": 1650029764208,
    "execution_millis": 5294,
    "deepnote_cell_type": "code",
    "deepnote_cell_height": 207
   },
   "source": "!mkdir -p data\n!wget -qc http://millionsongdataset.com/sites/default/files/AdditionalFiles/unique_tracks.txt -O data/unique_tracks.txt\n!wget -qc http://millionsongdataset.com/sites/default/files/AdditionalFiles/tracks_per_year.txt -O data/tracks_per_year.txt\n!wget -qc http://millionsongdataset.com/sites/default/files/AdditionalFiles/artist_location.txt -O data/artist_location.txt\n\n!wget -qc http://millionsongdataset.com/sites/default/files/AdditionalFiles/track_metadata.db -O data/track_metadata.db\n!wget -qc http://www.ee.columbia.edu/~thierry/artist_term.db -O data/artist_term.db\n!wget -qc http://www.ee.columbia.edu/~thierry/artist_similarity.db -O data/artist_similarity.db",
   "execution_count": 1,
   "outputs": []
  },
  {
   "cell_type": "code",
   "source": "!wget -qc http://millionsongdataset.com/sites/default/files/challenge/train_triplets.txt.zip -O data/train_triplets.txt.zip",
   "metadata": {
    "cell_id": "0d5e03285f554a28b91ea64e3e53a8a0",
    "tags": [],
    "deepnote_to_be_reexecuted": false,
    "source_hash": "22393480",
    "execution_start": 1650029769506,
    "execution_millis": 7552,
    "deepnote_cell_type": "code",
    "deepnote_cell_height": 81
   },
   "outputs": [],
   "execution_count": 2
  },
  {
   "cell_type": "code",
   "source": "!unzip -o data/train_triplets.txt.zip -d data",
   "metadata": {
    "cell_id": "f4da3fa11b9145ed93caec8818b8673f",
    "tags": [],
    "deepnote_to_be_reexecuted": false,
    "source_hash": "15af82ff",
    "execution_start": 1650029777061,
    "execution_millis": 31904,
    "deepnote_cell_type": "code",
    "deepnote_cell_height": 131.39999389648438
   },
   "outputs": [
    {
     "name": "stdout",
     "text": "Archive:  data/train_triplets.txt.zip\n  inflating: data/train_triplets.txt  \n",
     "output_type": "stream"
    }
   ],
   "execution_count": 3
  },
  {
   "cell_type": "code",
   "source": "!rm data/train_triplets.txt.zip",
   "metadata": {
    "cell_id": "152ec5af97ee428a896036f4df44eff3",
    "tags": [],
    "deepnote_to_be_reexecuted": false,
    "source_hash": "53e0b61",
    "execution_start": 1650029808970,
    "execution_millis": 679,
    "deepnote_cell_type": "code",
    "deepnote_cell_height": 81
   },
   "outputs": [],
   "execution_count": 4
  },
  {
   "cell_type": "code",
   "source": "!ls -lah data",
   "metadata": {
    "cell_id": "e18f9b8142014d1b801a067d36cc3d4a",
    "tags": [],
    "deepnote_to_be_reexecuted": false,
    "source_hash": "e65490e5",
    "execution_start": 1650029809653,
    "execution_millis": 641,
    "deepnote_cell_type": "code",
    "deepnote_cell_height": 348.1000061035156
   },
   "outputs": [
    {
     "name": "stdout",
     "text": "total 1.5G\r\ndrwxr-xr-x 3 root root   12 Apr 15 13:36 .\r\ndrwxrwxrwx 5 root root   10 Apr 15 13:36 ..\r\n-rw-r--r-- 1 root root 1.1M Jan 25  2011 artist_location.txt\r\n-rw-r--r-- 1 root root 322M Jan  1  2011 artist_similarity.db\r\n-rw-r--r-- 1 root root 133M Jan  1  2011 artist_term.db\r\ndrwxr-xr-x 4 1721 1721    4 Dec 19  2010 MillionSongSubset\r\n-rw-r--r-- 1 root root  11M Apr 14 13:41 SongCSV.csv\r\n-rw-r--r-- 1 root root 712M Mar 27  2011 track_metadata.db\r\n-rw-r--r-- 1 root root  34M Jan 25  2011 tracks_per_year.txt\r\n-rw-r--r-- 1 root root 2.8G Dec 19  2011 train_triplets.txt\r\n-rw-rw-r-- 1 root root 121M Apr 14 15:55 triplets_file_unknown.csv\r\n-rw-r--r-- 1 root root  81M Jan 25  2011 unique_tracks.txt\r\n",
     "output_type": "stream"
    }
   ],
   "execution_count": 5
  },
  {
   "cell_type": "markdown",
   "source": "# Model evaluation methods",
   "metadata": {
    "cell_id": "857e1eb33fc04184b3d22d62b7908977",
    "tags": [],
    "deepnote_cell_type": "markdown",
    "deepnote_cell_height": 82
   }
  },
  {
   "cell_type": "code",
   "source": "def apk(actual, predicted, k=10):\n    \"\"\"\n    Computes the average precision at k.\n    This function computes the average prescision at k between two lists of\n    items.\n    Parameters\n    ----------\n    actual : list\n             A list of elements that are to be predicted (order doesn't matter)\n    predicted : list\n                A list of predicted elements (order does matter)\n    k : int, optional\n        The maximum number of predicted elements\n    Returns\n    -------\n    score : double\n            The average precision at k over the input lists\n    \"\"\"\n    if len(predicted)>k:\n        predicted = predicted[:k]\n\n    score = 0.0\n    num_hits = 0.0\n\n    for i,p in enumerate(predicted):\n        if p in actual and p not in predicted[:i]:\n            num_hits += 1.0\n            score += num_hits / (i+1.0)\n\n    if len(actual)==0:\n        return 0.0\n\n    return score / min(len(actual), k)\n\ndef mapk(actual, predicted, k=10):\n    \"\"\"\n    Computes the mean average precision at k.\n    This function computes the mean average prescision at k between two lists\n    of lists of items.\n    Parameters\n    ----------\n    actual : list\n             A list of lists of elements that are to be predicted \n             (order doesn't matter in the lists)\n    predicted : list\n                A list of lists of predicted elements\n                (order matters in the lists)\n    k : int, optional\n        The maximum number of predicted elements\n    Returns\n    -------\n    score : double\n            The mean average precision at k over the input lists\n    \"\"\"\n    return np.mean([apk(a,p,k) for a,p in zip(actual, predicted)])",
   "metadata": {
    "cell_id": "cc17ab7145dd4d19976b8371f3782415",
    "tags": [],
    "deepnote_to_be_reexecuted": false,
    "source_hash": "6e08758c",
    "execution_start": 1650029810299,
    "execution_millis": 3,
    "owner_user_id": "e51b70da-635e-4f15-8cdf-3826261e92bd",
    "deepnote_cell_type": "code",
    "deepnote_cell_height": 1053
   },
   "outputs": [],
   "execution_count": 6
  },
  {
   "cell_type": "markdown",
   "source": "# Load data",
   "metadata": {
    "cell_id": "31a0304c8bdf4b1fa943c414526df69c",
    "tags": [],
    "deepnote_cell_type": "markdown",
    "deepnote_cell_height": 82
   },
   "outputs": [],
   "execution_count": null
  },
  {
   "cell_type": "code",
   "source": "import pandas as pd\nimport numpy as np\nimport warnings\nwarnings.filterwarnings('ignore')\nimport sqlite3\nfrom sklearn.model_selection import train_test_split",
   "metadata": {
    "cell_id": "d7488ed920d1444dac6a5beff7199bce",
    "tags": [],
    "deepnote_to_be_reexecuted": false,
    "source_hash": "e5537da4",
    "execution_start": 1650035621801,
    "execution_millis": 1560,
    "deepnote_cell_type": "code",
    "deepnote_cell_height": 171
   },
   "outputs": [],
   "execution_count": 56
  },
  {
   "cell_type": "code",
   "source": "from pathlib import Path\nBASE_PATH = Path('data')",
   "metadata": {
    "cell_id": "34822543b7ae4cffb430c8a24bc5fda0",
    "tags": [],
    "deepnote_to_be_reexecuted": false,
    "source_hash": "a28318d6",
    "execution_start": 1650029810309,
    "execution_millis": 3,
    "deepnote_cell_type": "code",
    "deepnote_cell_height": 99
   },
   "outputs": [],
   "execution_count": 8
  },
  {
   "cell_type": "code",
   "source": "def get_tables(conn):\n    cursorObj = conn.cursor()\n    cursorObj.execute('SELECT name from sqlite_master where type= \"table\"')\n    return cursorObj.fetchall()",
   "metadata": {
    "cell_id": "467a58690de342c3a528f042b66c9cf1",
    "tags": [],
    "deepnote_to_be_reexecuted": false,
    "source_hash": "fc40516f",
    "execution_start": 1650029810317,
    "execution_millis": 44,
    "deepnote_cell_type": "code",
    "deepnote_cell_height": 135
   },
   "outputs": [],
   "execution_count": 9
  },
  {
   "cell_type": "code",
   "source": "triplets_df = pd.read_csv(BASE_PATH / 'triplets_file_unknown.csv')\nsongs_csv_df = pd.read_csv(BASE_PATH / 'SongCSV.csv')\nunique_tracks_df = pd.read_csv(BASE_PATH / 'unique_tracks.txt', sep='<SEP>', names=['track_id', 'song_id', 'artist_name', 'song_title'])\ntracks_per_year_df = pd.read_csv(BASE_PATH / 'tracks_per_year.txt', sep='<SEP>', names=['year', 'track_id', 'artist_name', 'song_title'])\nartist_location_df = pd.read_csv(BASE_PATH / 'artist_location.txt', sep='<SEP>', names=['artist_id', 'artist_latitude', 'artist_longitude', 'artist_name', 'artist_location'])",
   "metadata": {
    "cell_id": "ec37e312f71d495ca8824f49c2a4566f",
    "tags": [],
    "deepnote_to_be_reexecuted": false,
    "source_hash": "45044b71",
    "execution_start": 1650029810361,
    "execution_millis": 8684,
    "deepnote_cell_type": "code",
    "deepnote_cell_height": 153
   },
   "outputs": [],
   "execution_count": 10
  },
  {
   "cell_type": "code",
   "source": "track_metadata_db = sqlite3.connect(BASE_PATH / 'track_metadata.db')\nartist_term_db = sqlite3.connect(BASE_PATH / 'artist_term.db')\nartist_similarity_db = sqlite3.connect(BASE_PATH / 'artist_similarity.db')",
   "metadata": {
    "cell_id": "2ead6c545b924a1db4b33d252144aa7c",
    "tags": [],
    "deepnote_to_be_reexecuted": false,
    "source_hash": "da06f8f0",
    "execution_start": 1650029819048,
    "execution_millis": 4,
    "deepnote_cell_type": "code",
    "deepnote_cell_height": 117
   },
   "outputs": [],
   "execution_count": 11
  },
  {
   "cell_type": "code",
   "source": "songs_data_df = pd.read_sql_query(\"SELECT * FROM songs\", track_metadata_db)\nartist_term_df = pd.read_sql_query(\"SELECT * FROM artist_term\", artist_term_db).groupby('artist_id').agg(tuple).applymap(list).reset_index()\nartist_mbtag_df = pd.read_sql_query(\"SELECT * FROM artist_mbtag\", artist_term_db).groupby('artist_id').agg(tuple).applymap(list).reset_index()\nartist_similarity_df = pd.read_sql_query(\"SELECT * FROM similarity\", artist_similarity_db).groupby('target').agg(tuple).applymap(list).reset_index()\nsongs_data_df.drop_duplicates(['song_id'], inplace=True)",
   "metadata": {
    "cell_id": "c2a7189ea9724a739623e6d0e95da6c3",
    "tags": [],
    "deepnote_to_be_reexecuted": false,
    "source_hash": "569eea09",
    "execution_start": 1650029819055,
    "execution_millis": 14764,
    "deepnote_cell_type": "code",
    "deepnote_cell_height": 153
   },
   "outputs": [],
   "execution_count": 12
  },
  {
   "cell_type": "code",
   "source": "songs_csv_df",
   "metadata": {
    "cell_id": "717d7290a6334d8f811aadd9f0d555b0",
    "tags": [],
    "deepnote_to_be_reexecuted": false,
    "source_hash": "252c8a60",
    "execution_start": 1650029833823,
    "execution_millis": 126,
    "deepnote_cell_type": "code",
    "deepnote_cell_height": 600
   },
   "outputs": [
    {
     "output_type": "execute_result",
     "execution_count": 13,
     "data": {
      "application/vnd.deepnote.dataframe.v3+json": {
       "column_count": 29,
       "row_count": 10000,
       "columns": [
        {
         "name": "SongNumber",
         "dtype": "int64",
         "stats": {
          "unique_count": 10000,
          "nan_count": 0,
          "min": "1",
          "max": "10000",
          "histogram": [
           {
            "bin_start": 1,
            "bin_end": 1000.9,
            "count": 1000
           },
           {
            "bin_start": 1000.9,
            "bin_end": 2000.8,
            "count": 1000
           },
           {
            "bin_start": 2000.8,
            "bin_end": 3000.7,
            "count": 1000
           },
           {
            "bin_start": 3000.7,
            "bin_end": 4000.6,
            "count": 1000
           },
           {
            "bin_start": 4000.6,
            "bin_end": 5000.5,
            "count": 1000
           },
           {
            "bin_start": 5000.5,
            "bin_end": 6000.4,
            "count": 1000
           },
           {
            "bin_start": 6000.4,
            "bin_end": 7000.3,
            "count": 1000
           },
           {
            "bin_start": 7000.3,
            "bin_end": 8000.2,
            "count": 1000
           },
           {
            "bin_start": 8000.2,
            "bin_end": 9000.1,
            "count": 1000
           },
           {
            "bin_start": 9000.1,
            "bin_end": 10000,
            "count": 1000
           }
          ]
         }
        },
        {
         "name": "SongID",
         "dtype": "object",
         "stats": {
          "unique_count": 10000,
          "nan_count": 0,
          "categories": [
           {
            "name": "SOMJBYD12A6D4F8557",
            "count": 1
           },
           {
            "name": "SOQHXMF12AB0182363",
            "count": 1
           },
           {
            "name": "9998 others",
            "count": 9998
           }
          ]
         }
        },
        {
         "name": "AlbumID",
         "dtype": "int64",
         "stats": {
          "unique_count": 8116,
          "nan_count": 0,
          "min": "63",
          "max": "823599",
          "histogram": [
           {
            "bin_start": 63,
            "bin_end": 82416.6,
            "count": 1453
           },
           {
            "bin_start": 82416.6,
            "bin_end": 164770.2,
            "count": 998
           },
           {
            "bin_start": 164770.2,
            "bin_end": 247123.80000000002,
            "count": 1077
           },
           {
            "bin_start": 247123.80000000002,
            "bin_end": 329477.4,
            "count": 1428
           },
           {
            "bin_start": 329477.4,
            "bin_end": 411831,
            "count": 772
           },
           {
            "bin_start": 411831,
            "bin_end": 494184.60000000003,
            "count": 800
           },
           {
            "bin_start": 494184.60000000003,
            "bin_end": 576538.2000000001,
            "count": 1011
           },
           {
            "bin_start": 576538.2000000001,
            "bin_end": 658891.8,
            "count": 964
           },
           {
            "bin_start": 658891.8,
            "bin_end": 741245.4,
            "count": 745
           },
           {
            "bin_start": 741245.4,
            "bin_end": 823599,
            "count": 752
           }
          ]
         }
        },
        {
         "name": "AlbumName",
         "dtype": "object",
         "stats": {
          "unique_count": 7834,
          "nan_count": 0,
          "categories": [
           {
            "name": "Greatest Hits",
            "count": 21
           },
           {
            "name": "Live",
            "count": 15
           },
           {
            "name": "7832 others",
            "count": 9964
           }
          ]
         }
        },
        {
         "name": "ArtistID",
         "dtype": "object",
         "stats": {
          "unique_count": 3888,
          "nan_count": 0,
          "categories": [
           {
            "name": "AROIHOI122988FEB8E",
            "count": 13
           },
           {
            "name": "ARX9YIP1187B98A656",
            "count": 12
           },
           {
            "name": "3886 others",
            "count": 9975
           }
          ]
         }
        },
        {
         "name": "MusicbrainzID",
         "dtype": "object",
         "stats": {
          "unique_count": 3488,
          "nan_count": 719,
          "categories": [
           {
            "name": "5ecc3f72-20a6-47a0-8dc5-fb0b3dadeea0",
            "count": 12
           },
           {
            "name": "3487 others",
            "count": 9269
           },
           {
            "name": "Missing",
            "count": 719
           }
          ]
         }
        },
        {
         "name": "PlayMeID",
         "dtype": "int64",
         "stats": {
          "unique_count": 1915,
          "nan_count": 0,
          "min": "-1",
          "max": "242965",
          "histogram": [
           {
            "bin_start": -1,
            "bin_end": 24295.6,
            "count": 7231
           },
           {
            "bin_start": 24295.6,
            "bin_end": 48592.2,
            "count": 691
           },
           {
            "bin_start": 48592.2,
            "bin_end": 72888.79999999999,
            "count": 861
           },
           {
            "bin_start": 72888.79999999999,
            "bin_end": 97185.4,
            "count": 422
           },
           {
            "bin_start": 97185.4,
            "bin_end": 121482,
            "count": 206
           },
           {
            "bin_start": 121482,
            "bin_end": 145778.59999999998,
            "count": 148
           },
           {
            "bin_start": 145778.59999999998,
            "bin_end": 170075.19999999998,
            "count": 221
           },
           {
            "bin_start": 170075.19999999998,
            "bin_end": 194371.8,
            "count": 154
           },
           {
            "bin_start": 194371.8,
            "bin_end": 218668.4,
            "count": 63
           },
           {
            "bin_start": 218668.4,
            "bin_end": 242965,
            "count": 3
           }
          ]
         }
        },
        {
         "name": "7DigitalID",
         "dtype": "int64",
         "stats": {
          "unique_count": 3867,
          "nan_count": 0,
          "min": "-1",
          "max": "809205",
          "histogram": [
           {
            "bin_start": -1,
            "bin_end": 80919.6,
            "count": 6115
           },
           {
            "bin_start": 80919.6,
            "bin_end": 161840.2,
            "count": 1237
           },
           {
            "bin_start": 161840.2,
            "bin_end": 242760.80000000002,
            "count": 967
           },
           {
            "bin_start": 242760.80000000002,
            "bin_end": 323681.4,
            "count": 596
           },
           {
            "bin_start": 323681.4,
            "bin_end": 404602,
            "count": 489
           },
           {
            "bin_start": 404602,
            "bin_end": 485522.60000000003,
            "count": 290
           },
           {
            "bin_start": 485522.60000000003,
            "bin_end": 566443.2000000001,
            "count": 196
           },
           {
            "bin_start": 566443.2000000001,
            "bin_end": 647363.8,
            "count": 88
           },
           {
            "bin_start": 647363.8,
            "bin_end": 728284.4,
            "count": 3
           },
           {
            "bin_start": 728284.4,
            "bin_end": 809205,
            "count": 19
           }
          ]
         }
        },
        {
         "name": "ArtistFamiliarity",
         "dtype": "float64",
         "stats": {
          "unique_count": 4047,
          "nan_count": 4,
          "min": "0.0",
          "max": "1.0",
          "histogram": [
           {
            "bin_start": 0,
            "bin_end": 0.1,
            "count": 132
           },
           {
            "bin_start": 0.1,
            "bin_end": 0.2,
            "count": 57
           },
           {
            "bin_start": 0.2,
            "bin_end": 0.30000000000000004,
            "count": 198
           },
           {
            "bin_start": 0.30000000000000004,
            "bin_end": 0.4,
            "count": 870
           },
           {
            "bin_start": 0.4,
            "bin_end": 0.5,
            "count": 2087
           },
           {
            "bin_start": 0.5,
            "bin_end": 0.6000000000000001,
            "count": 2660
           },
           {
            "bin_start": 0.6000000000000001,
            "bin_end": 0.7000000000000001,
            "count": 2050
           },
           {
            "bin_start": 0.7000000000000001,
            "bin_end": 0.8,
            "count": 1074
           },
           {
            "bin_start": 0.8,
            "bin_end": 0.9,
            "count": 738
           },
           {
            "bin_start": 0.9,
            "bin_end": 1,
            "count": 130
           }
          ]
         }
        },
        {
         "name": "ArtistLatitude",
         "dtype": "float64",
         "stats": {
          "unique_count": 622,
          "nan_count": 6258,
          "min": "-41.28054",
          "max": "69.65102",
          "histogram": [
           {
            "bin_start": -41.28054,
            "bin_end": -30.187384,
            "count": 64
           },
           {
            "bin_start": -30.187384,
            "bin_end": -19.094228,
            "count": 41
           },
           {
            "bin_start": -19.094228,
            "bin_end": -8.001072,
            "count": 18
           },
           {
            "bin_start": -8.001072,
            "bin_end": 3.092084,
            "count": 17
           },
           {
            "bin_start": 3.092084,
            "bin_end": 14.18524,
            "count": 33
           },
           {
            "bin_start": 14.18524,
            "bin_end": 25.278396,
            "count": 150
           },
           {
            "bin_start": 25.278396,
            "bin_end": 36.37155200000001,
            "count": 1206
           },
           {
            "bin_start": 36.37155200000001,
            "bin_end": 47.464708,
            "count": 1461
           },
           {
            "bin_start": 47.464708,
            "bin_end": 58.557863999999995,
            "count": 670
           },
           {
            "bin_start": 58.557863999999995,
            "bin_end": 69.65102,
            "count": 82
           }
          ]
         }
        },
        {
         "name": "ArtistLocation",
         "dtype": "object"
        },
        {
         "name": "Title",
         "dtype": "object"
        },
        {
         "name": "Year",
         "dtype": "int64"
        },
        {
         "name": "ArtistLongitude",
         "dtype": "float64"
        },
        {
         "name": "ArtistName",
         "dtype": "object"
        },
        {
         "name": "Danceability",
         "dtype": "float64"
        },
        {
         "name": "Duration",
         "dtype": "float64"
        },
        {
         "name": "Hotness",
         "dtype": "float64"
        },
        {
         "name": "Energy",
         "dtype": "float64"
        },
        {
         "name": "KeySignature",
         "dtype": "int64"
        },
        {
         "name": "KeySignatureConfidence",
         "dtype": "float64"
        },
        {
         "name": "Mode",
         "dtype": "int64"
        },
        {
         "name": "ModeConfidence",
         "dtype": "float64"
        },
        {
         "name": "Tempo",
         "dtype": "float64"
        },
        {
         "name": "TimeSignature",
         "dtype": "int64"
        },
        {
         "name": "TimeSignatureConfidence",
         "dtype": "float64"
        },
        {
         "name": "ArtistTerms",
         "dtype": "object"
        },
        {
         "name": "ArtistTermsFrequency",
         "dtype": "object"
        },
        {
         "name": "StartOfFadeOut",
         "dtype": "float64"
        },
        {
         "name": "_deepnote_index_column",
         "dtype": "int64"
        }
       ],
       "rows": [
        {
         "SongNumber": 1,
         "SongID": "SOMJBYD12A6D4F8557",
         "AlbumID": 25824,
         "AlbumName": "Da Ghetto Psychic",
         "ArtistID": "ARD0S291187B9B7BF5",
         "MusicbrainzID": "56503d6d-094e-4c28-ae3d-04cc748ade5b",
         "PlayMeID": -1,
         "7DigitalID": 17970,
         "ArtistFamiliarity": 0.5564956019129572,
         "ArtistLatitude": "nan",
         "ArtistLocation": "Ohio",
         "Title": "Keepin It Real (Skit)",
         "Year": 0,
         "ArtistLongitude": "nan",
         "ArtistName": "Rated R",
         "Danceability": 0,
         "Duration": 114.78159,
         "Hotness": "nan",
         "Energy": 0,
         "KeySignature": 1,
         "KeySignatureConfidence": 0,
         "Mode": 1,
         "ModeConfidence": 0,
         "Tempo": 111.787,
         "TimeSignature": 1,
         "TimeSignatureConfidence": 0,
         "ArtistTerms": "['breakbeat' 'dirty south rap' 'hip hop' 'electronic' 'trance' 'electro' 'rap' 'soul' 'united states' 'urban' 'southern rap' 'up beat' 'ohio' 'r&b']",
         "ArtistTermsFrequency": "[1.0 0.8386187613378114 0.9353130749575775 0.9420978869542835 0.8386187613378114 0.8386187613378114 0.8386187613378114 0.8077434820589324 0.55606549151413 0.5521102312382574 0.48210997092375263 0.47670088815062556 0.46169854484558487 0.1788852402378912]",
         "StartOfFadeOut": 114.782,
         "_deepnote_index_column": 0
        },
        {
         "SongNumber": 2,
         "SongID": "SOQHXMF12AB0182363",
         "AlbumID": 539081,
         "AlbumName": "I Need You",
         "ArtistID": "ARGSJW91187B9B1D6B",
         "MusicbrainzID": "eb722df4-372e-4742-8586-f7ff658012d6",
         "PlayMeID": -1,
         "7DigitalID": 60488,
         "ArtistFamiliarity": 0.3600311664643514,
         "ArtistLatitude": 35.21962,
         "ArtistLocation": "North Carolina",
         "Title": "Young Boy Blues",
         "Year": 0,
         "ArtistLongitude": -80.01955,
         "ArtistName": "JennyAnyKind",
         "Danceability": 0,
         "Duration": 218.77506,
         "Hotness": 0,
         "Energy": 0,
         "KeySignature": 5,
         "KeySignatureConfidence": 0.354,
         "Mode": 0,
         "ModeConfidence": 0.485,
         "Tempo": 146.765,
         "TimeSignature": 1,
         "TimeSignatureConfidence": 0,
         "ArtistTerms": "['alternative rock' 'indie rock' 'rock' 'alternative pop rock' 'alternative' 'north carolina' 'united states' 'religious music' 'swamp rock' 'blues' 'blues-rock' 'slide' 'roots rock' 'rockabilly' 'california' 'south carolina' 'jazz' 'punk' 'psychedelic' 'pop' 'american' 'guitar' 'world' 'ambient' 'piano' 'instrumental' 'bass' 'british' 'classic' 'country' 'retro' 'indie' 'lyrics' 'group' 'percussion' 'holland' '90s' 'soul' 'acoustic' 'roots' 'groove' 'new york' 'energy' 'drummer' 'producer' 'mix' 'pretty' 'british rock' 'jam' 'east coast' 'vocal']",
         "ArtistTermsFrequency": "[0.9560807508575261 0.9213064099169126 1.0 0.6876023854448787 0.7741506495750831 0.45897971441575836 0.4536324736850199 0.42867016730466917 0.42867016730466917 0.5401504420941258 0.3790776986317445 0.3790776986317445 0.3790776986317445 0.42867016730466917 0.3790776986317445 0.2784473220518453 0.45767990179651885 0.4442048023963675 0.31869433353148385 0.4002837443597801 0.3258153584417911 0.2621161439627327 0.2707466915192447 0.30890249577774476 0.21433508365233458 0.28800106704469675 0.13922366102592265 0.24796234336462344 0.18351394079795838 0.22115422284632003 0.09918493734584938 0.3413272598124 0.07860220316477431 0.07860220316477431 0.04959246867292469 0.04959246867292469 0.20679687500247332 0.217825864190697 0.20679687500247332 0.07860220316477431 0.07860220316477431 0.09918493734584938 0.0 0.0 0.0 0.0 0.0 0.0 0.0 0.0 0.0]",
         "StartOfFadeOut": 207.012,
         "_deepnote_index_column": 1
        },
        {
         "SongNumber": 3,
         "SongID": "SONHOTT12A8C13493C",
         "AlbumID": 287650,
         "AlbumName": "Friend Or Foe",
         "ArtistID": "AR7G5I41187FB4CE6C",
         "MusicbrainzID": "e188a520-9cb7-4f73-a3d7-2f70c6538e92",
         "PlayMeID": 12697,
         "7DigitalID": 19072,
         "ArtistFamiliarity": 0.6303823341467806,
         "ArtistLatitude": "nan",
         "ArtistLocation": "London England",
         "Title": "Something Girls",
         "Year": 1982,
         "ArtistLongitude": "nan",
         "ArtistName": "Adam Ant",
         "Danceability": 0,
         "Duration": 233.40363,
         "Hotness": "nan",
         "Energy": 0,
         "KeySignature": 0,
         "KeySignatureConfidence": 0.751,
         "Mode": 1,
         "ModeConfidence": 0.749,
         "Tempo": 119.293,
         "TimeSignature": 4,
         "TimeSignatureConfidence": 0,
         "ArtistTerms": "['pop rock' 'new wave' 'dance rock' 'rock' 'new romantic' 'europop' 'beat' 'british pop' 'louisiana blues' 'gothic rock' 'glam rock' 'alternative rock' 'synthpop' 'techno' 'electronic' 'punk' 'acid jazz' 'ska' 'classic rock' 'pop' 'soundtrack' 'united states' 'singer-songwriter' 'house' 'blues' 'germany' 'acid' 'dance' 'british' '80s' 'jazz' 'male vocalist' 'female vocalist' 'european' 'alternative' 'instrumental' 'sexy' 'classical' 'gothic' 'english' 'indie' 'hardcore' 'industrial']",
         "ArtistTermsFrequency": "[0.9885838625154639 0.9672504640243684 0.8206040523080153 1.0 0.7745584428009754 0.7525238208462517 0.7525238208462517 0.714855385813991 0.714855385813991 0.7525238208462517 0.714855385813991 0.8342614997879598 0.7649001644702876 0.8122268778332362 0.8721665382418053 0.8347462498678688 0.714855385813991 0.7525238208462517 0.7525238208462517 0.8284987265479213 0.7525238208462517 0.6029687430533816 0.7525238208462517 0.7335228174379457 0.714855385813991 0.624369058568575 0.5758003087414556 0.714855385813991 0.6666733098066638 0.6813541177316764 0.714855385813991 0.5787454850316545 0.6345626263390687 0.5509555020919391 0.6939416434923211 0.6461795073847096 0.5625218099680268 0.6177156403490571 0.5903494918597444 0.5604743871847936 0.6615719439671021 0.6192523081298575 0.5907672899278631]",
         "StartOfFadeOut": 217.124,
         "_deepnote_index_column": 2
        },
        {
         "SongNumber": 4,
         "SongID": "SOUDSGM12AC9618304",
         "AlbumID": 692313,
         "AlbumName": "Superinstrumental",
         "ArtistID": "ARNTLGG11E2835DDB9",
         "MusicbrainzID": "4d96f7d0-2f0e-4e92-ba70-a405f96f8cec",
         "PlayMeID": -1,
         "7DigitalID": 242273,
         "ArtistFamiliarity": 0.5505136978482137,
         "ArtistLatitude": "nan",
         "ArtistLocation": "nan",
         "Title": "Insatiable (Instrumental Version)",
         "Year": 0,
         "ArtistLongitude": "nan",
         "ArtistName": "Clp",
         "Danceability": 0,
         "Duration": 266.39628,
         "Hotness": "nan",
         "Energy": 0,
         "KeySignature": 7,
         "KeySignatureConfidence": 0.053,
         "Mode": 0,
         "ModeConfidence": 0.473,
         "Tempo": 114.041,
         "TimeSignature": 4,
         "TimeSignatureConfidence": 0.878,
         "ArtistTerms": "['breakcore' 'miami bass' 'new rave' 'grime' 'breakbeat' 'hip hop' 'electro' 'techno' 'intelligent dance music' 'electronic' 'experimental' 'germany' 'abstract' 'rock' 'house' 'electro house' 'fm4' 'electro-funk' 'sxsw 2009' 'ghetto tech' 'spank rock']",
         "ArtistTermsFrequency": "[0.9156017479341086 0.862352379556314 0.862352379556314 0.862352379556314 0.9156017479341086 1.0 0.9467506316222054 0.9156017479341086 0.7085242087203794 0.9230874373703177 0.7985973815680446 0.6500320490448592 0.5675430294934901 0.862352379556314 0.6978377677523192 0.5044688473643144 0.4153929924491569 0.3645180214492646 0.3145381932928882 0.24414635719927494 0.13764762044368584]",
         "StartOfFadeOut": 261.747,
         "_deepnote_index_column": 3
        },
        {
         "SongNumber": 5,
         "SongID": "SOHKNRJ12A6701D1F8",
         "AlbumID": 8876,
         "AlbumName": "Gin & Phonic",
         "ArtistID": "AR10USD1187B99F3F1",
         "MusicbrainzID": "d89de379-665d-425c-b2e9-41b95d1edb36",
         "PlayMeID": -1,
         "7DigitalID": 21128,
         "ArtistFamiliarity": 0.8011364469966873,
         "ArtistLatitude": "nan",
         "ArtistLocation": "Burlington Ontario Canada",
         "Title": "Drop of Rain",
         "Year": 0,
         "ArtistLongitude": "nan",
         "ArtistName": "Tweeterfriendly Music",
         "Danceability": 0,
         "Duration": 189.57016,
         "Hotness": "nan",
         "Energy": 0,
         "KeySignature": 4,
         "KeySignatureConfidence": 0,
         "Mode": 0,
         "ModeConfidence": 0.16,
         "Tempo": 101.43,
         "TimeSignature": 3,
         "TimeSignatureConfidence": 0.408,
         "ArtistTerms": "['post-hardcore' 'screamo' 'emo' 'hardcore' 'punk revival' 'rock' 'acoustic' 'emotional' 'pop' 'metal' 'heavy' 'melodic']",
         "ArtistTermsFrequency": "[0.999818045125181 0.9999454585723618 1.0 0.8109739338258031 0.476412716857685 0.479562828797043 0.33316772035082254 0.10697621391972122 0.37795173440712015 0.3472369327841839 0.1241955382924406 0.1695532875318827]",
         "StartOfFadeOut": 181.023,
         "_deepnote_index_column": 4
        },
        {
         "SongNumber": 6,
         "SongID": "SOFSOCN12A8C143F5D",
         "AlbumID": 611336,
         "AlbumName": "Muertos Vivos",
         "ArtistID": "ARXR32B1187FB57099",
         "MusicbrainzID": "c6903a2e-063c-4f91-a284-17b8f421be7b",
         "PlayMeID": 8355,
         "7DigitalID": 30973,
         "ArtistFamiliarity": 0.6510456608317947,
         "ArtistLatitude": "nan",
         "ArtistLocation": "nan",
         "Title": "Face the Ashes",
         "Year": 2007,
         "ArtistLongitude": "nan",
         "ArtistName": "Gob",
         "Danceability": 0,
         "Duration": 209.60608,
         "Hotness": 0.6045007385888197,
         "Energy": 0,
         "KeySignature": 2,
         "KeySignatureConfidence": 0.092,
         "Mode": 1,
         "ModeConfidence": 0.371,
         "Tempo": 129.738,
         "TimeSignature": 4,
         "TimeSignatureConfidence": 0.562,
         "ArtistTerms": "['pop punk' 'ska punk' 'breakcore' 'alternative metal' 'punk pop' 'grunge' 'rock' 'punk' 'punk revival' 'grindcore' 'soundtrack' 'pop rock' 'ska' 'alternative rock' 'classic rock' 'emo' 'death metal' 'hard rock' 'hip hop' 'techno' 'rap' 'pop' 'alternative' 'singer-songwriter' 'indie' 'canadian' 'canada' 'underground' 'hardcore' 'energetic' 'metal' 'electronic' 'experimental' '90s' 'japanese' 'english' 'crossover' 'japan']",
         "ArtistTermsFrequency": "[0.8872883012773332 0.7902037283563664 0.7902037283563664 0.7902037283563664 0.7298235181172039 0.7902037283563664 1.0 0.9369366980851821 0.7114075432511785 0.7902037283563664 0.8387460148168497 0.7902037283563664 0.7902037283563664 0.8387460148168497 0.7902037283563664 0.7902037283563664 0.7902037283563664 0.7902037283563664 0.7935912177141466 0.7902037283563664 0.7902037283563664 0.8503633985366928 0.8509856095979667 0.7902037283563664 0.834250462702003 0.702697492746388 0.6158954562400898 0.5952443764096657 0.7439390122525411 0.5174172780070122 0.6864863383876639 0.7328570467616656 0.6835393230347813 0.6222238967664305 0.6288880528638537 0.5426983496496669 0.5071754546696333 0.52695793444723]",
         "StartOfFadeOut": 198.699,
         "_deepnote_index_column": 5
        },
        {
         "SongNumber": 7,
         "SongID": "SOMZWCG12A8C13C480",
         "AlbumID": 300848,
         "AlbumName": "Fear Itself",
         "ArtistID": "ARD7TVE1187B99BFB1",
         "MusicbrainzID": "e77e51a5-4761-45b3-9847-2051f811e366",
         "PlayMeID": 4479,
         "7DigitalID": 165270,
         "ArtistFamiliarity": 0.5817937658450281,
         "ArtistLatitude": "nan",
         "ArtistLocation": "California - LA",
         "Title": "I Didn't Mean To",
         "Year": 0,
         "ArtistLongitude": "nan",
         "ArtistName": "Casual",
         "Danceability": 0,
         "Duration": 218.93179,
         "Hotness": 0.6021199899057548,
         "Energy": 0,
         "KeySignature": 1,
         "KeySignatureConfidence": 0.736,
         "Mode": 0,
         "ModeConfidence": 0.636,
         "Tempo": 92.198,
         "TimeSignature": 4,
         "TimeSignatureConfidence": 0.778,
         "ArtistTerms": "['hip hop' 'underground rap' 'g funk' 'alternative rap' 'gothic rock' 'west coast rap' 'rap' 'club dance' 'singer-songwriter' 'chill-out' 'underground hip hop' 'rock' 'gothic' 'san francisco bay area' 'indie' 'american' 'punk' 'california' 'industrial' 'new york' '90s' 'latin' 'spanish' 'dark' 'ebm' 'underground' 'deathrock' 'west coast' 'san francisco' 'producer' 'oakland' 'catalan' 'barcelona' 'doomsdope' 'norcal' 'west coast hip hop' 'alternative rock']",
         "ArtistTermsFrequency": "[1.0 0.7761362332679642 0.7296697949672141 0.6830107158282134 0.7301332762308231 0.6715377030793014 0.8083483901469112 0.6336554489803278 0.7296697949672141 0.5663102013197745 0.5759258385798982 0.7690090925570626 0.582087746409723 0.4749355716499123 0.6740227553436094 0.6164051081024474 0.6496493612454938 0.5161409423063581 0.6000770981482347 0.5198061910954237 0.5935399705256396 0.565118012646984 0.5520548486604197 0.5326066927067906 0.5395805281010101 0.5093150105763604 0.4518840212787631 0.4484605951362275 0.4332014365598537 0.43225919972096083 0.4269922443136836 0.40636693219179193 0.3687219278692627 0.3558001117813183 0.33148333675607794 0.2880395082562467 0.32120170338191056]",
         "StartOfFadeOut": 218.932,
         "_deepnote_index_column": 6
        },
        {
         "SongNumber": 8,
         "SongID": "SOIAZJW12AB01853F1",
         "AlbumID": 358182,
         "AlbumName": "Pink World",
         "ArtistID": "AR8ZCNI1187B9A069B",
         "MusicbrainzID": "19d232b9-b4d7-4dc8-b259-bf65efb655b1",
         "PlayMeID": -1,
         "7DigitalID": 276891,
         "ArtistFamiliarity": 0.4266678570694052,
         "ArtistLatitude": "nan",
         "ArtistLocation": "nan",
         "Title": "Pink World",
         "Year": 1984,
         "ArtistLongitude": "nan",
         "ArtistName": "Planet P Project",
         "Danceability": 0,
         "Duration": 269.81832,
         "Hotness": 0.26586104921065,
         "Energy": 0,
         "KeySignature": 4,
         "KeySignatureConfidence": 0.717,
         "Mode": 1,
         "ModeConfidence": 0.652,
         "Tempo": 86.643,
         "TimeSignature": 4,
         "TimeSignatureConfidence": 0.487,
         "ArtistTerms": "['new wave' 'progressive rock' 'space rock' 'eurodance' 'hard rock' 'rock' 'techno' 'europop' '80s' 'progressive' 'germany' 'german' 'guitar' 'melodic rock' 'aor' 'instrumental' 'electronic' 'beautiful' 'remix' 'mysterious' 'synth rock' 'cosmic' 'sci-fi' 'alternative rock']",
         "ArtistTermsFrequency": "[0.9597662463337814 0.9703900453200297 0.8219934197412216 0.8219934197412216 0.8813289464941477 1.0 0.8219934197412216 0.5984662058137651 0.7692138550778111 0.7262430259773365 0.6200669496285443 0.6853411057868679 0.6360913399855244 0.4795585706643888 0.47022292431962415 0.654469515932735 0.751885684214568 0.5454295362137607 0.45005774538148147 0.370724070124275 0.3043487096752676 0.26460272411049796 0.25644388009841207 0.26460272411049796]",
         "StartOfFadeOut": 258.99,
         "_deepnote_index_column": 7
        },
        {
         "SongNumber": 9,
         "SongID": "SOCIWDW12A8C13D406",
         "AlbumID": 300822,
         "AlbumName": "Dimensions",
         "ArtistID": "ARMJAGH1187FB546F3",
         "MusicbrainzID": "1c78ab62-db33-4433-8d0b-7c8dcf1849c2",
         "PlayMeID": 22066,
         "7DigitalID": 1998,
         "ArtistFamiliarity": 0.6306300375898077,
         "ArtistLatitude": 35.14968,
         "ArtistLocation": "Memphis TN",
         "Title": "Soul Deep",
         "Year": 1969,
         "ArtistLongitude": -90.04892,
         "ArtistName": "The Box Tops",
         "Danceability": 0,
         "Duration": 148.03546,
         "Hotness": "nan",
         "Energy": 0,
         "KeySignature": 6,
         "KeySignatureConfidence": 0.169,
         "Mode": 0,
         "ModeConfidence": 0.43,
         "Tempo": 121.274,
         "TimeSignature": 4,
         "TimeSignatureConfidence": 0.384,
         "ArtistTerms": "['blue-eyed soul' 'pop rock' 'blues-rock' 'beach music' 'soft rock' 'soul' 'classic rock' 'oldies' 'power pop' 'psychedelic rock' 'rock' 'sunshine pop' 'blues' 'singer-songwriter' 'pop' 'united states' 'male vocalist' \"rock 'n roll\" '60s' 'am pop' 'r&b' 'american' 'male' 'psychedelic' 'classic' 'vocal' 'americana' 'game music' 'mod' 'trippy' 'french' 'germany' 'canada' '70s' 'belgium' 'cover' 'nederland' 'confident']",
         "ArtistTermsFrequency": "[1.0 0.8931999928346939 0.7860602885494408 0.7463853779911688 0.7695937128872237 0.8628799606506409 0.8439631074847896 0.8092686234454958 0.7695937128872237 0.7695937128872237 0.9118267794580948 0.6501517243983079 0.7695937128872237 0.7695937128872237 0.8031988540202825 0.5968239797525078 0.6262336919130003 0.5662248075883571 0.6356498802822715 0.5314506814091652 0.5392563426803021 0.6718294007382637 0.567608670078514 0.6420204229971946 0.5753171356456214 0.5783066543079616 0.5802623681156664 0.5031792646776605 0.4977586414588282 0.49154684730168435 0.563552961518182 0.5088448657261593 0.47212090363521414 0.530943691409788 0.4694374634332361 0.4393655720443572 0.41932040637864076 0.41299165435735063]",
         "StartOfFadeOut": 137.915,
         "_deepnote_index_column": 8
        },
        {
         "SongNumber": 10,
         "SongID": "SOYMRWW12A6D4FAB14",
         "AlbumID": 41838,
         "AlbumName": "Ordinary Day",
         "ArtistID": "ARKFYS91187B98E58F",
         "MusicbrainzID": "79c403f9-5467-4f23-8426-9ca3fc60a115",
         "PlayMeID": 63801,
         "7DigitalID": 432935,
         "ArtistFamiliarity": 0.5352927355118197,
         "ArtistLatitude": "nan",
         "ArtistLocation": "nan",
         "Title": "The Moon And I (Ordinary Day Album Version)",
         "Year": 0,
         "ArtistLongitude": "nan",
         "ArtistName": "Jeff And Sheri Easter",
         "Danceability": 0,
         "Duration": 267.7024,
         "Hotness": "nan",
         "Energy": 0,
         "KeySignature": 5,
         "KeySignatureConfidence": 0.635,
         "Mode": 1,
         "ModeConfidence": 0.557,
         "Tempo": 147.782,
         "TimeSignature": 3,
         "TimeSignatureConfidence": 0.454,
         "ArtistTerms": "['southern gospel' 'bluegrass' 'gospel' 'ballad' 'california' 'dance' 'country' 'beautiful' 'progressive' 'classic' 'roots' 'party music' 'united states' 'christian' 'hypnotic' 'world' 'male' 'group' 'southern' 'slow' 'songs' 'melodic' 'powerful' 'poetic' 'melancholia' 'praise' 'free' 'americana' 'duo' 'modern' 'introspective' 'voice' 'uplifting' 'influential' 'original']",
         "ArtistTermsFrequency": "[1.0 0.8776784423307522 0.5756383007306756 0.4722196395443228 0.45172824207207146 0.45172824207207146 0.3185407289028719 0.2925733230620247 0.307655160455859 0.2604954440391397 0.21154787477577613 0.15516012356776548 0.1468427077900907 0.2447378463168179 0.12652763104724632 0.2803677831847692 0.20007137053352586 0.113652736249049 0.113652736249049 0.09789513852672715 0.09789513852672715 0.15516012356776548 0.07758006178388274 0.07758006178388274 0.07758006178388274 0.07758006178388274 0.04894756926336358 0.13741319949425923 0.0 0.0 0.0 0.0 0.0 0.0 0.0]",
         "StartOfFadeOut": 254.27,
         "_deepnote_index_column": 9
        }
       ]
      },
      "text/plain": "      SongNumber              SongID  AlbumID  \\\n0              1  SOMJBYD12A6D4F8557    25824   \n1              2  SOQHXMF12AB0182363   539081   \n2              3  SONHOTT12A8C13493C   287650   \n3              4  SOUDSGM12AC9618304   692313   \n4              5  SOHKNRJ12A6701D1F8     8876   \n...          ...                 ...      ...   \n9995        9996  SOJZLAJ12AB017E8A2   346402   \n9996        9997  SOFAOMI12A6D4FA2D8    64501   \n9997        9998  SOUWMIW12AB0184748   760072   \n9998        9999  SOJARSR12AB0184939   637025   \n9999       10000  SOILDRV12A8C13EB77   171957   \n\n                            AlbumName            ArtistID  \\\n0                   Da Ghetto Psychic  ARD0S291187B9B7BF5   \n1                          I Need You  ARGSJW91187B9B1D6B   \n2                       Friend Or Foe  AR7G5I41187FB4CE6C   \n3                   Superinstrumental  ARNTLGG11E2835DDB9   \n4                        Gin & Phonic  AR10USD1187B99F3F1   \n...                               ...                 ...   \n9995                          Reality  ARS1DCR1187B9A4A56   \n9996       Once Upon A Shattered Life  ARYXOV81187B99831D   \n9997  The Unforgettable Grandpa Jones  ARQ91R31187FB38A88   \n9998                     Gift Grub 10  AROIHOI122988FEB8E   \n9999                The Sporting Life  ARUUP4L1187B9B72EB   \n\n                             MusicbrainzID  PlayMeID  7DigitalID  \\\n0     56503d6d-094e-4c28-ae3d-04cc748ade5b        -1       17970   \n1     eb722df4-372e-4742-8586-f7ff658012d6        -1       60488   \n2     e188a520-9cb7-4f73-a3d7-2f70c6538e92     12697       19072   \n3     4d96f7d0-2f0e-4e92-ba70-a405f96f8cec        -1      242273   \n4     d89de379-665d-425c-b2e9-41b95d1edb36        -1       21128   \n...                                    ...       ...         ...   \n9995  0159799c-ef7f-4c37-a011-25b6572c0f62        -1        7562   \n9996  56e7a15e-8b19-4f09-b3e7-c5fb830e3120      7399       39252   \n9997  8488e884-f8b9-4c31-a6ec-a92be00d450f     23838       39299   \n9998                                   NaN        -1       15464   \n9999  f569a00a-a5d4-4269-b383-e125a0b515a4     76104       11354   \n\n      ArtistFamiliarity  ArtistLatitude  ... KeySignature  \\\n0              0.556496             NaN  ...            1   \n1              0.360031        35.21962  ...            5   \n2              0.630382             NaN  ...            0   \n3              0.550514             NaN  ...            7   \n4              0.801136             NaN  ...            4   \n...                 ...             ...  ...          ...   \n9995           0.433508             NaN  ...            1   \n9996           0.609182             NaN  ...            2   \n9997           0.450646        37.82245  ...            2   \n9998           0.334543             NaN  ...            7   \n9999           0.598237        32.71568  ...            5   \n\n     KeySignatureConfidence  Mode  ModeConfidence    Tempo  TimeSignature  \\\n0                     0.000     1           0.000  111.787              1   \n1                     0.354     0           0.485  146.765              1   \n2                     0.751     1           0.749  119.293              4   \n3                     0.053     0           0.473  114.041              4   \n4                     0.000     0           0.160  101.430              3   \n...                     ...   ...             ...      ...            ...   \n9995                  0.931     1           0.565  118.123              4   \n9996                  0.315     0           0.406  150.575              4   \n9997                  0.101     1           0.394  119.271              4   \n9998                  0.546     1           0.630   90.050              4   \n9999                  0.860     1           0.562  162.133              4   \n\n      TimeSignatureConfidence  \\\n0                       0.000   \n1                       0.000   \n2                       0.000   \n3                       0.878   \n4                       0.408   \n...                       ...   \n9995                    0.205   \n9996                    0.317   \n9997                    0.150   \n9998                    0.433   \n9999                    0.668   \n\n                                            ArtistTerms  \\\n0     ['breakbeat' 'dirty south rap' 'hip hop' 'elec...   \n1     ['alternative rock' 'indie rock' 'rock' 'alter...   \n2     ['pop rock' 'new wave' 'dance rock' 'rock' 'ne...   \n3     ['breakcore' 'miami bass' 'new rave' 'grime' '...   \n4     ['post-hardcore' 'screamo' 'emo' 'hardcore' 'p...   \n...                                                 ...   \n9995  ['lovers rock' 'reggae' 'roots reggae' 'dub' '...   \n9996  ['christian rock' 'christian alternative rock'...   \n9997  ['bluegrass' 'classic country' 'country gospel...   \n9998  ['irish' 'comedy' 'funny' 'parody' 'stand-up c...   \n9999  ['no wave' 'experimental rock' 'instrumental r...   \n\n                                   ArtistTermsFrequency  StartOfFadeOut  \n0     [1.0 0.8386187613378114 0.9353130749575775 0.9...         114.782  \n1     [0.9560807508575261 0.9213064099169126 1.0 0.6...         207.012  \n2     [0.9885838625154639 0.9672504640243684 0.82060...         217.124  \n3     [0.9156017479341086 0.862352379556314 0.862352...         261.747  \n4     [0.999818045125181 0.9999454585723618 1.0 0.81...         181.023  \n...                                                 ...             ...  \n9995  [0.9601150044322461 1.0 0.7945583536354357 0.8...         186.015  \n9996  [0.926219623593863 0.8377585867605521 0.837758...         193.167  \n9997  [1.0 0.962214591561547 0.9322226256056128 0.81...         136.615  \n9998  [0.9412616260534631 1.0 0.9250172052920823 0.8...         182.671  \n9999  [1.0 0.7882285359088065 0.7310643732886466 0.7...         154.024  \n\n[10000 rows x 29 columns]",
      "text/html": "<div>\n<style scoped>\n    .dataframe tbody tr th:only-of-type {\n        vertical-align: middle;\n    }\n\n    .dataframe tbody tr th {\n        vertical-align: top;\n    }\n\n    .dataframe thead th {\n        text-align: right;\n    }\n</style>\n<table border=\"1\" class=\"dataframe\">\n  <thead>\n    <tr style=\"text-align: right;\">\n      <th></th>\n      <th>SongNumber</th>\n      <th>SongID</th>\n      <th>AlbumID</th>\n      <th>AlbumName</th>\n      <th>ArtistID</th>\n      <th>MusicbrainzID</th>\n      <th>PlayMeID</th>\n      <th>7DigitalID</th>\n      <th>ArtistFamiliarity</th>\n      <th>ArtistLatitude</th>\n      <th>...</th>\n      <th>KeySignature</th>\n      <th>KeySignatureConfidence</th>\n      <th>Mode</th>\n      <th>ModeConfidence</th>\n      <th>Tempo</th>\n      <th>TimeSignature</th>\n      <th>TimeSignatureConfidence</th>\n      <th>ArtistTerms</th>\n      <th>ArtistTermsFrequency</th>\n      <th>StartOfFadeOut</th>\n    </tr>\n  </thead>\n  <tbody>\n    <tr>\n      <th>0</th>\n      <td>1</td>\n      <td>SOMJBYD12A6D4F8557</td>\n      <td>25824</td>\n      <td>Da Ghetto Psychic</td>\n      <td>ARD0S291187B9B7BF5</td>\n      <td>56503d6d-094e-4c28-ae3d-04cc748ade5b</td>\n      <td>-1</td>\n      <td>17970</td>\n      <td>0.556496</td>\n      <td>NaN</td>\n      <td>...</td>\n      <td>1</td>\n      <td>0.000</td>\n      <td>1</td>\n      <td>0.000</td>\n      <td>111.787</td>\n      <td>1</td>\n      <td>0.000</td>\n      <td>['breakbeat' 'dirty south rap' 'hip hop' 'elec...</td>\n      <td>[1.0 0.8386187613378114 0.9353130749575775 0.9...</td>\n      <td>114.782</td>\n    </tr>\n    <tr>\n      <th>1</th>\n      <td>2</td>\n      <td>SOQHXMF12AB0182363</td>\n      <td>539081</td>\n      <td>I Need You</td>\n      <td>ARGSJW91187B9B1D6B</td>\n      <td>eb722df4-372e-4742-8586-f7ff658012d6</td>\n      <td>-1</td>\n      <td>60488</td>\n      <td>0.360031</td>\n      <td>35.21962</td>\n      <td>...</td>\n      <td>5</td>\n      <td>0.354</td>\n      <td>0</td>\n      <td>0.485</td>\n      <td>146.765</td>\n      <td>1</td>\n      <td>0.000</td>\n      <td>['alternative rock' 'indie rock' 'rock' 'alter...</td>\n      <td>[0.9560807508575261 0.9213064099169126 1.0 0.6...</td>\n      <td>207.012</td>\n    </tr>\n    <tr>\n      <th>2</th>\n      <td>3</td>\n      <td>SONHOTT12A8C13493C</td>\n      <td>287650</td>\n      <td>Friend Or Foe</td>\n      <td>AR7G5I41187FB4CE6C</td>\n      <td>e188a520-9cb7-4f73-a3d7-2f70c6538e92</td>\n      <td>12697</td>\n      <td>19072</td>\n      <td>0.630382</td>\n      <td>NaN</td>\n      <td>...</td>\n      <td>0</td>\n      <td>0.751</td>\n      <td>1</td>\n      <td>0.749</td>\n      <td>119.293</td>\n      <td>4</td>\n      <td>0.000</td>\n      <td>['pop rock' 'new wave' 'dance rock' 'rock' 'ne...</td>\n      <td>[0.9885838625154639 0.9672504640243684 0.82060...</td>\n      <td>217.124</td>\n    </tr>\n    <tr>\n      <th>3</th>\n      <td>4</td>\n      <td>SOUDSGM12AC9618304</td>\n      <td>692313</td>\n      <td>Superinstrumental</td>\n      <td>ARNTLGG11E2835DDB9</td>\n      <td>4d96f7d0-2f0e-4e92-ba70-a405f96f8cec</td>\n      <td>-1</td>\n      <td>242273</td>\n      <td>0.550514</td>\n      <td>NaN</td>\n      <td>...</td>\n      <td>7</td>\n      <td>0.053</td>\n      <td>0</td>\n      <td>0.473</td>\n      <td>114.041</td>\n      <td>4</td>\n      <td>0.878</td>\n      <td>['breakcore' 'miami bass' 'new rave' 'grime' '...</td>\n      <td>[0.9156017479341086 0.862352379556314 0.862352...</td>\n      <td>261.747</td>\n    </tr>\n    <tr>\n      <th>4</th>\n      <td>5</td>\n      <td>SOHKNRJ12A6701D1F8</td>\n      <td>8876</td>\n      <td>Gin &amp; Phonic</td>\n      <td>AR10USD1187B99F3F1</td>\n      <td>d89de379-665d-425c-b2e9-41b95d1edb36</td>\n      <td>-1</td>\n      <td>21128</td>\n      <td>0.801136</td>\n      <td>NaN</td>\n      <td>...</td>\n      <td>4</td>\n      <td>0.000</td>\n      <td>0</td>\n      <td>0.160</td>\n      <td>101.430</td>\n      <td>3</td>\n      <td>0.408</td>\n      <td>['post-hardcore' 'screamo' 'emo' 'hardcore' 'p...</td>\n      <td>[0.999818045125181 0.9999454585723618 1.0 0.81...</td>\n      <td>181.023</td>\n    </tr>\n    <tr>\n      <th>...</th>\n      <td>...</td>\n      <td>...</td>\n      <td>...</td>\n      <td>...</td>\n      <td>...</td>\n      <td>...</td>\n      <td>...</td>\n      <td>...</td>\n      <td>...</td>\n      <td>...</td>\n      <td>...</td>\n      <td>...</td>\n      <td>...</td>\n      <td>...</td>\n      <td>...</td>\n      <td>...</td>\n      <td>...</td>\n      <td>...</td>\n      <td>...</td>\n      <td>...</td>\n      <td>...</td>\n    </tr>\n    <tr>\n      <th>9995</th>\n      <td>9996</td>\n      <td>SOJZLAJ12AB017E8A2</td>\n      <td>346402</td>\n      <td>Reality</td>\n      <td>ARS1DCR1187B9A4A56</td>\n      <td>0159799c-ef7f-4c37-a011-25b6572c0f62</td>\n      <td>-1</td>\n      <td>7562</td>\n      <td>0.433508</td>\n      <td>NaN</td>\n      <td>...</td>\n      <td>1</td>\n      <td>0.931</td>\n      <td>1</td>\n      <td>0.565</td>\n      <td>118.123</td>\n      <td>4</td>\n      <td>0.205</td>\n      <td>['lovers rock' 'reggae' 'roots reggae' 'dub' '...</td>\n      <td>[0.9601150044322461 1.0 0.7945583536354357 0.8...</td>\n      <td>186.015</td>\n    </tr>\n    <tr>\n      <th>9996</th>\n      <td>9997</td>\n      <td>SOFAOMI12A6D4FA2D8</td>\n      <td>64501</td>\n      <td>Once Upon A Shattered Life</td>\n      <td>ARYXOV81187B99831D</td>\n      <td>56e7a15e-8b19-4f09-b3e7-c5fb830e3120</td>\n      <td>7399</td>\n      <td>39252</td>\n      <td>0.609182</td>\n      <td>NaN</td>\n      <td>...</td>\n      <td>2</td>\n      <td>0.315</td>\n      <td>0</td>\n      <td>0.406</td>\n      <td>150.575</td>\n      <td>4</td>\n      <td>0.317</td>\n      <td>['christian rock' 'christian alternative rock'...</td>\n      <td>[0.926219623593863 0.8377585867605521 0.837758...</td>\n      <td>193.167</td>\n    </tr>\n    <tr>\n      <th>9997</th>\n      <td>9998</td>\n      <td>SOUWMIW12AB0184748</td>\n      <td>760072</td>\n      <td>The Unforgettable Grandpa Jones</td>\n      <td>ARQ91R31187FB38A88</td>\n      <td>8488e884-f8b9-4c31-a6ec-a92be00d450f</td>\n      <td>23838</td>\n      <td>39299</td>\n      <td>0.450646</td>\n      <td>37.82245</td>\n      <td>...</td>\n      <td>2</td>\n      <td>0.101</td>\n      <td>1</td>\n      <td>0.394</td>\n      <td>119.271</td>\n      <td>4</td>\n      <td>0.150</td>\n      <td>['bluegrass' 'classic country' 'country gospel...</td>\n      <td>[1.0 0.962214591561547 0.9322226256056128 0.81...</td>\n      <td>136.615</td>\n    </tr>\n    <tr>\n      <th>9998</th>\n      <td>9999</td>\n      <td>SOJARSR12AB0184939</td>\n      <td>637025</td>\n      <td>Gift Grub 10</td>\n      <td>AROIHOI122988FEB8E</td>\n      <td>NaN</td>\n      <td>-1</td>\n      <td>15464</td>\n      <td>0.334543</td>\n      <td>NaN</td>\n      <td>...</td>\n      <td>7</td>\n      <td>0.546</td>\n      <td>1</td>\n      <td>0.630</td>\n      <td>90.050</td>\n      <td>4</td>\n      <td>0.433</td>\n      <td>['irish' 'comedy' 'funny' 'parody' 'stand-up c...</td>\n      <td>[0.9412616260534631 1.0 0.9250172052920823 0.8...</td>\n      <td>182.671</td>\n    </tr>\n    <tr>\n      <th>9999</th>\n      <td>10000</td>\n      <td>SOILDRV12A8C13EB77</td>\n      <td>171957</td>\n      <td>The Sporting Life</td>\n      <td>ARUUP4L1187B9B72EB</td>\n      <td>f569a00a-a5d4-4269-b383-e125a0b515a4</td>\n      <td>76104</td>\n      <td>11354</td>\n      <td>0.598237</td>\n      <td>32.71568</td>\n      <td>...</td>\n      <td>5</td>\n      <td>0.860</td>\n      <td>1</td>\n      <td>0.562</td>\n      <td>162.133</td>\n      <td>4</td>\n      <td>0.668</td>\n      <td>['no wave' 'experimental rock' 'instrumental r...</td>\n      <td>[1.0 0.7882285359088065 0.7310643732886466 0.7...</td>\n      <td>154.024</td>\n    </tr>\n  </tbody>\n</table>\n<p>10000 rows × 29 columns</p>\n</div>"
     },
     "metadata": {}
    }
   ],
   "execution_count": 13
  },
  {
   "cell_type": "code",
   "source": "songs_data_df",
   "metadata": {
    "cell_id": "5839b3aad58f40d6b30d5e7b06ffa1bd",
    "tags": [],
    "deepnote_to_be_reexecuted": false,
    "source_hash": "9ccf9cef",
    "execution_start": 1650029833950,
    "execution_millis": 836,
    "deepnote_cell_type": "code",
    "deepnote_cell_height": 600
   },
   "outputs": [
    {
     "output_type": "execute_result",
     "execution_count": 14,
     "data": {
      "application/vnd.deepnote.dataframe.v3+json": {
       "column_count": 14,
       "row_count": 999056,
       "columns": [
        {
         "name": "track_id",
         "dtype": "object"
        },
        {
         "name": "title",
         "dtype": "object"
        },
        {
         "name": "song_id",
         "dtype": "object"
        },
        {
         "name": "release",
         "dtype": "object"
        },
        {
         "name": "artist_id",
         "dtype": "object"
        },
        {
         "name": "artist_mbid",
         "dtype": "object"
        },
        {
         "name": "artist_name",
         "dtype": "object"
        },
        {
         "name": "duration",
         "dtype": "float64"
        },
        {
         "name": "artist_familiarity",
         "dtype": "float64"
        },
        {
         "name": "artist_hotttnesss",
         "dtype": "float64"
        },
        {
         "name": "year",
         "dtype": "int64"
        },
        {
         "name": "track_7digitalid",
         "dtype": "int64"
        },
        {
         "name": "shs_perf",
         "dtype": "int64"
        },
        {
         "name": "shs_work",
         "dtype": "int64"
        },
        {
         "name": "_deepnote_index_column",
         "dtype": "int64"
        }
       ],
       "rows": [
        {
         "track_id": "TRMMMYQ128F932D901",
         "title": "Silent Night",
         "song_id": "SOQMMHC12AB0180CB8",
         "release": "Monster Ballads X-Mas",
         "artist_id": "ARYZTJS1187B98C555",
         "artist_mbid": "357ff05d-848a-44cf-b608-cb34b5701ae5",
         "artist_name": "Faster Pussy cat",
         "duration": 252.05506,
         "artist_familiarity": 0.649822100201,
         "artist_hotttnesss": 0.394031892714,
         "year": 2003,
         "track_7digitalid": 7032331,
         "shs_perf": -1,
         "shs_work": 0,
         "_deepnote_index_column": 0
        },
        {
         "track_id": "TRMMMKD128F425225D",
         "title": "Tanssi vaan",
         "song_id": "SOVFVAK12A8C1350D9",
         "release": "Karkuteillä",
         "artist_id": "ARMVN3U1187FB3A1EB",
         "artist_mbid": "8d7ef530-a6fd-4f8f-b2e2-74aec765e0f9",
         "artist_name": "Karkkiautomaatti",
         "duration": 156.55138,
         "artist_familiarity": 0.439603966677,
         "artist_hotttnesss": 0.356992107756,
         "year": 1995,
         "track_7digitalid": 1514808,
         "shs_perf": -1,
         "shs_work": 0,
         "_deepnote_index_column": 1
        },
        {
         "track_id": "TRMMMRX128F93187D9",
         "title": "No One Could Ever",
         "song_id": "SOGTUKN12AB017F4F1",
         "release": "Butter",
         "artist_id": "ARGEKB01187FB50750",
         "artist_mbid": "3d403d44-36ce-465c-ad43-ae877e65adc4",
         "artist_name": "Hudson Mohawke",
         "duration": 138.97098,
         "artist_familiarity": 0.643680572058,
         "artist_hotttnesss": 0.437503836595,
         "year": 2006,
         "track_7digitalid": 6945353,
         "shs_perf": -1,
         "shs_work": 0,
         "_deepnote_index_column": 2
        },
        {
         "track_id": "TRMMMCH128F425532C",
         "title": "Si Vos Querés",
         "song_id": "SOBNYVR12A8C13558C",
         "release": "De Culo",
         "artist_id": "ARNWYLR1187B9B2F9C",
         "artist_mbid": "12be7648-7094-495f-90e6-df4189d68615",
         "artist_name": "Yerba Brava",
         "duration": 145.05751,
         "artist_familiarity": 0.448501159656,
         "artist_hotttnesss": 0.372349068517,
         "year": 2003,
         "track_7digitalid": 2168257,
         "shs_perf": -1,
         "shs_work": 0,
         "_deepnote_index_column": 3
        },
        {
         "track_id": "TRMMMWA128F426B589",
         "title": "Tangle Of Aspens",
         "song_id": "SOHSBXH12A8C13B0DF",
         "release": "Rene Ablaze Presents Winter Sessions",
         "artist_id": "AREQDTE1269FB37231",
         "artist_mbid": "",
         "artist_name": "Der Mystic",
         "duration": 514.29832,
         "artist_familiarity": 0,
         "artist_hotttnesss": 0,
         "year": 0,
         "track_7digitalid": 2264873,
         "shs_perf": -1,
         "shs_work": 0,
         "_deepnote_index_column": 4
        },
        {
         "track_id": "TRMMMXN128F42936A5",
         "title": "Symphony No. 1 G minor \"Sinfonie Serieuse\"/Allegro con energia",
         "song_id": "SOZVAPQ12A8C13B63C",
         "release": "Berwald: Symphonies Nos. 1/2/3/4",
         "artist_id": "AR2NS5Y1187FB5879D",
         "artist_mbid": "d087b377-bab7-46c4-bd12-15debebb5d61",
         "artist_name": "David Montgomery",
         "duration": 816.53506,
         "artist_familiarity": 0.361286979628,
         "artist_hotttnesss": 0.109625847059,
         "year": 0,
         "track_7digitalid": 3360982,
         "shs_perf": -1,
         "shs_work": 0,
         "_deepnote_index_column": 5
        },
        {
         "track_id": "TRMMMLR128F1494097",
         "title": "We Have Got Love",
         "song_id": "SOQVRHI12A6D4FB2D7",
         "release": "Strictly The Best Vol. 34",
         "artist_id": "ARO41T51187FB397AB",
         "artist_mbid": "d2461c0a-5575-4425-a225-fce0180de3fd",
         "artist_name": "Sasha / Turbulence",
         "duration": 212.37506,
         "artist_familiarity": 0.692922730576,
         "artist_hotttnesss": 0.453731585999,
         "year": 0,
         "track_7digitalid": 552626,
         "shs_perf": -1,
         "shs_work": 0,
         "_deepnote_index_column": 6
        },
        {
         "track_id": "TRMMMBB12903CB7D21",
         "title": "2 Da Beat Ch'yall",
         "song_id": "SOEYRFT12AB018936C",
         "release": "Da Bomb",
         "artist_id": "AR3Z9WY1187FB4CDC2",
         "artist_mbid": "bf61e8ff-7621-4655-8ebd-68210645c5e9",
         "artist_name": "Kris Kross",
         "duration": 221.20444,
         "artist_familiarity": 0.588156187675,
         "artist_hotttnesss": 0.401092425177,
         "year": 1993,
         "track_7digitalid": 6435649,
         "shs_perf": -1,
         "shs_work": 0,
         "_deepnote_index_column": 7
        },
        {
         "track_id": "TRMMMHY12903CB53F1",
         "title": "Goodbye",
         "song_id": "SOPMIYT12A6D4F851E",
         "release": "Danny Boy",
         "artist_id": "ARA04401187B991E6E",
         "artist_mbid": "1a9bf859-1dc2-495b-9e7c-289be7731a9f",
         "artist_name": "Joseph Locke",
         "duration": 139.17995,
         "artist_familiarity": 0.408465463469,
         "artist_hotttnesss": 0.285901196045,
         "year": 0,
         "track_7digitalid": 8376489,
         "shs_perf": -1,
         "shs_work": 0,
         "_deepnote_index_column": 8
        },
        {
         "track_id": "TRMMMML128F4280EE9",
         "title": "Mama_ mama can't you see ?",
         "song_id": "SOJCFMH12A8C13B0C2",
         "release": "March to cadence with the US marines",
         "artist_id": "ARCVMYS12454A51E6E",
         "artist_mbid": "",
         "artist_name": "The Sun Harbor's Chorus-Documentary Recordings",
         "duration": 104.48934,
         "artist_familiarity": 0.41994127477,
         "artist_hotttnesss": 0.24913722954,
         "year": 0,
         "track_7digitalid": 1043208,
         "shs_perf": -1,
         "shs_work": 0,
         "_deepnote_index_column": 9
        }
       ]
      },
      "text/plain": "                  track_id                                title  \\\n0       TRMMMYQ128F932D901                         Silent Night   \n1       TRMMMKD128F425225D                          Tanssi vaan   \n2       TRMMMRX128F93187D9                    No One Could Ever   \n3       TRMMMCH128F425532C                        Si Vos Querés   \n4       TRMMMWA128F426B589                     Tangle Of Aspens   \n...                    ...                                  ...   \n999995  TRYYYUS12903CD2DF0                      O Samba Da Vida   \n999996  TRYYYJO128F426DA37                         Jago Chhadeo   \n999997  TRYYYMG128F4260ECA                              Novemba   \n999998  TRYYYDJ128F9310A21                              Faraday   \n999999  TRYYYVU12903CD01E3  Fernweh feat. Sektion Kuchikäschtli   \n\n                   song_id                               release  \\\n0       SOQMMHC12AB0180CB8                 Monster Ballads X-Mas   \n1       SOVFVAK12A8C1350D9                           Karkuteillä   \n2       SOGTUKN12AB017F4F1                                Butter   \n3       SOBNYVR12A8C13558C                               De Culo   \n4       SOHSBXH12A8C13B0DF  Rene Ablaze Presents Winter Sessions   \n...                    ...                                   ...   \n999995  SOTXAME12AB018F136                          Pacha V.I.P.   \n999996  SOXQYIQ12A8C137FBB              Naale Baba Lassi Pee Gya   \n999997  SOHODZI12A8C137BB3       Dub_Connected: electronic music   \n999998  SOLXGOR12A81C21EB7          The Trance Collection Vol. 2   \n999999  SOWXJXQ12AB0189F43                            So Oder So   \n\n                 artist_id                           artist_mbid  \\\n0       ARYZTJS1187B98C555  357ff05d-848a-44cf-b608-cb34b5701ae5   \n1       ARMVN3U1187FB3A1EB  8d7ef530-a6fd-4f8f-b2e2-74aec765e0f9   \n2       ARGEKB01187FB50750  3d403d44-36ce-465c-ad43-ae877e65adc4   \n3       ARNWYLR1187B9B2F9C  12be7648-7094-495f-90e6-df4189d68615   \n4       AREQDTE1269FB37231                                         \n...                    ...                                   ...   \n999995  AR7Z4J81187FB3FC59  9d50cb20-7e42-45cc-b0dd-154c3e92a577   \n999996  ART5FZD1187B9A7FCF  2357c400-9109-42b6-b3fe-9e2d9f8e3872   \n999997  ARZ3R6M1187B9AF750  8b97e9c8-61f5-4615-9a96-276f24204e34   \n999998  ARCMCOK1187B9B1073  4ac5f3de-c5ad-475e-ad50-41f1ef9dba20   \n999999  AR7PLM21187B990D08  3af2b07e-c91c-4160-9bda-f0b9e3144ed3   \n\n             artist_name   duration  artist_familiarity  artist_hotttnesss  \\\n0       Faster Pussy cat  252.05506            0.649822           0.394032   \n1       Karkkiautomaatti  156.55138            0.439604           0.356992   \n2         Hudson Mohawke  138.97098            0.643681           0.437504   \n3            Yerba Brava  145.05751            0.448501           0.372349   \n4             Der Mystic  514.29832            0.000000           0.000000   \n...                  ...        ...                 ...                ...   \n999995      Kiko Navarro  217.44281            0.528617           0.411595   \n999996     Kuldeep Manak  244.16608            0.401500           0.374866   \n999997    Gabriel Le Mar  553.03791            0.556918           0.336914   \n999998             Elude  484.51873            0.403668           0.256935   \n999999             Texta  295.07873            0.552977           0.454869   \n\n        year  track_7digitalid  shs_perf  shs_work  \n0       2003           7032331        -1         0  \n1       1995           1514808        -1         0  \n2       2006           6945353        -1         0  \n3       2003           2168257        -1         0  \n4          0           2264873        -1         0  \n...      ...               ...       ...       ...  \n999995     0           7522478        -1         0  \n999996     0           1632096        -1         0  \n999997     0           2219291        -1         0  \n999998     0           5472456        -1         0  \n999999  2004           8486723        -1         0  \n\n[999056 rows x 14 columns]",
      "text/html": "<div>\n<style scoped>\n    .dataframe tbody tr th:only-of-type {\n        vertical-align: middle;\n    }\n\n    .dataframe tbody tr th {\n        vertical-align: top;\n    }\n\n    .dataframe thead th {\n        text-align: right;\n    }\n</style>\n<table border=\"1\" class=\"dataframe\">\n  <thead>\n    <tr style=\"text-align: right;\">\n      <th></th>\n      <th>track_id</th>\n      <th>title</th>\n      <th>song_id</th>\n      <th>release</th>\n      <th>artist_id</th>\n      <th>artist_mbid</th>\n      <th>artist_name</th>\n      <th>duration</th>\n      <th>artist_familiarity</th>\n      <th>artist_hotttnesss</th>\n      <th>year</th>\n      <th>track_7digitalid</th>\n      <th>shs_perf</th>\n      <th>shs_work</th>\n    </tr>\n  </thead>\n  <tbody>\n    <tr>\n      <th>0</th>\n      <td>TRMMMYQ128F932D901</td>\n      <td>Silent Night</td>\n      <td>SOQMMHC12AB0180CB8</td>\n      <td>Monster Ballads X-Mas</td>\n      <td>ARYZTJS1187B98C555</td>\n      <td>357ff05d-848a-44cf-b608-cb34b5701ae5</td>\n      <td>Faster Pussy cat</td>\n      <td>252.05506</td>\n      <td>0.649822</td>\n      <td>0.394032</td>\n      <td>2003</td>\n      <td>7032331</td>\n      <td>-1</td>\n      <td>0</td>\n    </tr>\n    <tr>\n      <th>1</th>\n      <td>TRMMMKD128F425225D</td>\n      <td>Tanssi vaan</td>\n      <td>SOVFVAK12A8C1350D9</td>\n      <td>Karkuteillä</td>\n      <td>ARMVN3U1187FB3A1EB</td>\n      <td>8d7ef530-a6fd-4f8f-b2e2-74aec765e0f9</td>\n      <td>Karkkiautomaatti</td>\n      <td>156.55138</td>\n      <td>0.439604</td>\n      <td>0.356992</td>\n      <td>1995</td>\n      <td>1514808</td>\n      <td>-1</td>\n      <td>0</td>\n    </tr>\n    <tr>\n      <th>2</th>\n      <td>TRMMMRX128F93187D9</td>\n      <td>No One Could Ever</td>\n      <td>SOGTUKN12AB017F4F1</td>\n      <td>Butter</td>\n      <td>ARGEKB01187FB50750</td>\n      <td>3d403d44-36ce-465c-ad43-ae877e65adc4</td>\n      <td>Hudson Mohawke</td>\n      <td>138.97098</td>\n      <td>0.643681</td>\n      <td>0.437504</td>\n      <td>2006</td>\n      <td>6945353</td>\n      <td>-1</td>\n      <td>0</td>\n    </tr>\n    <tr>\n      <th>3</th>\n      <td>TRMMMCH128F425532C</td>\n      <td>Si Vos Querés</td>\n      <td>SOBNYVR12A8C13558C</td>\n      <td>De Culo</td>\n      <td>ARNWYLR1187B9B2F9C</td>\n      <td>12be7648-7094-495f-90e6-df4189d68615</td>\n      <td>Yerba Brava</td>\n      <td>145.05751</td>\n      <td>0.448501</td>\n      <td>0.372349</td>\n      <td>2003</td>\n      <td>2168257</td>\n      <td>-1</td>\n      <td>0</td>\n    </tr>\n    <tr>\n      <th>4</th>\n      <td>TRMMMWA128F426B589</td>\n      <td>Tangle Of Aspens</td>\n      <td>SOHSBXH12A8C13B0DF</td>\n      <td>Rene Ablaze Presents Winter Sessions</td>\n      <td>AREQDTE1269FB37231</td>\n      <td></td>\n      <td>Der Mystic</td>\n      <td>514.29832</td>\n      <td>0.000000</td>\n      <td>0.000000</td>\n      <td>0</td>\n      <td>2264873</td>\n      <td>-1</td>\n      <td>0</td>\n    </tr>\n    <tr>\n      <th>...</th>\n      <td>...</td>\n      <td>...</td>\n      <td>...</td>\n      <td>...</td>\n      <td>...</td>\n      <td>...</td>\n      <td>...</td>\n      <td>...</td>\n      <td>...</td>\n      <td>...</td>\n      <td>...</td>\n      <td>...</td>\n      <td>...</td>\n      <td>...</td>\n    </tr>\n    <tr>\n      <th>999995</th>\n      <td>TRYYYUS12903CD2DF0</td>\n      <td>O Samba Da Vida</td>\n      <td>SOTXAME12AB018F136</td>\n      <td>Pacha V.I.P.</td>\n      <td>AR7Z4J81187FB3FC59</td>\n      <td>9d50cb20-7e42-45cc-b0dd-154c3e92a577</td>\n      <td>Kiko Navarro</td>\n      <td>217.44281</td>\n      <td>0.528617</td>\n      <td>0.411595</td>\n      <td>0</td>\n      <td>7522478</td>\n      <td>-1</td>\n      <td>0</td>\n    </tr>\n    <tr>\n      <th>999996</th>\n      <td>TRYYYJO128F426DA37</td>\n      <td>Jago Chhadeo</td>\n      <td>SOXQYIQ12A8C137FBB</td>\n      <td>Naale Baba Lassi Pee Gya</td>\n      <td>ART5FZD1187B9A7FCF</td>\n      <td>2357c400-9109-42b6-b3fe-9e2d9f8e3872</td>\n      <td>Kuldeep Manak</td>\n      <td>244.16608</td>\n      <td>0.401500</td>\n      <td>0.374866</td>\n      <td>0</td>\n      <td>1632096</td>\n      <td>-1</td>\n      <td>0</td>\n    </tr>\n    <tr>\n      <th>999997</th>\n      <td>TRYYYMG128F4260ECA</td>\n      <td>Novemba</td>\n      <td>SOHODZI12A8C137BB3</td>\n      <td>Dub_Connected: electronic music</td>\n      <td>ARZ3R6M1187B9AF750</td>\n      <td>8b97e9c8-61f5-4615-9a96-276f24204e34</td>\n      <td>Gabriel Le Mar</td>\n      <td>553.03791</td>\n      <td>0.556918</td>\n      <td>0.336914</td>\n      <td>0</td>\n      <td>2219291</td>\n      <td>-1</td>\n      <td>0</td>\n    </tr>\n    <tr>\n      <th>999998</th>\n      <td>TRYYYDJ128F9310A21</td>\n      <td>Faraday</td>\n      <td>SOLXGOR12A81C21EB7</td>\n      <td>The Trance Collection Vol. 2</td>\n      <td>ARCMCOK1187B9B1073</td>\n      <td>4ac5f3de-c5ad-475e-ad50-41f1ef9dba20</td>\n      <td>Elude</td>\n      <td>484.51873</td>\n      <td>0.403668</td>\n      <td>0.256935</td>\n      <td>0</td>\n      <td>5472456</td>\n      <td>-1</td>\n      <td>0</td>\n    </tr>\n    <tr>\n      <th>999999</th>\n      <td>TRYYYVU12903CD01E3</td>\n      <td>Fernweh feat. Sektion Kuchikäschtli</td>\n      <td>SOWXJXQ12AB0189F43</td>\n      <td>So Oder So</td>\n      <td>AR7PLM21187B990D08</td>\n      <td>3af2b07e-c91c-4160-9bda-f0b9e3144ed3</td>\n      <td>Texta</td>\n      <td>295.07873</td>\n      <td>0.552977</td>\n      <td>0.454869</td>\n      <td>2004</td>\n      <td>8486723</td>\n      <td>-1</td>\n      <td>0</td>\n    </tr>\n  </tbody>\n</table>\n<p>999056 rows × 14 columns</p>\n</div>"
     },
     "metadata": {}
    }
   ],
   "execution_count": 14
  },
  {
   "cell_type": "code",
   "source": "artist_term_df",
   "metadata": {
    "cell_id": "6ec85af1d44146e18bec266c5916b693",
    "tags": [],
    "deepnote_to_be_reexecuted": false,
    "source_hash": "92838056",
    "execution_start": 1650029834527,
    "execution_millis": 271,
    "deepnote_cell_type": "code",
    "deepnote_cell_height": 600
   },
   "outputs": [
    {
     "output_type": "execute_result",
     "execution_count": 15,
     "data": {
      "application/vnd.deepnote.dataframe.v3+json": {
       "column_count": 2,
       "row_count": 43943,
       "columns": [
        {
         "name": "artist_id",
         "dtype": "object",
         "stats": {
          "unique_count": 43943,
          "nan_count": 0,
          "categories": [
           {
            "name": "AR002UA1187B9A637D",
            "count": 1
           },
           {
            "name": "AR003FB1187B994355",
            "count": 1
           },
           {
            "name": "43941 others",
            "count": 43941
           }
          ]
         }
        },
        {
         "name": "term",
         "dtype": "object",
         "stats": {
          "unique_count": 43943,
          "nan_count": 0,
          "categories": [
           {
            "name": "['hardstyle']",
            "count": 39
           },
           {
            "name": "['greek']",
            "count": 34
           },
           {
            "name": "43149 others",
            "count": 43870
           }
          ]
         }
        },
        {
         "name": "_deepnote_index_column",
         "dtype": "int64"
        }
       ],
       "rows": [
        {
         "artist_id": "AR002UA1187B9A637D",
         "term": "['garage rock', 'country rock', 'free jazz', 'oi', 'space rock', 'power pop', 'indie rock', 'reggae', 'pop rock', 'rock', 'indie pop', 'female vocalist', 'alternative rock', 'jazz', 'punk', 'pop', 'experimental', 'electronic', '60s', 'noise', 'english', 'lo-fi', 'garage', 'garage rock revival', 'drum and bass', 'medwaybeat', 'synth punk']",
         "_deepnote_index_column": 0
        },
        {
         "artist_id": "AR003FB1187B994355",
         "term": "['rock', 'punk', 'alternative rock', 'hip hop', 'texas', 'united states', 'hardcore', 'dallas', 'alternative pop rock', 'kansas city']",
         "_deepnote_index_column": 1
        },
        {
         "artist_id": "AR006821187FB5192B",
         "term": "['orchestra', 'opera', 'religious music', 'requiem', 'california', 'lullaby', 'baroque music', 'early music', 'grime', 'symphony', 'chamber music', 'sonata', 'calypso', 'club', 'classical', 'choral music', 'christmas music', 'beautiful', 'english', 'traditional', 'world', 'vocal', 'baroque', 'composer', 'male', 'choir', 'instrumental', 'bass', 'british', 'romantic', 'modern', 'united states', 'original', 'christian', 'italian', 'folk', 'poetry', 'spiritual', 'group', 'female', 'acoustic', 'england', 'epic', 'american', 'german', 'noise', 'french', 'minimal', 'classic', 'germany', 'melodic', 'rock', 'european', 'death metal', 'world reggae', 'pop', 'piano', 'country']",
         "_deepnote_index_column": 2
        },
        {
         "artist_id": "AR009211187B989185",
         "term": "['lovers rock', 'reggae', 'roots reggae', 'uk garage', 'ballad', 'dancehall', 'disco', 'speed garage', 'breakbeat', 'dub', 'acid jazz', 'hip hop', 'soul', 'pop rock', 'electronic', 'downtempo', 'r&b', 'classic rock', 'electro', 'pop', 'house', 'synthpop', 'rock', 'vocal', 'lounge', 'modern classical', 'raga', 'germany', 'funk soul', 'united states', 'reggae pop', 'female dancehall', 'euro-house', 'world reggae']",
         "_deepnote_index_column": 3
        },
        {
         "artist_id": "AR009SZ1187B9A73F4",
         "term": "['chill-out', 'future jazz', 'neofolk', 'downtempo', 'folktronica', 'trip hop', 'nu jazz', 'deep house', 'intelligent dance music', 'acid jazz', 'post rock', 'jazz', 'electronic', 'easy listening', 'hip hop', 'ambient', 'experimental', 'techno', 'electronica', 'electro', 'rock', 'acoustic', 'instrumental', 'abstract', 'lounge', 'minimal', 'spoken word', 'modern classical', 'shoegaze', 'saint germain des pres cafe', 'leaf label', 'jazzdance', 'alternative rock']",
         "_deepnote_index_column": 4
        },
        {
         "artist_id": "AR00A1N1187FB484EB",
         "term": "['new wave', 'new beat', 'alternative rock', 'dark wave', 'rock', 'electronic', 'pop rock', 'garage rock', 'art rock', 'electro', 'indie rock', 'synthpop', 'pop', 'ebm', 'spain', 'experimental', 'industrial', 'punk', 'folk', 'country', 'world', '80s', 'abstract', 'belgium', 'breakbeat', 'gothic rock', 'modern classical', 'tribal', 'old school punk', 'field recording', 'euro-house']",
         "_deepnote_index_column": 5
        },
        {
         "artist_id": "AR00A6H1187FB5402A",
         "term": "['hardcore punk', 'heavy metal', 'punk', 'happy hardcore', 'rockabilly', 'club', 'american underground', 'garage rock', 'american punk', 'rock', 'hard rock', 'united states', 'hardcore', 'alternative', 'classic', 'michigan', '80s', 'old school', 'american', 'old school hardcore', 'indie', 'country', 'singer', 'dutch', 'thrash metal', 'brooklyn', 'punk hardcore', 'dc', 'us punk', 'old', 'hatecore', 'death metal']",
         "_deepnote_index_column": 6
        },
        {
         "artist_id": "AR00AP71187B99635F",
         "term": "['cool jazz', 'bebop', 'hard bop', 'jazz fusion', 'ragtime', 'jazz', 'blues', 'electronic', 'drum and bass', 'trumpet', 'germany', 'united states', 'master', 'swing', 'fusion', 'big band', 'classic jazz', 'post-bop', 'modern jazz', 'blues bar', 'modal music', 'trumpet jazz']",
         "_deepnote_index_column": 7
        },
        {
         "artist_id": "AR00B1I1187FB433EB",
         "term": "['trip hop', 'pop rock', 'country rock', 'tech house', 'folk rock', 'chill-out', 'surf music', 'soft rock', 'j pop', 'neo soul', 'soul jazz', 'rock', 'grunge', 'alternative rock', 'easy listening', 'ska', 'singer-songwriter', 'reggae', 'hip hop', 'classic rock', 'emo', 'indie pop', 'trance', 'downtempo', 'electronic', 'pop', 'dance', 'indie rock', 'soundtrack', 'punk', 'hard rock', 'male vocalist', 'female vocalist', 'sweden', 'acoustic', 'alternative', 'swedish', 'jazz', 'psychedelic', '90s', 'folk', 'indie', 'metal', 'japanese', '00s', 'american', 'soul', 'hardcore']",
         "_deepnote_index_column": 8
        },
        {
         "artist_id": "AR00DDV1187B98B2BF",
         "term": "['hardstyle', 'hard trance', 'hard house', 'gabba', 'trance', 'techno', 'electronic', 'progressive trance', 'hardcore techno', 'electroclash', 'breakcore', 'progressive house', 'drum and bass', 'disco', 'electro', 'hardcore', 'oldies', 'new wave', 'electronica', 'reggae', 'heavy metal', 'blues', 'indie pop', 'nederland', 'hard rock', 'funk', 'hip hop', 'rap', 'intelligent dance music', 'house', 'dance', 'punk', 'jumpstyle', 'rock', 'pop', 'alternative', 'metal', 'dutch', 'industrial', 'detroit', 'arabic', 'spain', 'eurovision', 'estonia', 'tribal', 'eesti']",
         "_deepnote_index_column": 9
        }
       ]
      },
      "text/plain": "                artist_id                                               term\n0      AR002UA1187B9A637D  [garage rock, country rock, free jazz, oi, spa...\n1      AR003FB1187B994355  [rock, punk, alternative rock, hip hop, texas,...\n2      AR006821187FB5192B  [orchestra, opera, religious music, requiem, c...\n3      AR009211187B989185  [lovers rock, reggae, roots reggae, uk garage,...\n4      AR009SZ1187B9A73F4  [chill-out, future jazz, neofolk, downtempo, f...\n...                   ...                                                ...\n43938  ARZZXJY1187B99E2BB  [world, acoustic, folk, country, flute, tribal...\n43939  ARZZXT51187FB4627E  [blues-rock, psychedelic rock, soul jazz, jazz...\n43940  ARZZYRB1187B99D0B6  [acid jazz, jazz, ambient, psychedelic rock, v...\n43941  ARZZYRH11C8A416A12  [dark wave, shoegaze, pop rock, emo, indie roc...\n43942  ARZZZKG1271F573BC4  [electronica, electronic, progressive, ambient...\n\n[43943 rows x 2 columns]",
      "text/html": "<div>\n<style scoped>\n    .dataframe tbody tr th:only-of-type {\n        vertical-align: middle;\n    }\n\n    .dataframe tbody tr th {\n        vertical-align: top;\n    }\n\n    .dataframe thead th {\n        text-align: right;\n    }\n</style>\n<table border=\"1\" class=\"dataframe\">\n  <thead>\n    <tr style=\"text-align: right;\">\n      <th></th>\n      <th>artist_id</th>\n      <th>term</th>\n    </tr>\n  </thead>\n  <tbody>\n    <tr>\n      <th>0</th>\n      <td>AR002UA1187B9A637D</td>\n      <td>[garage rock, country rock, free jazz, oi, spa...</td>\n    </tr>\n    <tr>\n      <th>1</th>\n      <td>AR003FB1187B994355</td>\n      <td>[rock, punk, alternative rock, hip hop, texas,...</td>\n    </tr>\n    <tr>\n      <th>2</th>\n      <td>AR006821187FB5192B</td>\n      <td>[orchestra, opera, religious music, requiem, c...</td>\n    </tr>\n    <tr>\n      <th>3</th>\n      <td>AR009211187B989185</td>\n      <td>[lovers rock, reggae, roots reggae, uk garage,...</td>\n    </tr>\n    <tr>\n      <th>4</th>\n      <td>AR009SZ1187B9A73F4</td>\n      <td>[chill-out, future jazz, neofolk, downtempo, f...</td>\n    </tr>\n    <tr>\n      <th>...</th>\n      <td>...</td>\n      <td>...</td>\n    </tr>\n    <tr>\n      <th>43938</th>\n      <td>ARZZXJY1187B99E2BB</td>\n      <td>[world, acoustic, folk, country, flute, tribal...</td>\n    </tr>\n    <tr>\n      <th>43939</th>\n      <td>ARZZXT51187FB4627E</td>\n      <td>[blues-rock, psychedelic rock, soul jazz, jazz...</td>\n    </tr>\n    <tr>\n      <th>43940</th>\n      <td>ARZZYRB1187B99D0B6</td>\n      <td>[acid jazz, jazz, ambient, psychedelic rock, v...</td>\n    </tr>\n    <tr>\n      <th>43941</th>\n      <td>ARZZYRH11C8A416A12</td>\n      <td>[dark wave, shoegaze, pop rock, emo, indie roc...</td>\n    </tr>\n    <tr>\n      <th>43942</th>\n      <td>ARZZZKG1271F573BC4</td>\n      <td>[electronica, electronic, progressive, ambient...</td>\n    </tr>\n  </tbody>\n</table>\n<p>43943 rows × 2 columns</p>\n</div>"
     },
     "metadata": {}
    }
   ],
   "execution_count": 15
  },
  {
   "cell_type": "code",
   "source": "print(len(triplets_df))\n# Remove users who have listened to less than 30 songs\ntriplets_df = triplets_df[triplets_df.groupby('user_id').user_id.transform('count')>29]\nprint(len(triplets_df))",
   "metadata": {
    "cell_id": "636f9ab7c5184ab0abee811409ea0bdd",
    "tags": [],
    "deepnote_to_be_reexecuted": false,
    "source_hash": "8e447076",
    "execution_start": 1650032477036,
    "execution_millis": 278,
    "deepnote_cell_type": "code",
    "deepnote_cell_height": 185.39999389648438
   },
   "outputs": [
    {
     "name": "stdout",
     "text": "2000000\n1277683\n",
     "output_type": "stream"
    }
   ],
   "execution_count": 46
  },
  {
   "cell_type": "code",
   "source": "songs_df_raw = pd.merge(triplets_df, songs_data_df, on='song_id', how='left')\nsongs_df_raw = pd.merge(songs_df_raw, artist_term_df, on='artist_id', how='left')\nsongs_df_raw = pd.merge(songs_df_raw, artist_mbtag_df, on='artist_id', how='left')\nsongs_df_raw = pd.merge(songs_df_raw, artist_location_df.drop(['artist_name'], axis=1), on='artist_id', how='left')\nsongs_df_raw['song_display_name'] = songs_df_raw['title'] + ' - ' + songs_df_raw['artist_name']\nsongs_df_raw = songs_df_raw.head(10000)\ndisplay(songs_df_raw)",
   "metadata": {
    "cell_id": "4d44f549aa574a5b9b0f8b6e4924967e",
    "tags": [],
    "deepnote_to_be_reexecuted": false,
    "source_hash": "6ee91504",
    "execution_start": 1650035654115,
    "execution_millis": 4634,
    "deepnote_cell_type": "code",
    "deepnote_cell_height": 708
   },
   "outputs": [
    {
     "data": {
      "application/vnd.deepnote.dataframe.v3+json": {
       "column_count": 22,
       "row_count": 10000,
       "columns": [
        {
         "name": "user_id",
         "dtype": "object",
         "stats": {
          "unique_count": 155,
          "nan_count": 0,
          "categories": [
           {
            "name": "5a905f000fc1ff3df7ca807d57edb608863db05d",
            "count": 401
           },
           {
            "name": "884209a41deb55df792f074bccf8af1c1c31768b",
            "count": 191
           },
           {
            "name": "153 others",
            "count": 9408
           }
          ]
         }
        },
        {
         "name": "song_id",
         "dtype": "object",
         "stats": {
          "unique_count": 5103,
          "nan_count": 0,
          "categories": [
           {
            "name": "SOFRQTD12A81C233C0",
            "count": 34
           },
           {
            "name": "SOAXGDH12A8C13F8A1",
            "count": 30
           },
           {
            "name": "5101 others",
            "count": 9936
           }
          ]
         }
        },
        {
         "name": "listen_count",
         "dtype": "int64",
         "stats": {
          "unique_count": 55,
          "nan_count": 0,
          "min": "1",
          "max": "247",
          "histogram": [
           {
            "bin_start": 1,
            "bin_end": 25.6,
            "count": 9933
           },
           {
            "bin_start": 25.6,
            "bin_end": 50.2,
            "count": 48
           },
           {
            "bin_start": 50.2,
            "bin_end": 74.80000000000001,
            "count": 14
           },
           {
            "bin_start": 74.80000000000001,
            "bin_end": 99.4,
            "count": 2
           },
           {
            "bin_start": 99.4,
            "bin_end": 124,
            "count": 1
           },
           {
            "bin_start": 124,
            "bin_end": 148.60000000000002,
            "count": 1
           },
           {
            "bin_start": 148.60000000000002,
            "bin_end": 173.20000000000002,
            "count": 0
           },
           {
            "bin_start": 173.20000000000002,
            "bin_end": 197.8,
            "count": 0
           },
           {
            "bin_start": 197.8,
            "bin_end": 222.4,
            "count": 0
           },
           {
            "bin_start": 222.4,
            "bin_end": 247,
            "count": 1
           }
          ]
         }
        },
        {
         "name": "track_id",
         "dtype": "object",
         "stats": {
          "unique_count": 5103,
          "nan_count": 0,
          "categories": [
           {
            "name": "TRDMBIJ128F4290431",
            "count": 34
           },
           {
            "name": "TRHKJNX12903CEFCDF",
            "count": 30
           },
           {
            "name": "5101 others",
            "count": 9936
           }
          ]
         }
        },
        {
         "name": "title",
         "dtype": "object",
         "stats": {
          "unique_count": 4959,
          "nan_count": 0,
          "categories": [
           {
            "name": "Sehr kosmisch",
            "count": 34
           },
           {
            "name": "Dog Days Are Over (Radio Edit)",
            "count": 30
           },
           {
            "name": "4957 others",
            "count": 9936
           }
          ]
         }
        },
        {
         "name": "release",
         "dtype": "object",
         "stats": {
          "unique_count": 2964,
          "nan_count": 0,
          "categories": [
           {
            "name": "Lungs",
            "count": 62
           },
           {
            "name": "My Worlds",
            "count": 55
           },
           {
            "name": "2962 others",
            "count": 9883
           }
          ]
         }
        },
        {
         "name": "artist_id",
         "dtype": "object",
         "stats": {
          "unique_count": 1672,
          "nan_count": 0,
          "categories": [
           {
            "name": "ARJ7KF01187B98D717",
            "count": 177
           },
           {
            "name": "ARS8GNX1187B9B5141",
            "count": 162
           },
           {
            "name": "1670 others",
            "count": 9661
           }
          ]
         }
        },
        {
         "name": "artist_mbid",
         "dtype": "object",
         "stats": {
          "unique_count": 1637,
          "nan_count": 0,
          "categories": [
           {
            "name": "cc197bad-dc9c-440d-a5b5-d52ba2e14234",
            "count": 177
           },
           {
            "name": "d15721d8-56b4-453d-b506-fc915b14cba2",
            "count": 162
           },
           {
            "name": "1635 others",
            "count": 9661
           }
          ]
         }
        },
        {
         "name": "artist_name",
         "dtype": "object",
         "stats": {
          "unique_count": 1902,
          "nan_count": 0,
          "categories": [
           {
            "name": "Coldplay",
            "count": 177
           },
           {
            "name": "The Black Keys",
            "count": 162
           },
           {
            "name": "1900 others",
            "count": 9661
           }
          ]
         }
        },
        {
         "name": "duration",
         "dtype": "float64",
         "stats": {
          "unique_count": 3870,
          "nan_count": 0,
          "min": "11.98975",
          "max": "1731.00363",
          "histogram": [
           {
            "bin_start": 11.98975,
            "bin_end": 183.891138,
            "count": 1498
           },
           {
            "bin_start": 183.891138,
            "bin_end": 355.792526,
            "count": 7679
           },
           {
            "bin_start": 355.792526,
            "bin_end": 527.693914,
            "count": 716
           },
           {
            "bin_start": 527.693914,
            "bin_end": 699.595302,
            "count": 89
           },
           {
            "bin_start": 699.595302,
            "bin_end": 871.49669,
            "count": 11
           },
           {
            "bin_start": 871.49669,
            "bin_end": 1043.398078,
            "count": 1
           },
           {
            "bin_start": 1043.398078,
            "bin_end": 1215.299466,
            "count": 1
           },
           {
            "bin_start": 1215.299466,
            "bin_end": 1387.200854,
            "count": 2
           },
           {
            "bin_start": 1387.200854,
            "bin_end": 1559.102242,
            "count": 1
           },
           {
            "bin_start": 1559.102242,
            "bin_end": 1731.00363,
            "count": 2
           }
          ]
         }
        },
        {
         "name": "artist_familiarity",
         "dtype": "float64"
        },
        {
         "name": "artist_hotttnesss",
         "dtype": "float64"
        },
        {
         "name": "year",
         "dtype": "int64"
        },
        {
         "name": "track_7digitalid",
         "dtype": "int64"
        },
        {
         "name": "shs_perf",
         "dtype": "int64"
        },
        {
         "name": "shs_work",
         "dtype": "int64"
        },
        {
         "name": "term",
         "dtype": "object"
        },
        {
         "name": "mbtag",
         "dtype": "object"
        },
        {
         "name": "artist_latitude",
         "dtype": "float64"
        },
        {
         "name": "artist_longitude",
         "dtype": "float64"
        },
        {
         "name": "artist_location",
         "dtype": "object"
        },
        {
         "name": "song_display_name",
         "dtype": "object"
        },
        {
         "name": "_deepnote_index_column",
         "dtype": "int64"
        }
       ],
       "rows": [
        {
         "user_id": "b80344d063b5ccb3212f76538f3d9e43d87dca9e",
         "song_id": "SOAKIMP12A8C130995",
         "listen_count": 1,
         "track_id": "TRIQAUQ128F42435AD",
         "title": "The Cove",
         "release": "Thicker Than Water",
         "artist_id": "ARC8CQZ1187B98DECA",
         "artist_mbid": "ff6e677f-91dd-4986-a174-8db0474b1799",
         "artist_name": "Jack Johnson",
         "duration": 112.63955,
         "artist_familiarity": 0.832011770647,
         "artist_hotttnesss": 0.677482479432,
         "year": 0,
         "track_7digitalid": 2093263,
         "shs_perf": -1,
         "shs_work": 0,
         "term": "['rock', 'singer-songwriter', 'folk', 'soundtrack', 'modern rock', 'guitar', 'blues', 'acoustic', 'mellow', 'romantic', 'piano', 'pop', 'vocal', 'soft', 'beautiful', 'surf music', 'song writer', 'up beat', 'soul', 'relax', 'warm', 'lyrical', 'acoustic guitar']",
         "mbtag": "['folk', 'soft rock', 'acoustic', 'rock', 'american', 'surf', 'pop and chart']",
         "artist_latitude": 40.7038,
         "artist_longitude": -73.83168,
         "artist_location": "Queens, NY",
         "song_display_name": "The Cove - Jack Johnson",
         "_deepnote_index_column": 0
        },
        {
         "user_id": "b80344d063b5ccb3212f76538f3d9e43d87dca9e",
         "song_id": "SOBBMDR12A8C13253B",
         "listen_count": 2,
         "track_id": "TRMHBXZ128F4238406",
         "title": "Entre Dos Aguas",
         "release": "Flamenco Para Niños",
         "artist_id": "ARC1SF21187FB51D0F",
         "artist_mbid": "7bc8dd01-35ea-4b18-a64d-3a364dc76a52",
         "artist_name": "Paco De Lucia",
         "duration": 358.24281,
         "artist_familiarity": 0.63311927638,
         "artist_hotttnesss": 0.417718449728,
         "year": 1976,
         "track_7digitalid": 2631392,
         "shs_perf": -1,
         "shs_work": 0,
         "term": "['flamenco', 'tango', 'world fusion', 'british pop', 'chill-out', 'southern rock', 'jazz fusion', 'latin jazz', 'grunge', 'world music', 'oldies', 'jazz', 'reggae', 'heavy metal', 'classic rock', 'emo', 'progressive rock', 'blues', 'post-bop', 'hard rock', 'hip hop', 'techno', 'rap', 'new wave', 'alternative rock', 'singer-songwriter', 'guitar virtuoso', 'soundtrack', 'fusion', 'world', 'guitar', 'female vocalist', 'indie rock', 'acoustic', 'latin', 'spanish', 'instrumental', 'rock', 'electronic', 'soul', 'punk', 'indie', 'alternative', 'metal', 'pop', 'classical', 'ambient', 'folk', '80s']",
         "mbtag": "['spanish', 'flamenco']",
         "artist_latitude": "nan",
         "artist_longitude": "nan",
         "artist_location": "nan",
         "song_display_name": "Entre Dos Aguas - Paco De Lucia",
         "_deepnote_index_column": 1
        },
        {
         "user_id": "b80344d063b5ccb3212f76538f3d9e43d87dca9e",
         "song_id": "SOBXHDL12A81C204C0",
         "listen_count": 1,
         "track_id": "TRHNCIR128F42334A5",
         "title": "Stronger",
         "release": "Graduation",
         "artist_id": "ARRH63Y1187FB47783",
         "artist_mbid": "164f0d73-1234-4e2c-8743-d77bf2191051",
         "artist_name": "Kanye West",
         "duration": 311.84934,
         "artist_familiarity": 0.877213745925,
         "artist_hotttnesss": 1.08250255673,
         "year": 2007,
         "track_7digitalid": 1351505,
         "shs_perf": -1,
         "shs_work": 0,
         "term": "['hip hop', 'rap', 'soul', 'east coast rap', 'alternative rap', 'club', 'beats', 'jazz', 'electro', 'classic', 'black', 'indie', 'urban', 'party music', 'producer', 'united states', 'fresh', 'smooth', 'gangsta']",
         "mbtag": "['hip-hop', 'american', 'hip hop rnb and dance hall', 'rapper', 'us', 'producer']",
         "artist_latitude": 51.34481,
         "artist_longitude": 12.38551,
         "artist_location": "Atlanta, GA",
         "song_display_name": "Stronger - Kanye West",
         "_deepnote_index_column": 2
        },
        {
         "user_id": "b80344d063b5ccb3212f76538f3d9e43d87dca9e",
         "song_id": "SOBYHAJ12A6701BF1D",
         "listen_count": 1,
         "track_id": "TRYBNIB128F428E704",
         "title": "Constellations",
         "release": "In Between Dreams",
         "artist_id": "ARC8CQZ1187B98DECA",
         "artist_mbid": "ff6e677f-91dd-4986-a174-8db0474b1799",
         "artist_name": "Jack Johnson",
         "duration": 201.63873,
         "artist_familiarity": 0.832011769132,
         "artist_hotttnesss": 0.694128502959,
         "year": 2005,
         "track_7digitalid": 2424087,
         "shs_perf": -1,
         "shs_work": 0,
         "term": "['rock', 'singer-songwriter', 'folk', 'soundtrack', 'modern rock', 'guitar', 'blues', 'acoustic', 'mellow', 'romantic', 'piano', 'pop', 'vocal', 'soft', 'beautiful', 'surf music', 'song writer', 'up beat', 'soul', 'relax', 'warm', 'lyrical', 'acoustic guitar']",
         "mbtag": "['folk', 'soft rock', 'acoustic', 'rock', 'american', 'surf', 'pop and chart']",
         "artist_latitude": 40.7038,
         "artist_longitude": -73.83168,
         "artist_location": "Queens, NY",
         "song_display_name": "Constellations - Jack Johnson",
         "_deepnote_index_column": 3
        },
        {
         "user_id": "b80344d063b5ccb3212f76538f3d9e43d87dca9e",
         "song_id": "SODACBL12A8C13C273",
         "listen_count": 1,
         "track_id": "TRKRHYM128F42934A9",
         "title": "Learn To Fly",
         "release": "There Is Nothing Left To Lose",
         "artist_id": "AR6XPWV1187B9ADAEB",
         "artist_mbid": "67f66c07-6e61-4026-ade5-7e782fad3a5d",
         "artist_name": "Foo Fighters",
         "duration": 235.28444,
         "artist_familiarity": 0.839275392927,
         "artist_hotttnesss": 0.550762084656,
         "year": 1999,
         "track_7digitalid": 3360473,
         "shs_perf": -1,
         "shs_work": 0,
         "term": "['grunge', 'alternative rock', 'hard rock', 'rock', 'seattle', 'hardcore punk', 'classic rock', 'punk', 'guitar', 'classic', 'heavy', 'acoustic', 'alternative', 'hardcore', 'pop', 'bass', 'instrumental', 'aggressive', 'crossover', 'country', 'metal', 'united states', 'indie', 'mellow']",
         "mbtag": "['rock', 'post-grunge', 'american', 'alternative rock', 'hard rock', 'rock and indie']",
         "artist_latitude": "nan",
         "artist_longitude": "nan",
         "artist_location": "nan",
         "song_display_name": "Learn To Fly - Foo Fighters",
         "_deepnote_index_column": 4
        },
        {
         "user_id": "b80344d063b5ccb3212f76538f3d9e43d87dca9e",
         "song_id": "SODDNQT12A6D4F5F7E",
         "listen_count": 5,
         "track_id": "TRPTWGR128F1452734",
         "title": "Apuesta Por El Rock 'N' Roll",
         "release": "Antología Audiovisual",
         "artist_id": "AR3SPD91187B9B63E3",
         "artist_mbid": "4bb712d6-8be9-4c09-810a-eb3bed2be345",
         "artist_name": "Héroes del Silencio",
         "duration": 231.36608,
         "artist_familiarity": 0.67290413393,
         "artist_hotttnesss": 0.524063332776,
         "year": 2007,
         "track_7digitalid": 208825,
         "shs_perf": -1,
         "shs_work": 0,
         "term": "['hard rock', 'indie rock', 'gothic rock', 'gothic metal', 'pop rock', 'classic rock', 'progressive rock', 'alternative rock', 'rock', 'new wave', 'male vocalist', 'spanish', 'latin', 'spanish rock', 'rock en espanol', '90s', 'electronic', '80s', 'alternative', 'pop', 'indie', 'metal', 'industrial', 'gothic', 'european', 'spain', 'cover', 'spanish pop', 'guitar', 'old school', 'poetry', 'latin rock', 'hair metal']",
         "mbtag": "['spanish', 'rock']",
         "artist_latitude": "nan",
         "artist_longitude": "nan",
         "artist_location": "nan",
         "song_display_name": "Apuesta Por El Rock 'N' Roll - Héroes del Silencio",
         "_deepnote_index_column": 5
        },
        {
         "user_id": "b80344d063b5ccb3212f76538f3d9e43d87dca9e",
         "song_id": "SODXRTY12AB0180F3B",
         "listen_count": 1,
         "track_id": "TRFUPBA128F934F7E1",
         "title": "Paper Gangsta",
         "release": "The Fame Monster",
         "artist_id": "ARX6TAQ11C8A415850",
         "artist_mbid": "650e7db6-b795-4eb5-a702-5ea2fc46c848",
         "artist_name": "Lady GaGa",
         "duration": 263.33995,
         "artist_familiarity": 0.939227164591,
         "artist_hotttnesss": 0.838447767795,
         "year": 2008,
         "track_7digitalid": 7171639,
         "shs_perf": -1,
         "shs_work": 0,
         "term": "['dance pop', 'electropop', 'pop', 'club', 'urban', 'disco', 'pop rock', 'ballad', 'synthpop', 'female vocalist', 'electro', 'electronica', 'united states', 'r&b', 'techno', 'hip hop', 'electronic', 'sexy', 'rock', '00s', 'american', 'female', 'beautiful', 'alternative', 'english', 'new york', 'experimental', 'indie', 'female vocals', 'funky', 'piano']",
         "mbtag": "['pop', 'united states', 'américain', 'american', 'the fame', 'electronic', 'electropop', 'usa']",
         "artist_latitude": 40.71455,
         "artist_longitude": -74.00712,
         "artist_location": "New York City",
         "song_display_name": "Paper Gangsta - Lady GaGa",
         "_deepnote_index_column": 6
        },
        {
         "user_id": "b80344d063b5ccb3212f76538f3d9e43d87dca9e",
         "song_id": "SOFGUAY12AB017B0A8",
         "listen_count": 1,
         "track_id": "TRTUCUY128F92E1D24",
         "title": "Stacked Actors",
         "release": "There Is Nothing Left To Lose",
         "artist_id": "AR6XPWV1187B9ADAEB",
         "artist_mbid": "67f66c07-6e61-4026-ade5-7e782fad3a5d",
         "artist_name": "Foo Fighters",
         "duration": 256.46975,
         "artist_familiarity": 0.839275392927,
         "artist_hotttnesss": 0.550762084656,
         "year": 1999,
         "track_7digitalid": 3679761,
         "shs_perf": -1,
         "shs_work": 0,
         "term": "['grunge', 'alternative rock', 'hard rock', 'rock', 'seattle', 'hardcore punk', 'classic rock', 'punk', 'guitar', 'classic', 'heavy', 'acoustic', 'alternative', 'hardcore', 'pop', 'bass', 'instrumental', 'aggressive', 'crossover', 'country', 'metal', 'united states', 'indie', 'mellow']",
         "mbtag": "['rock', 'post-grunge', 'american', 'alternative rock', 'hard rock', 'rock and indie']",
         "artist_latitude": "nan",
         "artist_longitude": "nan",
         "artist_location": "nan",
         "song_display_name": "Stacked Actors - Foo Fighters",
         "_deepnote_index_column": 7
        },
        {
         "user_id": "b80344d063b5ccb3212f76538f3d9e43d87dca9e",
         "song_id": "SOFRQTD12A81C233C0",
         "listen_count": 1,
         "track_id": "TRDMBIJ128F4290431",
         "title": "Sehr kosmisch",
         "release": "Musik von Harmonia",
         "artist_id": "AR0IVTL1187B9AD520",
         "artist_mbid": "122d63fc-8671-43e4-9752-34e846d62a9c",
         "artist_name": "Harmonia",
         "duration": 655.77751,
         "artist_familiarity": 0.505948890866,
         "artist_hotttnesss": 0.848826278193,
         "year": 0,
         "track_7digitalid": 2436752,
         "shs_perf": -1,
         "shs_work": 0,
         "term": "['teen pop', 'alternative rock', 'pop rock', 'british pop', 'electropop', 'dance pop', 'power pop', 'pop', 'ballad', 'rock', 'female vocalist', 'easy listening', 'indie pop', 'united states', 'pop punk', 'disco', 'indie rock', 'electro', 'new wave', 'electronica', 'emo', 'soundtrack', 'indie', 'progressive rock', 'funk', 'hip hop', 'alternative', '00s', 'sexy', 'rap', 'american', 'english', 'electronic', 'female', 'beautiful', 'female vocals', 'punk', 'acoustic', 'experimental', 'soul']",
         "mbtag": "['pop', 'américain', 'usa', 'american', 'united states']",
         "artist_latitude": 34.05349,
         "artist_longitude": -118.24532,
         "artist_location": "Los Angeles, CA",
         "song_display_name": "Sehr kosmisch - Harmonia",
         "_deepnote_index_column": 8
        },
        {
         "user_id": "b80344d063b5ccb3212f76538f3d9e43d87dca9e",
         "song_id": "SOHQWYZ12A6D4FA701",
         "listen_count": 1,
         "track_id": "TRHDDQG12903CB53EE",
         "title": "Heaven's gonna burn your eyes",
         "release": "Hôtel Costes 7 by Stéphane Pompougnac",
         "artist_id": "ARVTCS91187FB44DF6",
         "artist_mbid": "a505bb48-ad65-4af4-ae47-29149715bff9",
         "artist_name": "Thievery Corporation feat. Emiliana Torrini",
         "duration": 251.74159,
         "artist_familiarity": 0.778079975476,
         "artist_hotttnesss": 0.561861499693,
         "year": 2002,
         "track_7digitalid": 8851676,
         "shs_perf": -1,
         "shs_work": 0,
         "term": "['trip hop', 'dub', 'electronica', 'psychedelic', 'germany', 'acid jazz', 'bossa nova', 'soundtrack', 'downtempo', 'jazz', 'easy listening', 'reggae', 'hip hop', 'electronic', 'remix', 'instrumental', 'classical', 'sexy', 'minimal', 'abstract', 'eclectic', 'indie', 'punk', 'beats', 'groove', 'percussion']",
         "mbtag": "['4ad', 'dance and electronica', 'downtempo', 'trip-hop', 'dub']",
         "artist_latitude": "nan",
         "artist_longitude": "nan",
         "artist_location": "nan",
         "song_display_name": "Heaven's gonna burn your eyes - Thievery Corporation feat. Emiliana Torrini",
         "_deepnote_index_column": 9
        }
       ]
      },
      "text/plain": "                                       user_id             song_id  \\\n0     b80344d063b5ccb3212f76538f3d9e43d87dca9e  SOAKIMP12A8C130995   \n1     b80344d063b5ccb3212f76538f3d9e43d87dca9e  SOBBMDR12A8C13253B   \n2     b80344d063b5ccb3212f76538f3d9e43d87dca9e  SOBXHDL12A81C204C0   \n3     b80344d063b5ccb3212f76538f3d9e43d87dca9e  SOBYHAJ12A6701BF1D   \n4     b80344d063b5ccb3212f76538f3d9e43d87dca9e  SODACBL12A8C13C273   \n...                                        ...                 ...   \n9995  8244d38b6505d44c6f44a4b29ad7fa260578e419  SODASIJ12A6D4F5D89   \n9996  8244d38b6505d44c6f44a4b29ad7fa260578e419  SOEFSXD12AF72ACED4   \n9997  8244d38b6505d44c6f44a4b29ad7fa260578e419  SOEGIYH12A6D4FC0E3   \n9998  8244d38b6505d44c6f44a4b29ad7fa260578e419  SOEZMOB12A8C139067   \n9999  8244d38b6505d44c6f44a4b29ad7fa260578e419  SOFRIAZ12AB017E5E5   \n\n      listen_count            track_id  \\\n0                1  TRIQAUQ128F42435AD   \n1                2  TRMHBXZ128F4238406   \n2                1  TRHNCIR128F42334A5   \n3                1  TRYBNIB128F428E704   \n4                1  TRKRHYM128F42934A9   \n...            ...                 ...   \n9995             1  TRVPJPK128F1459159   \n9996             1  TRVVRNY128F931D017   \n9997             1  TRLGMFJ128F4217DBE   \n9998             1  TRGGZPN128F42891DB   \n9999             1  TRELQZH128F92EF99E   \n\n                                                  title  \\\n0                                              The Cove   \n1                                       Entre Dos Aguas   \n2                                              Stronger   \n3                                        Constellations   \n4                                          Learn To Fly   \n...                                                 ...   \n9995                                  The Invisible Man   \n9996                                      Crazy In Love   \n9997  Horn Concerto No. 4 in E flat K495: II. Romanc...   \n9998                                            We Ride   \n9999                                 North Of the Yukon   \n\n                              release           artist_id  \\\n0                  Thicker Than Water  ARC8CQZ1187B98DECA   \n1                 Flamenco Para Niños  ARC1SF21187FB51D0F   \n2                          Graduation  ARRH63Y1187FB47783   \n3                   In Between Dreams  ARC8CQZ1187B98DECA   \n4       There Is Nothing Left To Lose  AR6XPWV1187B9ADAEB   \n...                               ...                 ...   \n9995                The Invisible Man  ARSBWPY1187FB3C199   \n9996              Dangerously In Love  AR65K7A1187FB4DAA4   \n9997  Mozart - Eine kleine Nachtmusik  ARDIGKU124549A43DE   \n9998      Massive R & B - Spring 2007  ARKU3Z61187FB51DCA   \n9999            La Vie Electronique 2  AR4KTPG1187FB4C13F   \n\n                               artist_mbid  \\\n0     ff6e677f-91dd-4986-a174-8db0474b1799   \n1     7bc8dd01-35ea-4b18-a64d-3a364dc76a52   \n2     164f0d73-1234-4e2c-8743-d77bf2191051   \n3     ff6e677f-91dd-4986-a174-8db0474b1799   \n4     67f66c07-6e61-4026-ade5-7e782fad3a5d   \n...                                    ...   \n9995  ac82b7db-5910-41c2-9d10-f02df4f4e1e1   \n9996  183105b5-3e68-4748-9086-2c1c11bf7a3d   \n9997                                         \n9998  73e5e69d-3554-40d8-8516-00cb38737a1c   \n9999  2e710b0c-6ff3-4c21-87d5-16ebbbca212c   \n\n                                            artist_name    duration  ...  \\\n0                                          Jack Johnson   112.63955  ...   \n1                                         Paco De Lucia   358.24281  ...   \n2                                            Kanye West   311.84934  ...   \n3                                          Jack Johnson   201.63873  ...   \n4                                          Foo Fighters   235.28444  ...   \n...                                                 ...         ...  ...   \n9995                                      Michael Cretu   301.06077  ...   \n9996                                Beyoncé feat. Jay-Z   235.93751  ...   \n9997  Barry Tuckwell/Academy of St Martin-in-the-Fie...   277.15873  ...   \n9998                                            Rihanna   234.34404  ...   \n9999                                      Klaus Schulze  1242.46159  ...   \n\n      year  track_7digitalid  shs_perf  shs_work  \\\n0        0           2093263        -1         0   \n1     1976           2631392        -1         0   \n2     2007           1351505        -1         0   \n3     2005           2424087        -1         0   \n4     1999           3360473        -1         0   \n...    ...               ...       ...       ...   \n9995  1985            242060        -1         0   \n9996  2003           6008835        -1         0   \n9997     0           2486330        -1         0   \n9998  2006           1077728        -1         0   \n9999  1997           4874268        -1         0   \n\n                                                   term  \\\n0     [rock, singer-songwriter, folk, soundtrack, mo...   \n1     [flamenco, tango, world fusion, british pop, c...   \n2     [hip hop, rap, soul, east coast rap, alternati...   \n3     [rock, singer-songwriter, folk, soundtrack, mo...   \n4     [grunge, alternative rock, hard rock, rock, se...   \n...                                                 ...   \n9995  [disco, italian disco, downtempo, europop, pop...   \n9996  [hip hop, pop, rock, soul, adult contemporary,...   \n9997                                                NaN   \n9998  [dance pop, dancehall, hip hop, ballad, pop ro...   \n9999  [kraut rock, electronic, ambient, space rock, ...   \n\n                                                  mbtag artist_latitude  \\\n0     [folk, soft rock, acoustic, rock, american, su...        40.70380   \n1                                   [spanish, flamenco]             NaN   \n2     [hip-hop, american, hip hop rnb and dance hall...        51.34481   \n3     [folk, soft rock, acoustic, rock, american, su...        40.70380   \n4     [rock, post-grunge, american, alternative rock...             NaN   \n...                                                 ...             ...   \n9995                                                NaN             NaN   \n9996             [hip hop rnb and dance hall, rnb, pop]             NaN   \n9997                                                NaN             NaN   \n9998  [barbadian, pop and chart, barbade, barbadien,...        13.11199   \n9999  [german, ambient, krautrock, electronic, new a...        52.51607   \n\n     artist_longitude       artist_location  \\\n0           -73.83168            Queens, NY   \n1                 NaN                   NaN   \n2            12.38551           Atlanta, GA   \n3           -73.83168            Queens, NY   \n4                 NaN                   NaN   \n...               ...                   ...   \n9995              NaN                   NaN   \n9996              NaN                   NaN   \n9997              NaN                   NaN   \n9998        -59.59895  St Michael, Barbados   \n9999         13.37698       Berlin, Germany   \n\n                                      song_display_name  \n0                               The Cove - Jack Johnson  \n1                       Entre Dos Aguas - Paco De Lucia  \n2                                 Stronger - Kanye West  \n3                         Constellations - Jack Johnson  \n4                           Learn To Fly - Foo Fighters  \n...                                                 ...  \n9995                  The Invisible Man - Michael Cretu  \n9996                Crazy In Love - Beyoncé feat. Jay-Z  \n9997  Horn Concerto No. 4 in E flat K495: II. Romanc...  \n9998                                  We Ride - Rihanna  \n9999                 North Of the Yukon - Klaus Schulze  \n\n[10000 rows x 22 columns]",
      "text/html": "<div>\n<style scoped>\n    .dataframe tbody tr th:only-of-type {\n        vertical-align: middle;\n    }\n\n    .dataframe tbody tr th {\n        vertical-align: top;\n    }\n\n    .dataframe thead th {\n        text-align: right;\n    }\n</style>\n<table border=\"1\" class=\"dataframe\">\n  <thead>\n    <tr style=\"text-align: right;\">\n      <th></th>\n      <th>user_id</th>\n      <th>song_id</th>\n      <th>listen_count</th>\n      <th>track_id</th>\n      <th>title</th>\n      <th>release</th>\n      <th>artist_id</th>\n      <th>artist_mbid</th>\n      <th>artist_name</th>\n      <th>duration</th>\n      <th>...</th>\n      <th>year</th>\n      <th>track_7digitalid</th>\n      <th>shs_perf</th>\n      <th>shs_work</th>\n      <th>term</th>\n      <th>mbtag</th>\n      <th>artist_latitude</th>\n      <th>artist_longitude</th>\n      <th>artist_location</th>\n      <th>song_display_name</th>\n    </tr>\n  </thead>\n  <tbody>\n    <tr>\n      <th>0</th>\n      <td>b80344d063b5ccb3212f76538f3d9e43d87dca9e</td>\n      <td>SOAKIMP12A8C130995</td>\n      <td>1</td>\n      <td>TRIQAUQ128F42435AD</td>\n      <td>The Cove</td>\n      <td>Thicker Than Water</td>\n      <td>ARC8CQZ1187B98DECA</td>\n      <td>ff6e677f-91dd-4986-a174-8db0474b1799</td>\n      <td>Jack Johnson</td>\n      <td>112.63955</td>\n      <td>...</td>\n      <td>0</td>\n      <td>2093263</td>\n      <td>-1</td>\n      <td>0</td>\n      <td>[rock, singer-songwriter, folk, soundtrack, mo...</td>\n      <td>[folk, soft rock, acoustic, rock, american, su...</td>\n      <td>40.70380</td>\n      <td>-73.83168</td>\n      <td>Queens, NY</td>\n      <td>The Cove - Jack Johnson</td>\n    </tr>\n    <tr>\n      <th>1</th>\n      <td>b80344d063b5ccb3212f76538f3d9e43d87dca9e</td>\n      <td>SOBBMDR12A8C13253B</td>\n      <td>2</td>\n      <td>TRMHBXZ128F4238406</td>\n      <td>Entre Dos Aguas</td>\n      <td>Flamenco Para Niños</td>\n      <td>ARC1SF21187FB51D0F</td>\n      <td>7bc8dd01-35ea-4b18-a64d-3a364dc76a52</td>\n      <td>Paco De Lucia</td>\n      <td>358.24281</td>\n      <td>...</td>\n      <td>1976</td>\n      <td>2631392</td>\n      <td>-1</td>\n      <td>0</td>\n      <td>[flamenco, tango, world fusion, british pop, c...</td>\n      <td>[spanish, flamenco]</td>\n      <td>NaN</td>\n      <td>NaN</td>\n      <td>NaN</td>\n      <td>Entre Dos Aguas - Paco De Lucia</td>\n    </tr>\n    <tr>\n      <th>2</th>\n      <td>b80344d063b5ccb3212f76538f3d9e43d87dca9e</td>\n      <td>SOBXHDL12A81C204C0</td>\n      <td>1</td>\n      <td>TRHNCIR128F42334A5</td>\n      <td>Stronger</td>\n      <td>Graduation</td>\n      <td>ARRH63Y1187FB47783</td>\n      <td>164f0d73-1234-4e2c-8743-d77bf2191051</td>\n      <td>Kanye West</td>\n      <td>311.84934</td>\n      <td>...</td>\n      <td>2007</td>\n      <td>1351505</td>\n      <td>-1</td>\n      <td>0</td>\n      <td>[hip hop, rap, soul, east coast rap, alternati...</td>\n      <td>[hip-hop, american, hip hop rnb and dance hall...</td>\n      <td>51.34481</td>\n      <td>12.38551</td>\n      <td>Atlanta, GA</td>\n      <td>Stronger - Kanye West</td>\n    </tr>\n    <tr>\n      <th>3</th>\n      <td>b80344d063b5ccb3212f76538f3d9e43d87dca9e</td>\n      <td>SOBYHAJ12A6701BF1D</td>\n      <td>1</td>\n      <td>TRYBNIB128F428E704</td>\n      <td>Constellations</td>\n      <td>In Between Dreams</td>\n      <td>ARC8CQZ1187B98DECA</td>\n      <td>ff6e677f-91dd-4986-a174-8db0474b1799</td>\n      <td>Jack Johnson</td>\n      <td>201.63873</td>\n      <td>...</td>\n      <td>2005</td>\n      <td>2424087</td>\n      <td>-1</td>\n      <td>0</td>\n      <td>[rock, singer-songwriter, folk, soundtrack, mo...</td>\n      <td>[folk, soft rock, acoustic, rock, american, su...</td>\n      <td>40.70380</td>\n      <td>-73.83168</td>\n      <td>Queens, NY</td>\n      <td>Constellations - Jack Johnson</td>\n    </tr>\n    <tr>\n      <th>4</th>\n      <td>b80344d063b5ccb3212f76538f3d9e43d87dca9e</td>\n      <td>SODACBL12A8C13C273</td>\n      <td>1</td>\n      <td>TRKRHYM128F42934A9</td>\n      <td>Learn To Fly</td>\n      <td>There Is Nothing Left To Lose</td>\n      <td>AR6XPWV1187B9ADAEB</td>\n      <td>67f66c07-6e61-4026-ade5-7e782fad3a5d</td>\n      <td>Foo Fighters</td>\n      <td>235.28444</td>\n      <td>...</td>\n      <td>1999</td>\n      <td>3360473</td>\n      <td>-1</td>\n      <td>0</td>\n      <td>[grunge, alternative rock, hard rock, rock, se...</td>\n      <td>[rock, post-grunge, american, alternative rock...</td>\n      <td>NaN</td>\n      <td>NaN</td>\n      <td>NaN</td>\n      <td>Learn To Fly - Foo Fighters</td>\n    </tr>\n    <tr>\n      <th>...</th>\n      <td>...</td>\n      <td>...</td>\n      <td>...</td>\n      <td>...</td>\n      <td>...</td>\n      <td>...</td>\n      <td>...</td>\n      <td>...</td>\n      <td>...</td>\n      <td>...</td>\n      <td>...</td>\n      <td>...</td>\n      <td>...</td>\n      <td>...</td>\n      <td>...</td>\n      <td>...</td>\n      <td>...</td>\n      <td>...</td>\n      <td>...</td>\n      <td>...</td>\n      <td>...</td>\n    </tr>\n    <tr>\n      <th>9995</th>\n      <td>8244d38b6505d44c6f44a4b29ad7fa260578e419</td>\n      <td>SODASIJ12A6D4F5D89</td>\n      <td>1</td>\n      <td>TRVPJPK128F1459159</td>\n      <td>The Invisible Man</td>\n      <td>The Invisible Man</td>\n      <td>ARSBWPY1187FB3C199</td>\n      <td>ac82b7db-5910-41c2-9d10-f02df4f4e1e1</td>\n      <td>Michael Cretu</td>\n      <td>301.06077</td>\n      <td>...</td>\n      <td>1985</td>\n      <td>242060</td>\n      <td>-1</td>\n      <td>0</td>\n      <td>[disco, italian disco, downtempo, europop, pop...</td>\n      <td>NaN</td>\n      <td>NaN</td>\n      <td>NaN</td>\n      <td>NaN</td>\n      <td>The Invisible Man - Michael Cretu</td>\n    </tr>\n    <tr>\n      <th>9996</th>\n      <td>8244d38b6505d44c6f44a4b29ad7fa260578e419</td>\n      <td>SOEFSXD12AF72ACED4</td>\n      <td>1</td>\n      <td>TRVVRNY128F931D017</td>\n      <td>Crazy In Love</td>\n      <td>Dangerously In Love</td>\n      <td>AR65K7A1187FB4DAA4</td>\n      <td>183105b5-3e68-4748-9086-2c1c11bf7a3d</td>\n      <td>Beyoncé feat. Jay-Z</td>\n      <td>235.93751</td>\n      <td>...</td>\n      <td>2003</td>\n      <td>6008835</td>\n      <td>-1</td>\n      <td>0</td>\n      <td>[hip hop, pop, rock, soul, adult contemporary,...</td>\n      <td>[hip hop rnb and dance hall, rnb, pop]</td>\n      <td>NaN</td>\n      <td>NaN</td>\n      <td>NaN</td>\n      <td>Crazy In Love - Beyoncé feat. Jay-Z</td>\n    </tr>\n    <tr>\n      <th>9997</th>\n      <td>8244d38b6505d44c6f44a4b29ad7fa260578e419</td>\n      <td>SOEGIYH12A6D4FC0E3</td>\n      <td>1</td>\n      <td>TRLGMFJ128F4217DBE</td>\n      <td>Horn Concerto No. 4 in E flat K495: II. Romanc...</td>\n      <td>Mozart - Eine kleine Nachtmusik</td>\n      <td>ARDIGKU124549A43DE</td>\n      <td></td>\n      <td>Barry Tuckwell/Academy of St Martin-in-the-Fie...</td>\n      <td>277.15873</td>\n      <td>...</td>\n      <td>0</td>\n      <td>2486330</td>\n      <td>-1</td>\n      <td>0</td>\n      <td>NaN</td>\n      <td>NaN</td>\n      <td>NaN</td>\n      <td>NaN</td>\n      <td>NaN</td>\n      <td>Horn Concerto No. 4 in E flat K495: II. Romanc...</td>\n    </tr>\n    <tr>\n      <th>9998</th>\n      <td>8244d38b6505d44c6f44a4b29ad7fa260578e419</td>\n      <td>SOEZMOB12A8C139067</td>\n      <td>1</td>\n      <td>TRGGZPN128F42891DB</td>\n      <td>We Ride</td>\n      <td>Massive R &amp; B - Spring 2007</td>\n      <td>ARKU3Z61187FB51DCA</td>\n      <td>73e5e69d-3554-40d8-8516-00cb38737a1c</td>\n      <td>Rihanna</td>\n      <td>234.34404</td>\n      <td>...</td>\n      <td>2006</td>\n      <td>1077728</td>\n      <td>-1</td>\n      <td>0</td>\n      <td>[dance pop, dancehall, hip hop, ballad, pop ro...</td>\n      <td>[barbadian, pop and chart, barbade, barbadien,...</td>\n      <td>13.11199</td>\n      <td>-59.59895</td>\n      <td>St Michael, Barbados</td>\n      <td>We Ride - Rihanna</td>\n    </tr>\n    <tr>\n      <th>9999</th>\n      <td>8244d38b6505d44c6f44a4b29ad7fa260578e419</td>\n      <td>SOFRIAZ12AB017E5E5</td>\n      <td>1</td>\n      <td>TRELQZH128F92EF99E</td>\n      <td>North Of the Yukon</td>\n      <td>La Vie Electronique 2</td>\n      <td>AR4KTPG1187FB4C13F</td>\n      <td>2e710b0c-6ff3-4c21-87d5-16ebbbca212c</td>\n      <td>Klaus Schulze</td>\n      <td>1242.46159</td>\n      <td>...</td>\n      <td>1997</td>\n      <td>4874268</td>\n      <td>-1</td>\n      <td>0</td>\n      <td>[kraut rock, electronic, ambient, space rock, ...</td>\n      <td>[german, ambient, krautrock, electronic, new a...</td>\n      <td>52.51607</td>\n      <td>13.37698</td>\n      <td>Berlin, Germany</td>\n      <td>North Of the Yukon - Klaus Schulze</td>\n    </tr>\n  </tbody>\n</table>\n<p>10000 rows × 22 columns</p>\n</div>"
     },
     "metadata": {},
     "output_type": "display_data"
    }
   ],
   "execution_count": 59
  },
  {
   "cell_type": "code",
   "source": "songs_df, songs_df_test = train_test_split(songs_df_raw, random_state=42, test_size=0.2, stratify=songs_df_raw['user_id'])",
   "metadata": {
    "cell_id": "808b17c9a0a24b0ab70503dc070b03c5",
    "tags": [],
    "deepnote_to_be_reexecuted": false,
    "source_hash": "caf14a8e",
    "execution_start": 1650035665660,
    "execution_millis": 471,
    "deepnote_cell_type": "code",
    "deepnote_cell_height": 81
   },
   "outputs": [],
   "execution_count": 60
  },
  {
   "cell_type": "code",
   "source": "print(len(songs_df))\nprint(len(songs_df['song_display_name'].unique()))\nprint(len(songs_df['song_id'].unique()))",
   "metadata": {
    "cell_id": "bbb42a68c35f48d0adcc03b93e446021",
    "tags": [],
    "deepnote_to_be_reexecuted": false,
    "source_hash": "eed1ad3e",
    "execution_start": 1650035668699,
    "execution_millis": 7,
    "deepnote_cell_type": "code",
    "deepnote_cell_height": 187.10000610351562
   },
   "outputs": [
    {
     "name": "stdout",
     "text": "8000\n4434\n4461\n",
     "output_type": "stream"
    }
   ],
   "execution_count": 61
  },
  {
   "cell_type": "code",
   "source": "songs_liked_by_users = []\nuser_ids = songs_df_test.user_id.unique()\nfor i in user_ids:\n    songs_liked_by_users.append(songs_df_test[songs_df_test['user_id'] == i]['song_id'].to_numpy())",
   "metadata": {
    "cell_id": "94765f81d5f6407897f1c2b0c5defe90",
    "tags": [],
    "deepnote_to_be_reexecuted": false,
    "source_hash": "262bf328",
    "execution_start": 1650035686957,
    "execution_millis": 87,
    "deepnote_cell_type": "code",
    "deepnote_cell_height": 135
   },
   "outputs": [],
   "execution_count": 62
  },
  {
   "cell_type": "code",
   "source": "song_grouped = songs_df.groupby(['song_id', 'song_display_name']).agg({'listen_count':'count'}).reset_index()\ngrouped_sum = song_grouped['listen_count'].sum()\nprint(grouped_sum)\nsong_grouped['percentage'] = (song_grouped['listen_count'] / grouped_sum ) * 100\nsong_grouped.sort_values(['listen_count', 'song_display_name'], ascending=[0,1])\n\nsong_grouped",
   "metadata": {
    "cell_id": "dde34bff5a7749a1b3af689432cfe580",
    "tags": [],
    "deepnote_to_be_reexecuted": false,
    "source_hash": "a2b994cb",
    "execution_start": 1650035695137,
    "execution_millis": 83,
    "deepnote_cell_type": "code",
    "deepnote_cell_height": 753.7000122070312
   },
   "outputs": [
    {
     "name": "stdout",
     "text": "8000\n",
     "output_type": "stream"
    },
    {
     "output_type": "execute_result",
     "execution_count": 63,
     "data": {
      "application/vnd.deepnote.dataframe.v3+json": {
       "column_count": 4,
       "row_count": 4461,
       "columns": [
        {
         "name": "song_id",
         "dtype": "object",
         "stats": {
          "unique_count": 4461,
          "nan_count": 0,
          "categories": [
           {
            "name": "SOAAAGQ12A8C1420C8",
            "count": 1
           },
           {
            "name": "SOAAFAC12A67ADF7EB",
            "count": 1
           },
           {
            "name": "4459 others",
            "count": 4459
           }
          ]
         }
        },
        {
         "name": "song_display_name",
         "dtype": "object",
         "stats": {
          "unique_count": 4434,
          "nan_count": 0,
          "categories": [
           {
            "name": "Human - The Killers",
            "count": 4
           },
           {
            "name": "Marble House - The Knife",
            "count": 2
           },
           {
            "name": "4432 others",
            "count": 4455
           }
          ]
         }
        },
        {
         "name": "listen_count",
         "dtype": "int64",
         "stats": {
          "unique_count": 21,
          "nan_count": 0,
          "min": "1",
          "max": "28",
          "histogram": [
           {
            "bin_start": 1,
            "bin_end": 3.7,
            "count": 4113
           },
           {
            "bin_start": 3.7,
            "bin_end": 6.4,
            "count": 257
           },
           {
            "bin_start": 6.4,
            "bin_end": 9.100000000000001,
            "count": 54
           },
           {
            "bin_start": 9.100000000000001,
            "bin_end": 11.8,
            "count": 7
           },
           {
            "bin_start": 11.8,
            "bin_end": 14.5,
            "count": 16
           },
           {
            "bin_start": 14.5,
            "bin_end": 17.200000000000003,
            "count": 6
           },
           {
            "bin_start": 17.200000000000003,
            "bin_end": 19.900000000000002,
            "count": 4
           },
           {
            "bin_start": 19.900000000000002,
            "bin_end": 22.6,
            "count": 2
           },
           {
            "bin_start": 22.6,
            "bin_end": 25.3,
            "count": 1
           },
           {
            "bin_start": 25.3,
            "bin_end": 28,
            "count": 1
           }
          ]
         }
        },
        {
         "name": "percentage",
         "dtype": "float64",
         "stats": {
          "unique_count": 21,
          "nan_count": 0,
          "min": "0.0125",
          "max": "0.35000000000000003",
          "histogram": [
           {
            "bin_start": 0.0125,
            "bin_end": 0.04625,
            "count": 4113
           },
           {
            "bin_start": 0.04625,
            "bin_end": 0.08,
            "count": 257
           },
           {
            "bin_start": 0.08,
            "bin_end": 0.11375,
            "count": 54
           },
           {
            "bin_start": 0.11375,
            "bin_end": 0.14750000000000002,
            "count": 7
           },
           {
            "bin_start": 0.14750000000000002,
            "bin_end": 0.18125000000000002,
            "count": 16
           },
           {
            "bin_start": 0.18125000000000002,
            "bin_end": 0.21500000000000002,
            "count": 6
           },
           {
            "bin_start": 0.21500000000000002,
            "bin_end": 0.24875000000000003,
            "count": 4
           },
           {
            "bin_start": 0.24875000000000003,
            "bin_end": 0.28250000000000003,
            "count": 2
           },
           {
            "bin_start": 0.28250000000000003,
            "bin_end": 0.31625000000000003,
            "count": 1
           },
           {
            "bin_start": 0.31625000000000003,
            "bin_end": 0.35000000000000003,
            "count": 1
           }
          ]
         }
        },
        {
         "name": "_deepnote_index_column",
         "dtype": "int64"
        }
       ],
       "rows": [
        {
         "song_id": "SOAAAGQ12A8C1420C8",
         "song_display_name": "Orgelblut - Bohren & Der Club Of Gore",
         "listen_count": 1,
         "percentage": 0.0125,
         "_deepnote_index_column": 0
        },
        {
         "song_id": "SOAAFAC12A67ADF7EB",
         "song_display_name": "Rome Wasn't Built In A Day - Morcheeba",
         "listen_count": 2,
         "percentage": 0.025,
         "_deepnote_index_column": 1
        },
        {
         "song_id": "SOAAKPM12A58A77210",
         "song_display_name": "So Confused (feat. Butta Creame) (amended album version) - Pretty Ricky",
         "listen_count": 1,
         "percentage": 0.0125,
         "_deepnote_index_column": 2
        },
        {
         "song_id": "SOAAOYI12AB01831CE",
         "song_display_name": "Criminal - Gotan Project",
         "listen_count": 1,
         "percentage": 0.0125,
         "_deepnote_index_column": 3
        },
        {
         "song_id": "SOAAVUV12AB0186646",
         "song_display_name": "STARSTRUKK [FEATURINGKATYPERRY] (Explicit Bonus Version) - 3OH!3",
         "listen_count": 2,
         "percentage": 0.025,
         "_deepnote_index_column": 4
        },
        {
         "song_id": "SOABHYV12A6D4F6D0F",
         "song_display_name": "Shadow Of The Day (Album Version) - Linkin Park",
         "listen_count": 1,
         "percentage": 0.0125,
         "_deepnote_index_column": 5
        },
        {
         "song_id": "SOABJBU12A8C13F63F",
         "song_display_name": "Back Against The Wall - Cage The Elephant",
         "listen_count": 3,
         "percentage": 0.0375,
         "_deepnote_index_column": 6
        },
        {
         "song_id": "SOABJTC12A58A7DE0E",
         "song_display_name": "Halo - The Pussycat Dolls",
         "listen_count": 2,
         "percentage": 0.025,
         "_deepnote_index_column": 7
        },
        {
         "song_id": "SOABNPW12A6D4FC9B5",
         "song_display_name": "The Canals Of Our City - Beirut",
         "listen_count": 2,
         "percentage": 0.025,
         "_deepnote_index_column": 8
        },
        {
         "song_id": "SOABRAB12A6D4F7AAF",
         "song_display_name": "A Pain That I\u0019m Used To - Depeche Mode",
         "listen_count": 1,
         "percentage": 0.0125,
         "_deepnote_index_column": 9
        }
       ]
      },
      "text/plain": "                 song_id                                  song_display_name  \\\n0     SOAAAGQ12A8C1420C8              Orgelblut - Bohren & Der Club Of Gore   \n1     SOAAFAC12A67ADF7EB             Rome Wasn't Built In A Day - Morcheeba   \n2     SOAAKPM12A58A77210  So Confused (feat. Butta Creame) (amended albu...   \n3     SOAAOYI12AB01831CE                           Criminal - Gotan Project   \n4     SOAAVUV12AB0186646  STARSTRUKK [FEATURINGKATYPERRY] (Explicit Bonu...   \n...                  ...                                                ...   \n4456  SOZZIOH12A67ADE300                  Watch The Tapes - LCD Soundsystem   \n4457  SOZZLZN12A8AE48D6D      Afterlife (Album Version) - Avenged Sevenfold   \n4458  SOZZRHE12A6702165F                             Tommy The Cat - Primus   \n4459  SOZZTCU12AB0182C58  Throw Some D's Remix - Rich Boy / Andre 3000 /...   \n4460  SOZZVWB12AB0189C30                                Recovered - Marco V   \n\n      listen_count  percentage  \n0                1      0.0125  \n1                2      0.0250  \n2                1      0.0125  \n3                1      0.0125  \n4                2      0.0250  \n...            ...         ...  \n4456             3      0.0375  \n4457             1      0.0125  \n4458             2      0.0250  \n4459             2      0.0250  \n4460             1      0.0125  \n\n[4461 rows x 4 columns]",
      "text/html": "<div>\n<style scoped>\n    .dataframe tbody tr th:only-of-type {\n        vertical-align: middle;\n    }\n\n    .dataframe tbody tr th {\n        vertical-align: top;\n    }\n\n    .dataframe thead th {\n        text-align: right;\n    }\n</style>\n<table border=\"1\" class=\"dataframe\">\n  <thead>\n    <tr style=\"text-align: right;\">\n      <th></th>\n      <th>song_id</th>\n      <th>song_display_name</th>\n      <th>listen_count</th>\n      <th>percentage</th>\n    </tr>\n  </thead>\n  <tbody>\n    <tr>\n      <th>0</th>\n      <td>SOAAAGQ12A8C1420C8</td>\n      <td>Orgelblut - Bohren &amp; Der Club Of Gore</td>\n      <td>1</td>\n      <td>0.0125</td>\n    </tr>\n    <tr>\n      <th>1</th>\n      <td>SOAAFAC12A67ADF7EB</td>\n      <td>Rome Wasn't Built In A Day - Morcheeba</td>\n      <td>2</td>\n      <td>0.0250</td>\n    </tr>\n    <tr>\n      <th>2</th>\n      <td>SOAAKPM12A58A77210</td>\n      <td>So Confused (feat. Butta Creame) (amended albu...</td>\n      <td>1</td>\n      <td>0.0125</td>\n    </tr>\n    <tr>\n      <th>3</th>\n      <td>SOAAOYI12AB01831CE</td>\n      <td>Criminal - Gotan Project</td>\n      <td>1</td>\n      <td>0.0125</td>\n    </tr>\n    <tr>\n      <th>4</th>\n      <td>SOAAVUV12AB0186646</td>\n      <td>STARSTRUKK [FEATURINGKATYPERRY] (Explicit Bonu...</td>\n      <td>2</td>\n      <td>0.0250</td>\n    </tr>\n    <tr>\n      <th>...</th>\n      <td>...</td>\n      <td>...</td>\n      <td>...</td>\n      <td>...</td>\n    </tr>\n    <tr>\n      <th>4456</th>\n      <td>SOZZIOH12A67ADE300</td>\n      <td>Watch The Tapes - LCD Soundsystem</td>\n      <td>3</td>\n      <td>0.0375</td>\n    </tr>\n    <tr>\n      <th>4457</th>\n      <td>SOZZLZN12A8AE48D6D</td>\n      <td>Afterlife (Album Version) - Avenged Sevenfold</td>\n      <td>1</td>\n      <td>0.0125</td>\n    </tr>\n    <tr>\n      <th>4458</th>\n      <td>SOZZRHE12A6702165F</td>\n      <td>Tommy The Cat - Primus</td>\n      <td>2</td>\n      <td>0.0250</td>\n    </tr>\n    <tr>\n      <th>4459</th>\n      <td>SOZZTCU12AB0182C58</td>\n      <td>Throw Some D's Remix - Rich Boy / Andre 3000 /...</td>\n      <td>2</td>\n      <td>0.0250</td>\n    </tr>\n    <tr>\n      <th>4460</th>\n      <td>SOZZVWB12AB0189C30</td>\n      <td>Recovered - Marco V</td>\n      <td>1</td>\n      <td>0.0125</td>\n    </tr>\n  </tbody>\n</table>\n<p>4461 rows × 4 columns</p>\n</div>"
     },
     "metadata": {}
    }
   ],
   "execution_count": 63
  },
  {
   "cell_type": "code",
   "source": "# songs_csv_df (subset of 10K songs) to be used for song analysis data contains song features like tempo, danceability, energy, etc.\n\nsongs_csv_df.head()",
   "metadata": {
    "cell_id": "a5fc1ea31d3f4cccb858f1eb7e6d820b",
    "tags": [],
    "deepnote_to_be_reexecuted": false,
    "source_hash": "bede91bd",
    "execution_start": 1650035706668,
    "execution_millis": 48,
    "deepnote_cell_type": "code",
    "deepnote_cell_height": 431
   },
   "outputs": [
    {
     "output_type": "execute_result",
     "execution_count": 64,
     "data": {
      "application/vnd.deepnote.dataframe.v3+json": {
       "column_count": 29,
       "row_count": 5,
       "columns": [
        {
         "name": "SongNumber",
         "dtype": "int64",
         "stats": {
          "unique_count": 5,
          "nan_count": 0,
          "min": "1",
          "max": "5",
          "histogram": [
           {
            "bin_start": 1,
            "bin_end": 1.4,
            "count": 1
           },
           {
            "bin_start": 1.4,
            "bin_end": 1.8,
            "count": 0
           },
           {
            "bin_start": 1.8,
            "bin_end": 2.2,
            "count": 1
           },
           {
            "bin_start": 2.2,
            "bin_end": 2.6,
            "count": 0
           },
           {
            "bin_start": 2.6,
            "bin_end": 3,
            "count": 0
           },
           {
            "bin_start": 3,
            "bin_end": 3.4000000000000004,
            "count": 1
           },
           {
            "bin_start": 3.4000000000000004,
            "bin_end": 3.8000000000000003,
            "count": 0
           },
           {
            "bin_start": 3.8000000000000003,
            "bin_end": 4.2,
            "count": 1
           },
           {
            "bin_start": 4.2,
            "bin_end": 4.6,
            "count": 0
           },
           {
            "bin_start": 4.6,
            "bin_end": 5,
            "count": 1
           }
          ]
         }
        },
        {
         "name": "SongID",
         "dtype": "object",
         "stats": {
          "unique_count": 5,
          "nan_count": 0,
          "categories": [
           {
            "name": "SOMJBYD12A6D4F8557",
            "count": 1
           },
           {
            "name": "SOQHXMF12AB0182363",
            "count": 1
           },
           {
            "name": "3 others",
            "count": 3
           }
          ]
         }
        },
        {
         "name": "AlbumID",
         "dtype": "int64",
         "stats": {
          "unique_count": 5,
          "nan_count": 0,
          "min": "8876",
          "max": "692313",
          "histogram": [
           {
            "bin_start": 8876,
            "bin_end": 77219.7,
            "count": 2
           },
           {
            "bin_start": 77219.7,
            "bin_end": 145563.4,
            "count": 0
           },
           {
            "bin_start": 145563.4,
            "bin_end": 213907.09999999998,
            "count": 0
           },
           {
            "bin_start": 213907.09999999998,
            "bin_end": 282250.8,
            "count": 0
           },
           {
            "bin_start": 282250.8,
            "bin_end": 350594.5,
            "count": 1
           },
           {
            "bin_start": 350594.5,
            "bin_end": 418938.19999999995,
            "count": 0
           },
           {
            "bin_start": 418938.19999999995,
            "bin_end": 487281.89999999997,
            "count": 0
           },
           {
            "bin_start": 487281.89999999997,
            "bin_end": 555625.6,
            "count": 1
           },
           {
            "bin_start": 555625.6,
            "bin_end": 623969.2999999999,
            "count": 0
           },
           {
            "bin_start": 623969.2999999999,
            "bin_end": 692313,
            "count": 1
           }
          ]
         }
        },
        {
         "name": "AlbumName",
         "dtype": "object",
         "stats": {
          "unique_count": 5,
          "nan_count": 0,
          "categories": [
           {
            "name": "Da Ghetto Psychic",
            "count": 1
           },
           {
            "name": "I Need You",
            "count": 1
           },
           {
            "name": "3 others",
            "count": 3
           }
          ]
         }
        },
        {
         "name": "ArtistID",
         "dtype": "object",
         "stats": {
          "unique_count": 5,
          "nan_count": 0,
          "categories": [
           {
            "name": "ARD0S291187B9B7BF5",
            "count": 1
           },
           {
            "name": "ARGSJW91187B9B1D6B",
            "count": 1
           },
           {
            "name": "3 others",
            "count": 3
           }
          ]
         }
        },
        {
         "name": "MusicbrainzID",
         "dtype": "object",
         "stats": {
          "unique_count": 5,
          "nan_count": 0,
          "categories": [
           {
            "name": "56503d6d-094e-4c28-ae3d-04cc748ade5b",
            "count": 1
           },
           {
            "name": "eb722df4-372e-4742-8586-f7ff658012d6",
            "count": 1
           },
           {
            "name": "3 others",
            "count": 3
           }
          ]
         }
        },
        {
         "name": "PlayMeID",
         "dtype": "int64",
         "stats": {
          "unique_count": 2,
          "nan_count": 0,
          "min": "-1",
          "max": "12697",
          "histogram": [
           {
            "bin_start": -1,
            "bin_end": 1268.8,
            "count": 4
           },
           {
            "bin_start": 1268.8,
            "bin_end": 2538.6,
            "count": 0
           },
           {
            "bin_start": 2538.6,
            "bin_end": 3808.3999999999996,
            "count": 0
           },
           {
            "bin_start": 3808.3999999999996,
            "bin_end": 5078.2,
            "count": 0
           },
           {
            "bin_start": 5078.2,
            "bin_end": 6348,
            "count": 0
           },
           {
            "bin_start": 6348,
            "bin_end": 7617.799999999999,
            "count": 0
           },
           {
            "bin_start": 7617.799999999999,
            "bin_end": 8887.6,
            "count": 0
           },
           {
            "bin_start": 8887.6,
            "bin_end": 10157.4,
            "count": 0
           },
           {
            "bin_start": 10157.4,
            "bin_end": 11427.199999999999,
            "count": 0
           },
           {
            "bin_start": 11427.199999999999,
            "bin_end": 12697,
            "count": 1
           }
          ]
         }
        },
        {
         "name": "7DigitalID",
         "dtype": "int64",
         "stats": {
          "unique_count": 5,
          "nan_count": 0,
          "min": "17970",
          "max": "242273",
          "histogram": [
           {
            "bin_start": 17970,
            "bin_end": 40400.3,
            "count": 3
           },
           {
            "bin_start": 40400.3,
            "bin_end": 62830.6,
            "count": 1
           },
           {
            "bin_start": 62830.6,
            "bin_end": 85260.9,
            "count": 0
           },
           {
            "bin_start": 85260.9,
            "bin_end": 107691.2,
            "count": 0
           },
           {
            "bin_start": 107691.2,
            "bin_end": 130121.5,
            "count": 0
           },
           {
            "bin_start": 130121.5,
            "bin_end": 152551.8,
            "count": 0
           },
           {
            "bin_start": 152551.8,
            "bin_end": 174982.1,
            "count": 0
           },
           {
            "bin_start": 174982.1,
            "bin_end": 197412.4,
            "count": 0
           },
           {
            "bin_start": 197412.4,
            "bin_end": 219842.69999999998,
            "count": 0
           },
           {
            "bin_start": 219842.69999999998,
            "bin_end": 242273,
            "count": 1
           }
          ]
         }
        },
        {
         "name": "ArtistFamiliarity",
         "dtype": "float64",
         "stats": {
          "unique_count": 5,
          "nan_count": 0,
          "min": "0.3600311664643514",
          "max": "0.8011364469966873",
          "histogram": [
           {
            "bin_start": 0.3600311664643514,
            "bin_end": 0.40414169451758497,
            "count": 1
           },
           {
            "bin_start": 0.40414169451758497,
            "bin_end": 0.4482522225708186,
            "count": 0
           },
           {
            "bin_start": 0.4482522225708186,
            "bin_end": 0.49236275062405216,
            "count": 0
           },
           {
            "bin_start": 0.49236275062405216,
            "bin_end": 0.5364732786772858,
            "count": 0
           },
           {
            "bin_start": 0.5364732786772858,
            "bin_end": 0.5805838067305193,
            "count": 2
           },
           {
            "bin_start": 0.5805838067305193,
            "bin_end": 0.6246943347837529,
            "count": 0
           },
           {
            "bin_start": 0.6246943347837529,
            "bin_end": 0.6688048628369865,
            "count": 1
           },
           {
            "bin_start": 0.6688048628369865,
            "bin_end": 0.7129153908902202,
            "count": 0
           },
           {
            "bin_start": 0.7129153908902202,
            "bin_end": 0.7570259189434536,
            "count": 0
           },
           {
            "bin_start": 0.7570259189434536,
            "bin_end": 0.8011364469966873,
            "count": 1
           }
          ]
         }
        },
        {
         "name": "ArtistLatitude",
         "dtype": "float64",
         "stats": {
          "unique_count": 1,
          "nan_count": 4,
          "min": "35.21962",
          "max": "35.21962",
          "histogram": [
           {
            "bin_start": 34.71962,
            "bin_end": 34.81962,
            "count": 0
           },
           {
            "bin_start": 34.81962,
            "bin_end": 34.91962,
            "count": 0
           },
           {
            "bin_start": 34.91962,
            "bin_end": 35.019619999999996,
            "count": 0
           },
           {
            "bin_start": 35.019619999999996,
            "bin_end": 35.11962,
            "count": 0
           },
           {
            "bin_start": 35.11962,
            "bin_end": 35.21962,
            "count": 0
           },
           {
            "bin_start": 35.21962,
            "bin_end": 35.31962,
            "count": 1
           },
           {
            "bin_start": 35.31962,
            "bin_end": 35.41962,
            "count": 0
           },
           {
            "bin_start": 35.41962,
            "bin_end": 35.519619999999996,
            "count": 0
           },
           {
            "bin_start": 35.519619999999996,
            "bin_end": 35.61962,
            "count": 0
           },
           {
            "bin_start": 35.61962,
            "bin_end": 35.71962,
            "count": 0
           }
          ]
         }
        },
        {
         "name": "ArtistLocation",
         "dtype": "object",
         "stats": {
          "unique_count": 4,
          "nan_count": 1,
          "categories": [
           {
            "name": "Ohio",
            "count": 1
           },
           {
            "name": "3 others",
            "count": 3
           },
           {
            "name": "Missing",
            "count": 1
           }
          ]
         }
        },
        {
         "name": "Title",
         "dtype": "object",
         "stats": {
          "unique_count": 5,
          "nan_count": 0,
          "categories": [
           {
            "name": "Keepin It Real (Skit)",
            "count": 1
           },
           {
            "name": "Young Boy Blues",
            "count": 1
           },
           {
            "name": "3 others",
            "count": 3
           }
          ]
         }
        },
        {
         "name": "Year",
         "dtype": "int64",
         "stats": {
          "unique_count": 2,
          "nan_count": 0,
          "min": "0",
          "max": "1982",
          "histogram": [
           {
            "bin_start": 0,
            "bin_end": 198.2,
            "count": 4
           },
           {
            "bin_start": 198.2,
            "bin_end": 396.4,
            "count": 0
           },
           {
            "bin_start": 396.4,
            "bin_end": 594.5999999999999,
            "count": 0
           },
           {
            "bin_start": 594.5999999999999,
            "bin_end": 792.8,
            "count": 0
           },
           {
            "bin_start": 792.8,
            "bin_end": 991,
            "count": 0
           },
           {
            "bin_start": 991,
            "bin_end": 1189.1999999999998,
            "count": 0
           },
           {
            "bin_start": 1189.1999999999998,
            "bin_end": 1387.3999999999999,
            "count": 0
           },
           {
            "bin_start": 1387.3999999999999,
            "bin_end": 1585.6,
            "count": 0
           },
           {
            "bin_start": 1585.6,
            "bin_end": 1783.8,
            "count": 0
           },
           {
            "bin_start": 1783.8,
            "bin_end": 1982,
            "count": 1
           }
          ]
         }
        },
        {
         "name": "ArtistLongitude",
         "dtype": "float64",
         "stats": {
          "unique_count": 1,
          "nan_count": 4,
          "min": "-80.01955",
          "max": "-80.01955",
          "histogram": [
           {
            "bin_start": -80.51955,
            "bin_end": -80.41955,
            "count": 0
           },
           {
            "bin_start": -80.41955,
            "bin_end": -80.31954999999999,
            "count": 0
           },
           {
            "bin_start": -80.31954999999999,
            "bin_end": -80.21955,
            "count": 0
           },
           {
            "bin_start": -80.21955,
            "bin_end": -80.11954999999999,
            "count": 0
           },
           {
            "bin_start": -80.11954999999999,
            "bin_end": -80.01955,
            "count": 0
           },
           {
            "bin_start": -80.01955,
            "bin_end": -79.91955,
            "count": 1
           },
           {
            "bin_start": -79.91955,
            "bin_end": -79.81954999999999,
            "count": 0
           },
           {
            "bin_start": -79.81954999999999,
            "bin_end": -79.71955,
            "count": 0
           },
           {
            "bin_start": -79.71955,
            "bin_end": -79.61954999999999,
            "count": 0
           },
           {
            "bin_start": -79.61954999999999,
            "bin_end": -79.51955,
            "count": 0
           }
          ]
         }
        },
        {
         "name": "ArtistName",
         "dtype": "object",
         "stats": {
          "unique_count": 5,
          "nan_count": 0,
          "categories": [
           {
            "name": "Rated R",
            "count": 1
           },
           {
            "name": "JennyAnyKind",
            "count": 1
           },
           {
            "name": "3 others",
            "count": 3
           }
          ]
         }
        },
        {
         "name": "Danceability",
         "dtype": "float64",
         "stats": {
          "unique_count": 1,
          "nan_count": 0,
          "min": "0.0",
          "max": "0.0",
          "histogram": [
           {
            "bin_start": -0.5,
            "bin_end": -0.4,
            "count": 0
           },
           {
            "bin_start": -0.4,
            "bin_end": -0.3,
            "count": 0
           },
           {
            "bin_start": -0.3,
            "bin_end": -0.19999999999999996,
            "count": 0
           },
           {
            "bin_start": -0.19999999999999996,
            "bin_end": -0.09999999999999998,
            "count": 0
           },
           {
            "bin_start": -0.09999999999999998,
            "bin_end": 0,
            "count": 0
           },
           {
            "bin_start": 0,
            "bin_end": 0.10000000000000009,
            "count": 5
           },
           {
            "bin_start": 0.10000000000000009,
            "bin_end": 0.20000000000000007,
            "count": 0
           },
           {
            "bin_start": 0.20000000000000007,
            "bin_end": 0.30000000000000004,
            "count": 0
           },
           {
            "bin_start": 0.30000000000000004,
            "bin_end": 0.4,
            "count": 0
           },
           {
            "bin_start": 0.4,
            "bin_end": 0.5,
            "count": 0
           }
          ]
         }
        },
        {
         "name": "Duration",
         "dtype": "float64",
         "stats": {
          "unique_count": 5,
          "nan_count": 0,
          "min": "114.78159",
          "max": "266.39628",
          "histogram": [
           {
            "bin_start": 114.78159,
            "bin_end": 129.943059,
            "count": 1
           },
           {
            "bin_start": 129.943059,
            "bin_end": 145.104528,
            "count": 0
           },
           {
            "bin_start": 145.104528,
            "bin_end": 160.265997,
            "count": 0
           },
           {
            "bin_start": 160.265997,
            "bin_end": 175.42746599999998,
            "count": 0
           },
           {
            "bin_start": 175.42746599999998,
            "bin_end": 190.588935,
            "count": 1
           },
           {
            "bin_start": 190.588935,
            "bin_end": 205.750404,
            "count": 0
           },
           {
            "bin_start": 205.750404,
            "bin_end": 220.911873,
            "count": 1
           },
           {
            "bin_start": 220.911873,
            "bin_end": 236.073342,
            "count": 1
           },
           {
            "bin_start": 236.073342,
            "bin_end": 251.234811,
            "count": 0
           },
           {
            "bin_start": 251.234811,
            "bin_end": 266.39628,
            "count": 1
           }
          ]
         }
        },
        {
         "name": "Hotness",
         "dtype": "float64",
         "stats": {
          "unique_count": 1,
          "nan_count": 4,
          "min": "0.0",
          "max": "0.0",
          "histogram": [
           {
            "bin_start": -0.5,
            "bin_end": -0.4,
            "count": 0
           },
           {
            "bin_start": -0.4,
            "bin_end": -0.3,
            "count": 0
           },
           {
            "bin_start": -0.3,
            "bin_end": -0.19999999999999996,
            "count": 0
           },
           {
            "bin_start": -0.19999999999999996,
            "bin_end": -0.09999999999999998,
            "count": 0
           },
           {
            "bin_start": -0.09999999999999998,
            "bin_end": 0,
            "count": 0
           },
           {
            "bin_start": 0,
            "bin_end": 0.10000000000000009,
            "count": 1
           },
           {
            "bin_start": 0.10000000000000009,
            "bin_end": 0.20000000000000007,
            "count": 0
           },
           {
            "bin_start": 0.20000000000000007,
            "bin_end": 0.30000000000000004,
            "count": 0
           },
           {
            "bin_start": 0.30000000000000004,
            "bin_end": 0.4,
            "count": 0
           },
           {
            "bin_start": 0.4,
            "bin_end": 0.5,
            "count": 0
           }
          ]
         }
        },
        {
         "name": "Energy",
         "dtype": "float64",
         "stats": {
          "unique_count": 1,
          "nan_count": 0,
          "min": "0.0",
          "max": "0.0",
          "histogram": [
           {
            "bin_start": -0.5,
            "bin_end": -0.4,
            "count": 0
           },
           {
            "bin_start": -0.4,
            "bin_end": -0.3,
            "count": 0
           },
           {
            "bin_start": -0.3,
            "bin_end": -0.19999999999999996,
            "count": 0
           },
           {
            "bin_start": -0.19999999999999996,
            "bin_end": -0.09999999999999998,
            "count": 0
           },
           {
            "bin_start": -0.09999999999999998,
            "bin_end": 0,
            "count": 0
           },
           {
            "bin_start": 0,
            "bin_end": 0.10000000000000009,
            "count": 5
           },
           {
            "bin_start": 0.10000000000000009,
            "bin_end": 0.20000000000000007,
            "count": 0
           },
           {
            "bin_start": 0.20000000000000007,
            "bin_end": 0.30000000000000004,
            "count": 0
           },
           {
            "bin_start": 0.30000000000000004,
            "bin_end": 0.4,
            "count": 0
           },
           {
            "bin_start": 0.4,
            "bin_end": 0.5,
            "count": 0
           }
          ]
         }
        },
        {
         "name": "KeySignature",
         "dtype": "int64",
         "stats": {
          "unique_count": 5,
          "nan_count": 0,
          "min": "0",
          "max": "7",
          "histogram": [
           {
            "bin_start": 0,
            "bin_end": 0.7,
            "count": 1
           },
           {
            "bin_start": 0.7,
            "bin_end": 1.4,
            "count": 1
           },
           {
            "bin_start": 1.4,
            "bin_end": 2.0999999999999996,
            "count": 0
           },
           {
            "bin_start": 2.0999999999999996,
            "bin_end": 2.8,
            "count": 0
           },
           {
            "bin_start": 2.8,
            "bin_end": 3.5,
            "count": 0
           },
           {
            "bin_start": 3.5,
            "bin_end": 4.199999999999999,
            "count": 1
           },
           {
            "bin_start": 4.199999999999999,
            "bin_end": 4.8999999999999995,
            "count": 0
           },
           {
            "bin_start": 4.8999999999999995,
            "bin_end": 5.6,
            "count": 1
           },
           {
            "bin_start": 5.6,
            "bin_end": 6.3,
            "count": 0
           },
           {
            "bin_start": 6.3,
            "bin_end": 7,
            "count": 1
           }
          ]
         }
        },
        {
         "name": "KeySignatureConfidence",
         "dtype": "float64",
         "stats": {
          "unique_count": 4,
          "nan_count": 0,
          "min": "0.0",
          "max": "0.751",
          "histogram": [
           {
            "bin_start": 0,
            "bin_end": 0.0751,
            "count": 3
           },
           {
            "bin_start": 0.0751,
            "bin_end": 0.1502,
            "count": 0
           },
           {
            "bin_start": 0.1502,
            "bin_end": 0.2253,
            "count": 0
           },
           {
            "bin_start": 0.2253,
            "bin_end": 0.3004,
            "count": 0
           },
           {
            "bin_start": 0.3004,
            "bin_end": 0.3755,
            "count": 1
           },
           {
            "bin_start": 0.3755,
            "bin_end": 0.4506,
            "count": 0
           },
           {
            "bin_start": 0.4506,
            "bin_end": 0.5257000000000001,
            "count": 0
           },
           {
            "bin_start": 0.5257000000000001,
            "bin_end": 0.6008,
            "count": 0
           },
           {
            "bin_start": 0.6008,
            "bin_end": 0.6759,
            "count": 0
           },
           {
            "bin_start": 0.6759,
            "bin_end": 0.751,
            "count": 1
           }
          ]
         }
        },
        {
         "name": "Mode",
         "dtype": "int64",
         "stats": {
          "unique_count": 2,
          "nan_count": 0,
          "min": "0",
          "max": "1",
          "histogram": [
           {
            "bin_start": 0,
            "bin_end": 0.1,
            "count": 3
           },
           {
            "bin_start": 0.1,
            "bin_end": 0.2,
            "count": 0
           },
           {
            "bin_start": 0.2,
            "bin_end": 0.30000000000000004,
            "count": 0
           },
           {
            "bin_start": 0.30000000000000004,
            "bin_end": 0.4,
            "count": 0
           },
           {
            "bin_start": 0.4,
            "bin_end": 0.5,
            "count": 0
           },
           {
            "bin_start": 0.5,
            "bin_end": 0.6000000000000001,
            "count": 0
           },
           {
            "bin_start": 0.6000000000000001,
            "bin_end": 0.7000000000000001,
            "count": 0
           },
           {
            "bin_start": 0.7000000000000001,
            "bin_end": 0.8,
            "count": 0
           },
           {
            "bin_start": 0.8,
            "bin_end": 0.9,
            "count": 0
           },
           {
            "bin_start": 0.9,
            "bin_end": 1,
            "count": 2
           }
          ]
         }
        },
        {
         "name": "ModeConfidence",
         "dtype": "float64",
         "stats": {
          "unique_count": 5,
          "nan_count": 0,
          "min": "0.0",
          "max": "0.749",
          "histogram": [
           {
            "bin_start": 0,
            "bin_end": 0.0749,
            "count": 1
           },
           {
            "bin_start": 0.0749,
            "bin_end": 0.1498,
            "count": 0
           },
           {
            "bin_start": 0.1498,
            "bin_end": 0.22469999999999998,
            "count": 1
           },
           {
            "bin_start": 0.22469999999999998,
            "bin_end": 0.2996,
            "count": 0
           },
           {
            "bin_start": 0.2996,
            "bin_end": 0.37449999999999994,
            "count": 0
           },
           {
            "bin_start": 0.37449999999999994,
            "bin_end": 0.44939999999999997,
            "count": 0
           },
           {
            "bin_start": 0.44939999999999997,
            "bin_end": 0.5243,
            "count": 2
           },
           {
            "bin_start": 0.5243,
            "bin_end": 0.5992,
            "count": 0
           },
           {
            "bin_start": 0.5992,
            "bin_end": 0.6740999999999999,
            "count": 0
           },
           {
            "bin_start": 0.6740999999999999,
            "bin_end": 0.749,
            "count": 1
           }
          ]
         }
        },
        {
         "name": "Tempo",
         "dtype": "float64",
         "stats": {
          "unique_count": 5,
          "nan_count": 0,
          "min": "101.43",
          "max": "146.765",
          "histogram": [
           {
            "bin_start": 101.43,
            "bin_end": 105.96350000000001,
            "count": 1
           },
           {
            "bin_start": 105.96350000000001,
            "bin_end": 110.497,
            "count": 0
           },
           {
            "bin_start": 110.497,
            "bin_end": 115.0305,
            "count": 2
           },
           {
            "bin_start": 115.0305,
            "bin_end": 119.564,
            "count": 1
           },
           {
            "bin_start": 119.564,
            "bin_end": 124.0975,
            "count": 0
           },
           {
            "bin_start": 124.0975,
            "bin_end": 128.631,
            "count": 0
           },
           {
            "bin_start": 128.631,
            "bin_end": 133.1645,
            "count": 0
           },
           {
            "bin_start": 133.1645,
            "bin_end": 137.69799999999998,
            "count": 0
           },
           {
            "bin_start": 137.69799999999998,
            "bin_end": 142.23149999999998,
            "count": 0
           },
           {
            "bin_start": 142.23149999999998,
            "bin_end": 146.765,
            "count": 1
           }
          ]
         }
        },
        {
         "name": "TimeSignature",
         "dtype": "int64",
         "stats": {
          "unique_count": 3,
          "nan_count": 0,
          "min": "1",
          "max": "4",
          "histogram": [
           {
            "bin_start": 1,
            "bin_end": 1.3,
            "count": 2
           },
           {
            "bin_start": 1.3,
            "bin_end": 1.6,
            "count": 0
           },
           {
            "bin_start": 1.6,
            "bin_end": 1.9,
            "count": 0
           },
           {
            "bin_start": 1.9,
            "bin_end": 2.2,
            "count": 0
           },
           {
            "bin_start": 2.2,
            "bin_end": 2.5,
            "count": 0
           },
           {
            "bin_start": 2.5,
            "bin_end": 2.8,
            "count": 0
           },
           {
            "bin_start": 2.8,
            "bin_end": 3.1,
            "count": 1
           },
           {
            "bin_start": 3.1,
            "bin_end": 3.4,
            "count": 0
           },
           {
            "bin_start": 3.4,
            "bin_end": 3.6999999999999997,
            "count": 0
           },
           {
            "bin_start": 3.6999999999999997,
            "bin_end": 4,
            "count": 2
           }
          ]
         }
        },
        {
         "name": "TimeSignatureConfidence",
         "dtype": "float64",
         "stats": {
          "unique_count": 3,
          "nan_count": 0,
          "min": "0.0",
          "max": "0.878",
          "histogram": [
           {
            "bin_start": 0,
            "bin_end": 0.0878,
            "count": 3
           },
           {
            "bin_start": 0.0878,
            "bin_end": 0.1756,
            "count": 0
           },
           {
            "bin_start": 0.1756,
            "bin_end": 0.2634,
            "count": 0
           },
           {
            "bin_start": 0.2634,
            "bin_end": 0.3512,
            "count": 0
           },
           {
            "bin_start": 0.3512,
            "bin_end": 0.439,
            "count": 1
           },
           {
            "bin_start": 0.439,
            "bin_end": 0.5268,
            "count": 0
           },
           {
            "bin_start": 0.5268,
            "bin_end": 0.6146,
            "count": 0
           },
           {
            "bin_start": 0.6146,
            "bin_end": 0.7024,
            "count": 0
           },
           {
            "bin_start": 0.7024,
            "bin_end": 0.7902,
            "count": 0
           },
           {
            "bin_start": 0.7902,
            "bin_end": 0.878,
            "count": 1
           }
          ]
         }
        },
        {
         "name": "ArtistTerms",
         "dtype": "object",
         "stats": {
          "unique_count": 5,
          "nan_count": 0,
          "categories": [
           {
            "name": "['breakbeat' 'dirty south rap' 'hip hop' 'electronic' 'trance' 'electro' 'rap' 'soul' 'united states' 'urban' 'southern rap' 'up beat' 'ohio' 'r&b']",
            "count": 1
           },
           {
            "name": "['alternative rock' 'indie rock' 'rock' 'alternative pop rock' 'alternative' 'north carolina' 'united states' 'religious music' 'swamp rock' 'blues' 'blues-rock' 'slide' 'roots rock' 'rockabilly' 'california' 'south carolina' 'jazz' 'punk' 'psychedelic' 'pop' 'american' 'guitar' 'world' 'ambient' 'piano' 'instrumental' 'bass' 'british' 'classic' 'country' 'retro' 'indie' 'lyrics' 'group' 'percussion' 'holland' '90s' 'soul' 'acoustic' 'roots' 'groove' 'new york' 'energy' 'drummer' 'producer' 'mix' 'pretty' 'british rock' 'jam' 'east coast' 'vocal']",
            "count": 1
           },
           {
            "name": "3 others",
            "count": 3
           }
          ]
         }
        },
        {
         "name": "ArtistTermsFrequency",
         "dtype": "object",
         "stats": {
          "unique_count": 5,
          "nan_count": 0,
          "categories": [
           {
            "name": "[1.0 0.8386187613378114 0.9353130749575775 0.9420978869542835 0.8386187613378114 0.8386187613378114 0.8386187613378114 0.8077434820589324 0.55606549151413 0.5521102312382574 0.48210997092375263 0.47670088815062556 0.46169854484558487 0.1788852402378912]",
            "count": 1
           },
           {
            "name": "[0.9560807508575261 0.9213064099169126 1.0 0.6876023854448787 0.7741506495750831 0.45897971441575836 0.4536324736850199 0.42867016730466917 0.42867016730466917 0.5401504420941258 0.3790776986317445 0.3790776986317445 0.3790776986317445 0.42867016730466917 0.3790776986317445 0.2784473220518453 0.45767990179651885 0.4442048023963675 0.31869433353148385 0.4002837443597801 0.3258153584417911 0.2621161439627327 0.2707466915192447 0.30890249577774476 0.21433508365233458 0.28800106704469675 0.13922366102592265 0.24796234336462344 0.18351394079795838 0.22115422284632003 0.09918493734584938 0.3413272598124 0.07860220316477431 0.07860220316477431 0.04959246867292469 0.04959246867292469 0.20679687500247332 0.217825864190697 0.20679687500247332 0.07860220316477431 0.07860220316477431 0.09918493734584938 0.0 0.0 0.0 0.0 0.0 0.0 0.0 0.0 0.0]",
            "count": 1
           },
           {
            "name": "3 others",
            "count": 3
           }
          ]
         }
        },
        {
         "name": "StartOfFadeOut",
         "dtype": "float64",
         "stats": {
          "unique_count": 5,
          "nan_count": 0,
          "min": "114.782",
          "max": "261.747",
          "histogram": [
           {
            "bin_start": 114.782,
            "bin_end": 129.4785,
            "count": 1
           },
           {
            "bin_start": 129.4785,
            "bin_end": 144.175,
            "count": 0
           },
           {
            "bin_start": 144.175,
            "bin_end": 158.87150000000003,
            "count": 0
           },
           {
            "bin_start": 158.87150000000003,
            "bin_end": 173.568,
            "count": 0
           },
           {
            "bin_start": 173.568,
            "bin_end": 188.2645,
            "count": 1
           },
           {
            "bin_start": 188.2645,
            "bin_end": 202.961,
            "count": 0
           },
           {
            "bin_start": 202.961,
            "bin_end": 217.65750000000003,
            "count": 2
           },
           {
            "bin_start": 217.65750000000003,
            "bin_end": 232.35400000000004,
            "count": 0
           },
           {
            "bin_start": 232.35400000000004,
            "bin_end": 247.05050000000006,
            "count": 0
           },
           {
            "bin_start": 247.05050000000006,
            "bin_end": 261.747,
            "count": 1
           }
          ]
         }
        },
        {
         "name": "_deepnote_index_column",
         "dtype": "int64"
        }
       ],
       "rows": [
        {
         "SongNumber": 1,
         "SongID": "SOMJBYD12A6D4F8557",
         "AlbumID": 25824,
         "AlbumName": "Da Ghetto Psychic",
         "ArtistID": "ARD0S291187B9B7BF5",
         "MusicbrainzID": "56503d6d-094e-4c28-ae3d-04cc748ade5b",
         "PlayMeID": -1,
         "7DigitalID": 17970,
         "ArtistFamiliarity": 0.5564956019129572,
         "ArtistLatitude": "nan",
         "ArtistLocation": "Ohio",
         "Title": "Keepin It Real (Skit)",
         "Year": 0,
         "ArtistLongitude": "nan",
         "ArtistName": "Rated R",
         "Danceability": 0,
         "Duration": 114.78159,
         "Hotness": "nan",
         "Energy": 0,
         "KeySignature": 1,
         "KeySignatureConfidence": 0,
         "Mode": 1,
         "ModeConfidence": 0,
         "Tempo": 111.787,
         "TimeSignature": 1,
         "TimeSignatureConfidence": 0,
         "ArtistTerms": "['breakbeat' 'dirty south rap' 'hip hop' 'electronic' 'trance' 'electro' 'rap' 'soul' 'united states' 'urban' 'southern rap' 'up beat' 'ohio' 'r&b']",
         "ArtistTermsFrequency": "[1.0 0.8386187613378114 0.9353130749575775 0.9420978869542835 0.8386187613378114 0.8386187613378114 0.8386187613378114 0.8077434820589324 0.55606549151413 0.5521102312382574 0.48210997092375263 0.47670088815062556 0.46169854484558487 0.1788852402378912]",
         "StartOfFadeOut": 114.782,
         "_deepnote_index_column": 0
        },
        {
         "SongNumber": 2,
         "SongID": "SOQHXMF12AB0182363",
         "AlbumID": 539081,
         "AlbumName": "I Need You",
         "ArtistID": "ARGSJW91187B9B1D6B",
         "MusicbrainzID": "eb722df4-372e-4742-8586-f7ff658012d6",
         "PlayMeID": -1,
         "7DigitalID": 60488,
         "ArtistFamiliarity": 0.3600311664643514,
         "ArtistLatitude": 35.21962,
         "ArtistLocation": "North Carolina",
         "Title": "Young Boy Blues",
         "Year": 0,
         "ArtistLongitude": -80.01955,
         "ArtistName": "JennyAnyKind",
         "Danceability": 0,
         "Duration": 218.77506,
         "Hotness": 0,
         "Energy": 0,
         "KeySignature": 5,
         "KeySignatureConfidence": 0.354,
         "Mode": 0,
         "ModeConfidence": 0.485,
         "Tempo": 146.765,
         "TimeSignature": 1,
         "TimeSignatureConfidence": 0,
         "ArtistTerms": "['alternative rock' 'indie rock' 'rock' 'alternative pop rock' 'alternative' 'north carolina' 'united states' 'religious music' 'swamp rock' 'blues' 'blues-rock' 'slide' 'roots rock' 'rockabilly' 'california' 'south carolina' 'jazz' 'punk' 'psychedelic' 'pop' 'american' 'guitar' 'world' 'ambient' 'piano' 'instrumental' 'bass' 'british' 'classic' 'country' 'retro' 'indie' 'lyrics' 'group' 'percussion' 'holland' '90s' 'soul' 'acoustic' 'roots' 'groove' 'new york' 'energy' 'drummer' 'producer' 'mix' 'pretty' 'british rock' 'jam' 'east coast' 'vocal']",
         "ArtistTermsFrequency": "[0.9560807508575261 0.9213064099169126 1.0 0.6876023854448787 0.7741506495750831 0.45897971441575836 0.4536324736850199 0.42867016730466917 0.42867016730466917 0.5401504420941258 0.3790776986317445 0.3790776986317445 0.3790776986317445 0.42867016730466917 0.3790776986317445 0.2784473220518453 0.45767990179651885 0.4442048023963675 0.31869433353148385 0.4002837443597801 0.3258153584417911 0.2621161439627327 0.2707466915192447 0.30890249577774476 0.21433508365233458 0.28800106704469675 0.13922366102592265 0.24796234336462344 0.18351394079795838 0.22115422284632003 0.09918493734584938 0.3413272598124 0.07860220316477431 0.07860220316477431 0.04959246867292469 0.04959246867292469 0.20679687500247332 0.217825864190697 0.20679687500247332 0.07860220316477431 0.07860220316477431 0.09918493734584938 0.0 0.0 0.0 0.0 0.0 0.0 0.0 0.0 0.0]",
         "StartOfFadeOut": 207.012,
         "_deepnote_index_column": 1
        },
        {
         "SongNumber": 3,
         "SongID": "SONHOTT12A8C13493C",
         "AlbumID": 287650,
         "AlbumName": "Friend Or Foe",
         "ArtistID": "AR7G5I41187FB4CE6C",
         "MusicbrainzID": "e188a520-9cb7-4f73-a3d7-2f70c6538e92",
         "PlayMeID": 12697,
         "7DigitalID": 19072,
         "ArtistFamiliarity": 0.6303823341467806,
         "ArtistLatitude": "nan",
         "ArtistLocation": "London England",
         "Title": "Something Girls",
         "Year": 1982,
         "ArtistLongitude": "nan",
         "ArtistName": "Adam Ant",
         "Danceability": 0,
         "Duration": 233.40363,
         "Hotness": "nan",
         "Energy": 0,
         "KeySignature": 0,
         "KeySignatureConfidence": 0.751,
         "Mode": 1,
         "ModeConfidence": 0.749,
         "Tempo": 119.293,
         "TimeSignature": 4,
         "TimeSignatureConfidence": 0,
         "ArtistTerms": "['pop rock' 'new wave' 'dance rock' 'rock' 'new romantic' 'europop' 'beat' 'british pop' 'louisiana blues' 'gothic rock' 'glam rock' 'alternative rock' 'synthpop' 'techno' 'electronic' 'punk' 'acid jazz' 'ska' 'classic rock' 'pop' 'soundtrack' 'united states' 'singer-songwriter' 'house' 'blues' 'germany' 'acid' 'dance' 'british' '80s' 'jazz' 'male vocalist' 'female vocalist' 'european' 'alternative' 'instrumental' 'sexy' 'classical' 'gothic' 'english' 'indie' 'hardcore' 'industrial']",
         "ArtistTermsFrequency": "[0.9885838625154639 0.9672504640243684 0.8206040523080153 1.0 0.7745584428009754 0.7525238208462517 0.7525238208462517 0.714855385813991 0.714855385813991 0.7525238208462517 0.714855385813991 0.8342614997879598 0.7649001644702876 0.8122268778332362 0.8721665382418053 0.8347462498678688 0.714855385813991 0.7525238208462517 0.7525238208462517 0.8284987265479213 0.7525238208462517 0.6029687430533816 0.7525238208462517 0.7335228174379457 0.714855385813991 0.624369058568575 0.5758003087414556 0.714855385813991 0.6666733098066638 0.6813541177316764 0.714855385813991 0.5787454850316545 0.6345626263390687 0.5509555020919391 0.6939416434923211 0.6461795073847096 0.5625218099680268 0.6177156403490571 0.5903494918597444 0.5604743871847936 0.6615719439671021 0.6192523081298575 0.5907672899278631]",
         "StartOfFadeOut": 217.124,
         "_deepnote_index_column": 2
        },
        {
         "SongNumber": 4,
         "SongID": "SOUDSGM12AC9618304",
         "AlbumID": 692313,
         "AlbumName": "Superinstrumental",
         "ArtistID": "ARNTLGG11E2835DDB9",
         "MusicbrainzID": "4d96f7d0-2f0e-4e92-ba70-a405f96f8cec",
         "PlayMeID": -1,
         "7DigitalID": 242273,
         "ArtistFamiliarity": 0.5505136978482137,
         "ArtistLatitude": "nan",
         "ArtistLocation": "nan",
         "Title": "Insatiable (Instrumental Version)",
         "Year": 0,
         "ArtistLongitude": "nan",
         "ArtistName": "Clp",
         "Danceability": 0,
         "Duration": 266.39628,
         "Hotness": "nan",
         "Energy": 0,
         "KeySignature": 7,
         "KeySignatureConfidence": 0.053,
         "Mode": 0,
         "ModeConfidence": 0.473,
         "Tempo": 114.041,
         "TimeSignature": 4,
         "TimeSignatureConfidence": 0.878,
         "ArtistTerms": "['breakcore' 'miami bass' 'new rave' 'grime' 'breakbeat' 'hip hop' 'electro' 'techno' 'intelligent dance music' 'electronic' 'experimental' 'germany' 'abstract' 'rock' 'house' 'electro house' 'fm4' 'electro-funk' 'sxsw 2009' 'ghetto tech' 'spank rock']",
         "ArtistTermsFrequency": "[0.9156017479341086 0.862352379556314 0.862352379556314 0.862352379556314 0.9156017479341086 1.0 0.9467506316222054 0.9156017479341086 0.7085242087203794 0.9230874373703177 0.7985973815680446 0.6500320490448592 0.5675430294934901 0.862352379556314 0.6978377677523192 0.5044688473643144 0.4153929924491569 0.3645180214492646 0.3145381932928882 0.24414635719927494 0.13764762044368584]",
         "StartOfFadeOut": 261.747,
         "_deepnote_index_column": 3
        },
        {
         "SongNumber": 5,
         "SongID": "SOHKNRJ12A6701D1F8",
         "AlbumID": 8876,
         "AlbumName": "Gin & Phonic",
         "ArtistID": "AR10USD1187B99F3F1",
         "MusicbrainzID": "d89de379-665d-425c-b2e9-41b95d1edb36",
         "PlayMeID": -1,
         "7DigitalID": 21128,
         "ArtistFamiliarity": 0.8011364469966873,
         "ArtistLatitude": "nan",
         "ArtistLocation": "Burlington Ontario Canada",
         "Title": "Drop of Rain",
         "Year": 0,
         "ArtistLongitude": "nan",
         "ArtistName": "Tweeterfriendly Music",
         "Danceability": 0,
         "Duration": 189.57016,
         "Hotness": "nan",
         "Energy": 0,
         "KeySignature": 4,
         "KeySignatureConfidence": 0,
         "Mode": 0,
         "ModeConfidence": 0.16,
         "Tempo": 101.43,
         "TimeSignature": 3,
         "TimeSignatureConfidence": 0.408,
         "ArtistTerms": "['post-hardcore' 'screamo' 'emo' 'hardcore' 'punk revival' 'rock' 'acoustic' 'emotional' 'pop' 'metal' 'heavy' 'melodic']",
         "ArtistTermsFrequency": "[0.999818045125181 0.9999454585723618 1.0 0.8109739338258031 0.476412716857685 0.479562828797043 0.33316772035082254 0.10697621391972122 0.37795173440712015 0.3472369327841839 0.1241955382924406 0.1695532875318827]",
         "StartOfFadeOut": 181.023,
         "_deepnote_index_column": 4
        }
       ]
      },
      "text/plain": "   SongNumber              SongID  AlbumID          AlbumName  \\\n0           1  SOMJBYD12A6D4F8557    25824  Da Ghetto Psychic   \n1           2  SOQHXMF12AB0182363   539081         I Need You   \n2           3  SONHOTT12A8C13493C   287650      Friend Or Foe   \n3           4  SOUDSGM12AC9618304   692313  Superinstrumental   \n4           5  SOHKNRJ12A6701D1F8     8876       Gin & Phonic   \n\n             ArtistID                         MusicbrainzID  PlayMeID  \\\n0  ARD0S291187B9B7BF5  56503d6d-094e-4c28-ae3d-04cc748ade5b        -1   \n1  ARGSJW91187B9B1D6B  eb722df4-372e-4742-8586-f7ff658012d6        -1   \n2  AR7G5I41187FB4CE6C  e188a520-9cb7-4f73-a3d7-2f70c6538e92     12697   \n3  ARNTLGG11E2835DDB9  4d96f7d0-2f0e-4e92-ba70-a405f96f8cec        -1   \n4  AR10USD1187B99F3F1  d89de379-665d-425c-b2e9-41b95d1edb36        -1   \n\n   7DigitalID  ArtistFamiliarity  ArtistLatitude  ... KeySignature  \\\n0       17970           0.556496             NaN  ...            1   \n1       60488           0.360031        35.21962  ...            5   \n2       19072           0.630382             NaN  ...            0   \n3      242273           0.550514             NaN  ...            7   \n4       21128           0.801136             NaN  ...            4   \n\n  KeySignatureConfidence  Mode  ModeConfidence    Tempo  TimeSignature  \\\n0                  0.000     1           0.000  111.787              1   \n1                  0.354     0           0.485  146.765              1   \n2                  0.751     1           0.749  119.293              4   \n3                  0.053     0           0.473  114.041              4   \n4                  0.000     0           0.160  101.430              3   \n\n   TimeSignatureConfidence                                        ArtistTerms  \\\n0                    0.000  ['breakbeat' 'dirty south rap' 'hip hop' 'elec...   \n1                    0.000  ['alternative rock' 'indie rock' 'rock' 'alter...   \n2                    0.000  ['pop rock' 'new wave' 'dance rock' 'rock' 'ne...   \n3                    0.878  ['breakcore' 'miami bass' 'new rave' 'grime' '...   \n4                    0.408  ['post-hardcore' 'screamo' 'emo' 'hardcore' 'p...   \n\n                                ArtistTermsFrequency  StartOfFadeOut  \n0  [1.0 0.8386187613378114 0.9353130749575775 0.9...         114.782  \n1  [0.9560807508575261 0.9213064099169126 1.0 0.6...         207.012  \n2  [0.9885838625154639 0.9672504640243684 0.82060...         217.124  \n3  [0.9156017479341086 0.862352379556314 0.862352...         261.747  \n4  [0.999818045125181 0.9999454585723618 1.0 0.81...         181.023  \n\n[5 rows x 29 columns]",
      "text/html": "<div>\n<style scoped>\n    .dataframe tbody tr th:only-of-type {\n        vertical-align: middle;\n    }\n\n    .dataframe tbody tr th {\n        vertical-align: top;\n    }\n\n    .dataframe thead th {\n        text-align: right;\n    }\n</style>\n<table border=\"1\" class=\"dataframe\">\n  <thead>\n    <tr style=\"text-align: right;\">\n      <th></th>\n      <th>SongNumber</th>\n      <th>SongID</th>\n      <th>AlbumID</th>\n      <th>AlbumName</th>\n      <th>ArtistID</th>\n      <th>MusicbrainzID</th>\n      <th>PlayMeID</th>\n      <th>7DigitalID</th>\n      <th>ArtistFamiliarity</th>\n      <th>ArtistLatitude</th>\n      <th>...</th>\n      <th>KeySignature</th>\n      <th>KeySignatureConfidence</th>\n      <th>Mode</th>\n      <th>ModeConfidence</th>\n      <th>Tempo</th>\n      <th>TimeSignature</th>\n      <th>TimeSignatureConfidence</th>\n      <th>ArtistTerms</th>\n      <th>ArtistTermsFrequency</th>\n      <th>StartOfFadeOut</th>\n    </tr>\n  </thead>\n  <tbody>\n    <tr>\n      <th>0</th>\n      <td>1</td>\n      <td>SOMJBYD12A6D4F8557</td>\n      <td>25824</td>\n      <td>Da Ghetto Psychic</td>\n      <td>ARD0S291187B9B7BF5</td>\n      <td>56503d6d-094e-4c28-ae3d-04cc748ade5b</td>\n      <td>-1</td>\n      <td>17970</td>\n      <td>0.556496</td>\n      <td>NaN</td>\n      <td>...</td>\n      <td>1</td>\n      <td>0.000</td>\n      <td>1</td>\n      <td>0.000</td>\n      <td>111.787</td>\n      <td>1</td>\n      <td>0.000</td>\n      <td>['breakbeat' 'dirty south rap' 'hip hop' 'elec...</td>\n      <td>[1.0 0.8386187613378114 0.9353130749575775 0.9...</td>\n      <td>114.782</td>\n    </tr>\n    <tr>\n      <th>1</th>\n      <td>2</td>\n      <td>SOQHXMF12AB0182363</td>\n      <td>539081</td>\n      <td>I Need You</td>\n      <td>ARGSJW91187B9B1D6B</td>\n      <td>eb722df4-372e-4742-8586-f7ff658012d6</td>\n      <td>-1</td>\n      <td>60488</td>\n      <td>0.360031</td>\n      <td>35.21962</td>\n      <td>...</td>\n      <td>5</td>\n      <td>0.354</td>\n      <td>0</td>\n      <td>0.485</td>\n      <td>146.765</td>\n      <td>1</td>\n      <td>0.000</td>\n      <td>['alternative rock' 'indie rock' 'rock' 'alter...</td>\n      <td>[0.9560807508575261 0.9213064099169126 1.0 0.6...</td>\n      <td>207.012</td>\n    </tr>\n    <tr>\n      <th>2</th>\n      <td>3</td>\n      <td>SONHOTT12A8C13493C</td>\n      <td>287650</td>\n      <td>Friend Or Foe</td>\n      <td>AR7G5I41187FB4CE6C</td>\n      <td>e188a520-9cb7-4f73-a3d7-2f70c6538e92</td>\n      <td>12697</td>\n      <td>19072</td>\n      <td>0.630382</td>\n      <td>NaN</td>\n      <td>...</td>\n      <td>0</td>\n      <td>0.751</td>\n      <td>1</td>\n      <td>0.749</td>\n      <td>119.293</td>\n      <td>4</td>\n      <td>0.000</td>\n      <td>['pop rock' 'new wave' 'dance rock' 'rock' 'ne...</td>\n      <td>[0.9885838625154639 0.9672504640243684 0.82060...</td>\n      <td>217.124</td>\n    </tr>\n    <tr>\n      <th>3</th>\n      <td>4</td>\n      <td>SOUDSGM12AC9618304</td>\n      <td>692313</td>\n      <td>Superinstrumental</td>\n      <td>ARNTLGG11E2835DDB9</td>\n      <td>4d96f7d0-2f0e-4e92-ba70-a405f96f8cec</td>\n      <td>-1</td>\n      <td>242273</td>\n      <td>0.550514</td>\n      <td>NaN</td>\n      <td>...</td>\n      <td>7</td>\n      <td>0.053</td>\n      <td>0</td>\n      <td>0.473</td>\n      <td>114.041</td>\n      <td>4</td>\n      <td>0.878</td>\n      <td>['breakcore' 'miami bass' 'new rave' 'grime' '...</td>\n      <td>[0.9156017479341086 0.862352379556314 0.862352...</td>\n      <td>261.747</td>\n    </tr>\n    <tr>\n      <th>4</th>\n      <td>5</td>\n      <td>SOHKNRJ12A6701D1F8</td>\n      <td>8876</td>\n      <td>Gin &amp; Phonic</td>\n      <td>AR10USD1187B99F3F1</td>\n      <td>d89de379-665d-425c-b2e9-41b95d1edb36</td>\n      <td>-1</td>\n      <td>21128</td>\n      <td>0.801136</td>\n      <td>NaN</td>\n      <td>...</td>\n      <td>4</td>\n      <td>0.000</td>\n      <td>0</td>\n      <td>0.160</td>\n      <td>101.430</td>\n      <td>3</td>\n      <td>0.408</td>\n      <td>['post-hardcore' 'screamo' 'emo' 'hardcore' 'p...</td>\n      <td>[0.999818045125181 0.9999454585723618 1.0 0.81...</td>\n      <td>181.023</td>\n    </tr>\n  </tbody>\n</table>\n<p>5 rows × 29 columns</p>\n</div>"
     },
     "metadata": {}
    }
   ],
   "execution_count": 64
  },
  {
   "cell_type": "code",
   "source": "artist_location_df.head()",
   "metadata": {
    "cell_id": "c06769586a2f423ea8570441ea37e2d6",
    "tags": [],
    "deepnote_to_be_reexecuted": false,
    "source_hash": "1ec3a0a6",
    "execution_start": 1650035710697,
    "execution_millis": 222,
    "deepnote_cell_type": "code",
    "deepnote_cell_height": 395
   },
   "outputs": [
    {
     "output_type": "execute_result",
     "execution_count": 65,
     "data": {
      "application/vnd.deepnote.dataframe.v3+json": {
       "column_count": 5,
       "row_count": 5,
       "columns": [
        {
         "name": "artist_id",
         "dtype": "object",
         "stats": {
          "unique_count": 5,
          "nan_count": 0,
          "categories": [
           {
            "name": "ARZGXZG1187B9B56B6",
            "count": 1
           },
           {
            "name": "AR8K6F31187B99C2BC",
            "count": 1
           },
           {
            "name": "3 others",
            "count": 3
           }
          ]
         }
        },
        {
         "name": "artist_latitude",
         "dtype": "float64",
         "stats": {
          "unique_count": 5,
          "nan_count": 0,
          "min": "-16.96595",
          "max": "51.59678",
          "histogram": [
           {
            "bin_start": -16.96595,
            "bin_end": -10.109677,
            "count": 1
           },
           {
            "bin_start": -10.109677,
            "bin_end": -3.2534039999999997,
            "count": 0
           },
           {
            "bin_start": -3.2534039999999997,
            "bin_end": 3.6028689999999983,
            "count": 0
           },
           {
            "bin_start": 3.6028689999999983,
            "bin_end": 10.459142,
            "count": 0
           },
           {
            "bin_start": 10.459142,
            "bin_end": 17.315415,
            "count": 0
           },
           {
            "bin_start": 17.315415,
            "bin_end": 24.171687999999996,
            "count": 0
           },
           {
            "bin_start": 24.171687999999996,
            "bin_end": 31.027960999999998,
            "count": 0
           },
           {
            "bin_start": 31.027960999999998,
            "bin_end": 37.884234,
            "count": 0
           },
           {
            "bin_start": 37.884234,
            "bin_end": 44.740507,
            "count": 2
           },
           {
            "bin_start": 44.740507,
            "bin_end": 51.59678,
            "count": 2
           }
          ]
         }
        },
        {
         "name": "artist_longitude",
         "dtype": "float64",
         "stats": {
          "unique_count": 5,
          "nan_count": 0,
          "min": "-93.36586",
          "max": "-0.33556",
          "histogram": [
           {
            "bin_start": -93.36586,
            "bin_end": -84.06282999999999,
            "count": 1
           },
           {
            "bin_start": -84.06282999999999,
            "bin_end": -74.7598,
            "count": 1
           },
           {
            "bin_start": -74.7598,
            "bin_end": -65.45677,
            "count": 1
           },
           {
            "bin_start": -65.45677,
            "bin_end": -56.15374,
            "count": 1
           },
           {
            "bin_start": -56.15374,
            "bin_end": -46.85071,
            "count": 0
           },
           {
            "bin_start": -46.85071,
            "bin_end": -37.54768,
            "count": 0
           },
           {
            "bin_start": -37.54768,
            "bin_end": -28.244650000000007,
            "count": 0
           },
           {
            "bin_start": -28.244650000000007,
            "bin_end": -18.94162,
            "count": 0
           },
           {
            "bin_start": -18.94162,
            "bin_end": -9.638589999999994,
            "count": 0
           },
           {
            "bin_start": -9.638589999999994,
            "bin_end": -0.33556,
            "count": 1
           }
          ]
         }
        },
        {
         "name": "artist_name",
         "dtype": "object",
         "stats": {
          "unique_count": 5,
          "nan_count": 0,
          "categories": [
           {
            "name": "Endless Blue",
            "count": 1
           },
           {
            "name": "Go Fish",
            "count": 1
           },
           {
            "name": "3 others",
            "count": 3
           }
          ]
         }
        },
        {
         "name": "artist_location",
         "dtype": "object",
         "stats": {
          "unique_count": 5,
          "nan_count": 0,
          "categories": [
           {
            "name": "Santa Cruz",
            "count": 1
           },
           {
            "name": "Twin Cities, MN",
            "count": 1
           },
           {
            "name": "3 others",
            "count": 3
           }
          ]
         }
        },
        {
         "name": "_deepnote_index_column",
         "dtype": "int64"
        }
       ],
       "rows": [
        {
         "artist_id": "ARZGXZG1187B9B56B6",
         "artist_latitude": -16.96595,
         "artist_longitude": -61.14804,
         "artist_name": "Endless Blue",
         "artist_location": "Santa Cruz",
         "_deepnote_index_column": 0
        },
        {
         "artist_id": "AR8K6F31187B99C2BC",
         "artist_latitude": 46.44231,
         "artist_longitude": -93.36586,
         "artist_name": "Go Fish",
         "artist_location": "Twin Cities, MN",
         "_deepnote_index_column": 1
        },
        {
         "artist_id": "ARHJJ771187FB5B581",
         "artist_latitude": 51.59678,
         "artist_longitude": -0.33556,
         "artist_name": "Screaming Lord Sutch",
         "artist_location": "Harrow, Middlesex, England",
         "_deepnote_index_column": 2
        },
        {
         "artist_id": "ARJ8YLL1187FB3CA93",
         "artist_latitude": 40.69626,
         "artist_longitude": -73.83301,
         "artist_name": "Morton Gould",
         "artist_location": "Richmond Hill, NY",
         "_deepnote_index_column": 3
        },
        {
         "artist_id": "ARYBAGV11ECC836DAC",
         "artist_latitude": 43.58828,
         "artist_longitude": -79.64372,
         "artist_name": "Crash Parallel",
         "artist_location": "Mississauga",
         "_deepnote_index_column": 4
        }
       ]
      },
      "text/plain": "            artist_id  artist_latitude  artist_longitude  \\\n0  ARZGXZG1187B9B56B6        -16.96595         -61.14804   \n1  AR8K6F31187B99C2BC         46.44231         -93.36586   \n2  ARHJJ771187FB5B581         51.59678          -0.33556   \n3  ARJ8YLL1187FB3CA93         40.69626         -73.83301   \n4  ARYBAGV11ECC836DAC         43.58828         -79.64372   \n\n            artist_name             artist_location  \n0          Endless Blue                  Santa Cruz  \n1               Go Fish             Twin Cities, MN  \n2  Screaming Lord Sutch  Harrow, Middlesex, England  \n3          Morton Gould           Richmond Hill, NY  \n4        Crash Parallel                 Mississauga  ",
      "text/html": "<div>\n<style scoped>\n    .dataframe tbody tr th:only-of-type {\n        vertical-align: middle;\n    }\n\n    .dataframe tbody tr th {\n        vertical-align: top;\n    }\n\n    .dataframe thead th {\n        text-align: right;\n    }\n</style>\n<table border=\"1\" class=\"dataframe\">\n  <thead>\n    <tr style=\"text-align: right;\">\n      <th></th>\n      <th>artist_id</th>\n      <th>artist_latitude</th>\n      <th>artist_longitude</th>\n      <th>artist_name</th>\n      <th>artist_location</th>\n    </tr>\n  </thead>\n  <tbody>\n    <tr>\n      <th>0</th>\n      <td>ARZGXZG1187B9B56B6</td>\n      <td>-16.96595</td>\n      <td>-61.14804</td>\n      <td>Endless Blue</td>\n      <td>Santa Cruz</td>\n    </tr>\n    <tr>\n      <th>1</th>\n      <td>AR8K6F31187B99C2BC</td>\n      <td>46.44231</td>\n      <td>-93.36586</td>\n      <td>Go Fish</td>\n      <td>Twin Cities, MN</td>\n    </tr>\n    <tr>\n      <th>2</th>\n      <td>ARHJJ771187FB5B581</td>\n      <td>51.59678</td>\n      <td>-0.33556</td>\n      <td>Screaming Lord Sutch</td>\n      <td>Harrow, Middlesex, England</td>\n    </tr>\n    <tr>\n      <th>3</th>\n      <td>ARJ8YLL1187FB3CA93</td>\n      <td>40.69626</td>\n      <td>-73.83301</td>\n      <td>Morton Gould</td>\n      <td>Richmond Hill, NY</td>\n    </tr>\n    <tr>\n      <th>4</th>\n      <td>ARYBAGV11ECC836DAC</td>\n      <td>43.58828</td>\n      <td>-79.64372</td>\n      <td>Crash Parallel</td>\n      <td>Mississauga</td>\n    </tr>\n  </tbody>\n</table>\n</div>"
     },
     "metadata": {}
    }
   ],
   "execution_count": 65
  },
  {
   "cell_type": "code",
   "source": "import numpy as np\nimport pandas",
   "metadata": {
    "cell_id": "65ea2c902a374b2fb3897dda0b206d9d",
    "tags": [],
    "deepnote_to_be_reexecuted": false,
    "source_hash": "7d971f05",
    "execution_start": 1650035716846,
    "execution_millis": 2,
    "deepnote_cell_type": "code",
    "deepnote_cell_height": 99
   },
   "outputs": [],
   "execution_count": 66
  },
  {
   "cell_type": "markdown",
   "source": "# Popularity based recommendation",
   "metadata": {
    "cell_id": "9a74d5b89333458fbf98bd6491b0e0be",
    "tags": [],
    "deepnote_cell_type": "markdown",
    "deepnote_cell_height": 82
   },
   "outputs": [],
   "execution_count": null
  },
  {
   "cell_type": "code",
   "source": "# Get a count of user_ids for each unique song as popularity score\nsongs_df_grouped = songs_df.groupby(['song_id', 'artist_id', 'song_display_name']).agg({'user_id': 'count'})\\\n    .reset_index()\\\n    .rename(columns={'user_id': 'score'})\n\n# sort songs based on popularity score\nsong_recommendation_df = songs_df_grouped.sort_values(['score', 'song_display_name'], ascending=[0, 1])\n# generate recommendation rank based on popularity score\nsong_recommendation_df['Rank'] = song_recommendation_df['score'].rank(ascending=0, method='first')\n\nsong_recommendation_df.head(10)",
   "metadata": {
    "cell_id": "373c47fe9fde47e9bacfab299ebdfde8",
    "tags": [],
    "deepnote_to_be_reexecuted": false,
    "source_hash": "3d3c9ef4",
    "execution_start": 1650035718839,
    "execution_millis": 65,
    "owner_user_id": "49a91cf0-ecf0-4645-ae43-cffacbef7846",
    "deepnote_cell_type": "code",
    "deepnote_cell_height": 780
   },
   "outputs": [
    {
     "output_type": "execute_result",
     "execution_count": 67,
     "data": {
      "application/vnd.deepnote.dataframe.v3+json": {
       "column_count": 5,
       "row_count": 10,
       "columns": [
        {
         "name": "song_id",
         "dtype": "object",
         "stats": {
          "unique_count": 10,
          "nan_count": 0,
          "categories": [
           {
            "name": "SOFRQTD12A81C233C0",
            "count": 1
           },
           {
            "name": "SOAXGDH12A8C13F8A1",
            "count": 1
           },
           {
            "name": "8 others",
            "count": 8
           }
          ]
         }
        },
        {
         "name": "artist_id",
         "dtype": "object",
         "stats": {
          "unique_count": 9,
          "nan_count": 0,
          "categories": [
           {
            "name": "ARF2EHS1187B994F4E",
            "count": 2
           },
           {
            "name": "AR0IVTL1187B9AD520",
            "count": 1
           },
           {
            "name": "7 others",
            "count": 7
           }
          ]
         }
        },
        {
         "name": "song_display_name",
         "dtype": "object",
         "stats": {
          "unique_count": 10,
          "nan_count": 0,
          "categories": [
           {
            "name": "Sehr kosmisch - Harmonia",
            "count": 1
           },
           {
            "name": "Dog Days Are Over (Radio Edit) - Florence + The Machine",
            "count": 1
           },
           {
            "name": "8 others",
            "count": 8
           }
          ]
         }
        },
        {
         "name": "score",
         "dtype": "int64",
         "stats": {
          "unique_count": 6,
          "nan_count": 0,
          "min": "16",
          "max": "28",
          "histogram": [
           {
            "bin_start": 16,
            "bin_end": 17.2,
            "count": 2
           },
           {
            "bin_start": 17.2,
            "bin_end": 18.4,
            "count": 0
           },
           {
            "bin_start": 18.4,
            "bin_end": 19.6,
            "count": 4
           },
           {
            "bin_start": 19.6,
            "bin_end": 20.8,
            "count": 1
           },
           {
            "bin_start": 20.8,
            "bin_end": 22,
            "count": 0
           },
           {
            "bin_start": 22,
            "bin_end": 23.2,
            "count": 1
           },
           {
            "bin_start": 23.2,
            "bin_end": 24.4,
            "count": 1
           },
           {
            "bin_start": 24.4,
            "bin_end": 25.6,
            "count": 0
           },
           {
            "bin_start": 25.6,
            "bin_end": 26.799999999999997,
            "count": 0
           },
           {
            "bin_start": 26.799999999999997,
            "bin_end": 28,
            "count": 1
           }
          ]
         }
        },
        {
         "name": "Rank",
         "dtype": "float64",
         "stats": {
          "unique_count": 10,
          "nan_count": 0,
          "min": "1.0",
          "max": "10.0",
          "histogram": [
           {
            "bin_start": 1,
            "bin_end": 1.9,
            "count": 1
           },
           {
            "bin_start": 1.9,
            "bin_end": 2.8,
            "count": 1
           },
           {
            "bin_start": 2.8,
            "bin_end": 3.7,
            "count": 1
           },
           {
            "bin_start": 3.7,
            "bin_end": 4.6,
            "count": 1
           },
           {
            "bin_start": 4.6,
            "bin_end": 5.5,
            "count": 1
           },
           {
            "bin_start": 5.5,
            "bin_end": 6.4,
            "count": 1
           },
           {
            "bin_start": 6.4,
            "bin_end": 7.3,
            "count": 1
           },
           {
            "bin_start": 7.3,
            "bin_end": 8.2,
            "count": 1
           },
           {
            "bin_start": 8.2,
            "bin_end": 9.1,
            "count": 1
           },
           {
            "bin_start": 9.1,
            "bin_end": 10,
            "count": 1
           }
          ]
         }
        },
        {
         "name": "_deepnote_index_column",
         "dtype": "int64"
        }
       ],
       "rows": [
        {
         "song_id": "SOFRQTD12A81C233C0",
         "artist_id": "AR0IVTL1187B9AD520",
         "song_display_name": "Sehr kosmisch - Harmonia",
         "score": 28,
         "Rank": 1,
         "_deepnote_index_column": 987
        },
        {
         "song_id": "SOAXGDH12A8C13F8A1",
         "artist_id": "ARNCHOP121318C56B8",
         "song_display_name": "Dog Days Are Over (Radio Edit) - Florence + The Machine",
         "score": 24,
         "Rank": 2,
         "_deepnote_index_column": 155
        },
        {
         "song_id": "SONYKOW12AB01849C9",
         "artist_id": "AR73S4G1187B9A03C2",
         "song_display_name": "Secrets - OneRepublic",
         "score": 22,
         "Rank": 3,
         "_deepnote_index_column": 2477
        },
        {
         "song_id": "SOKLRPJ12A8C13C3FE",
         "artist_id": "ARJ7KF01187B98D717",
         "song_display_name": "The Scientist - Coldplay",
         "score": 20,
         "Rank": 4,
         "_deepnote_index_column": 1846
        },
        {
         "song_id": "SOBOAFP12A8C131F36",
         "artist_id": "ARML3X41187FB35F2E",
         "song_display_name": "Lucky (Album Version) - Jason Mraz & Colbie Caillat",
         "score": 19,
         "Rank": 5,
         "_deepnote_index_column": 276
        },
        {
         "song_id": "SOSXLTC12AF72A7F54",
         "artist_id": "ARF2EHS1187B994F4E",
         "song_display_name": "Revelry - Kings Of Leon",
         "score": 19,
         "Rank": 6,
         "_deepnote_index_column": 3312
        },
        {
         "song_id": "SOWCKVR12A8C142411",
         "artist_id": "ARF2EHS1187B994F4E",
         "song_display_name": "Use Somebody - Kings Of Leon",
         "score": 19,
         "Rank": 7,
         "_deepnote_index_column": 3842
        },
        {
         "song_id": "SOBONKR12A58A7A7E0",
         "artist_id": "AR5E44Z1187B9A1D74",
         "song_display_name": "You're The One - Dwight Yoakam",
         "score": 19,
         "Rank": 8,
         "_deepnote_index_column": 282
        },
        {
         "song_id": "SOTWSXL12A8C143349",
         "artist_id": "ARS54I31187FB46721",
         "song_display_name": "Love Story - Taylor Swift",
         "score": 16,
         "Rank": 9,
         "_deepnote_index_column": 3489
        },
        {
         "song_id": "SOVWADY12AB0189C63",
         "artist_id": "ARYAVBS1187FB5B46C",
         "song_display_name": "Party In The U.S.A. - Miley Cyrus",
         "score": 16,
         "Rank": 10,
         "_deepnote_index_column": 3799
        }
       ]
      },
      "text/plain": "                 song_id           artist_id  \\\n987   SOFRQTD12A81C233C0  AR0IVTL1187B9AD520   \n155   SOAXGDH12A8C13F8A1  ARNCHOP121318C56B8   \n2477  SONYKOW12AB01849C9  AR73S4G1187B9A03C2   \n1846  SOKLRPJ12A8C13C3FE  ARJ7KF01187B98D717   \n276   SOBOAFP12A8C131F36  ARML3X41187FB35F2E   \n3312  SOSXLTC12AF72A7F54  ARF2EHS1187B994F4E   \n3842  SOWCKVR12A8C142411  ARF2EHS1187B994F4E   \n282   SOBONKR12A58A7A7E0  AR5E44Z1187B9A1D74   \n3489  SOTWSXL12A8C143349  ARS54I31187FB46721   \n3799  SOVWADY12AB0189C63  ARYAVBS1187FB5B46C   \n\n                                      song_display_name  score  Rank  \n987                            Sehr kosmisch - Harmonia     28   1.0  \n155   Dog Days Are Over (Radio Edit) - Florence + Th...     24   2.0  \n2477                              Secrets - OneRepublic     22   3.0  \n1846                           The Scientist - Coldplay     20   4.0  \n276   Lucky (Album Version) - Jason Mraz & Colbie Ca...     19   5.0  \n3312                            Revelry - Kings Of Leon     19   6.0  \n3842                       Use Somebody - Kings Of Leon     19   7.0  \n282                      You're The One - Dwight Yoakam     19   8.0  \n3489                          Love Story - Taylor Swift     16   9.0  \n3799                  Party In The U.S.A. - Miley Cyrus     16  10.0  ",
      "text/html": "<div>\n<style scoped>\n    .dataframe tbody tr th:only-of-type {\n        vertical-align: middle;\n    }\n\n    .dataframe tbody tr th {\n        vertical-align: top;\n    }\n\n    .dataframe thead th {\n        text-align: right;\n    }\n</style>\n<table border=\"1\" class=\"dataframe\">\n  <thead>\n    <tr style=\"text-align: right;\">\n      <th></th>\n      <th>song_id</th>\n      <th>artist_id</th>\n      <th>song_display_name</th>\n      <th>score</th>\n      <th>Rank</th>\n    </tr>\n  </thead>\n  <tbody>\n    <tr>\n      <th>987</th>\n      <td>SOFRQTD12A81C233C0</td>\n      <td>AR0IVTL1187B9AD520</td>\n      <td>Sehr kosmisch - Harmonia</td>\n      <td>28</td>\n      <td>1.0</td>\n    </tr>\n    <tr>\n      <th>155</th>\n      <td>SOAXGDH12A8C13F8A1</td>\n      <td>ARNCHOP121318C56B8</td>\n      <td>Dog Days Are Over (Radio Edit) - Florence + Th...</td>\n      <td>24</td>\n      <td>2.0</td>\n    </tr>\n    <tr>\n      <th>2477</th>\n      <td>SONYKOW12AB01849C9</td>\n      <td>AR73S4G1187B9A03C2</td>\n      <td>Secrets - OneRepublic</td>\n      <td>22</td>\n      <td>3.0</td>\n    </tr>\n    <tr>\n      <th>1846</th>\n      <td>SOKLRPJ12A8C13C3FE</td>\n      <td>ARJ7KF01187B98D717</td>\n      <td>The Scientist - Coldplay</td>\n      <td>20</td>\n      <td>4.0</td>\n    </tr>\n    <tr>\n      <th>276</th>\n      <td>SOBOAFP12A8C131F36</td>\n      <td>ARML3X41187FB35F2E</td>\n      <td>Lucky (Album Version) - Jason Mraz &amp; Colbie Ca...</td>\n      <td>19</td>\n      <td>5.0</td>\n    </tr>\n    <tr>\n      <th>3312</th>\n      <td>SOSXLTC12AF72A7F54</td>\n      <td>ARF2EHS1187B994F4E</td>\n      <td>Revelry - Kings Of Leon</td>\n      <td>19</td>\n      <td>6.0</td>\n    </tr>\n    <tr>\n      <th>3842</th>\n      <td>SOWCKVR12A8C142411</td>\n      <td>ARF2EHS1187B994F4E</td>\n      <td>Use Somebody - Kings Of Leon</td>\n      <td>19</td>\n      <td>7.0</td>\n    </tr>\n    <tr>\n      <th>282</th>\n      <td>SOBONKR12A58A7A7E0</td>\n      <td>AR5E44Z1187B9A1D74</td>\n      <td>You're The One - Dwight Yoakam</td>\n      <td>19</td>\n      <td>8.0</td>\n    </tr>\n    <tr>\n      <th>3489</th>\n      <td>SOTWSXL12A8C143349</td>\n      <td>ARS54I31187FB46721</td>\n      <td>Love Story - Taylor Swift</td>\n      <td>16</td>\n      <td>9.0</td>\n    </tr>\n    <tr>\n      <th>3799</th>\n      <td>SOVWADY12AB0189C63</td>\n      <td>ARYAVBS1187FB5B46C</td>\n      <td>Party In The U.S.A. - Miley Cyrus</td>\n      <td>16</td>\n      <td>10.0</td>\n    </tr>\n  </tbody>\n</table>\n</div>"
     },
     "metadata": {}
    }
   ],
   "execution_count": 67
  },
  {
   "cell_type": "markdown",
   "source": "### Model 1: Get popular song recommendations that the user has not listened to before",
   "metadata": {
    "cell_id": "cadf5f778af941cc951bf715650e2907",
    "tags": [],
    "deepnote_cell_type": "markdown",
    "deepnote_cell_height": 94
   }
  },
  {
   "cell_type": "code",
   "source": "# Model 1: Get popular song recommendations that the user has not listened to before\ndef get_popular_song_recommendation_model_1(user_id):\n    songs_listened_by_user = songs_df.loc[songs_df['user_id'] == user_id, 'song_id'].unique()\n    user_recommendations = song_recommendation_df.loc[\n        ~song_recommendation_df['song_id'].isin(songs_listened_by_user)\n    ].drop(columns=['artist_id'])\n    user_recommendations.insert(0, 'user_id', user_id)\n    return user_recommendations\n\nuser_id = 'b80344d063b5ccb3212f76538f3d9e43d87dca9e'\nget_popular_song_recommendation_model_1(user_id).head(10)",
   "metadata": {
    "cell_id": "8d2affcba3574facb740d543f701a474",
    "tags": [],
    "deepnote_to_be_reexecuted": false,
    "source_hash": "82a8df60",
    "execution_start": 1650044787723,
    "execution_millis": 51,
    "deepnote_cell_type": "code",
    "deepnote_cell_height": 780
   },
   "outputs": [
    {
     "output_type": "execute_result",
     "execution_count": 80,
     "data": {
      "application/vnd.deepnote.dataframe.v3+json": {
       "column_count": 5,
       "row_count": 10,
       "columns": [
        {
         "name": "user_id",
         "dtype": "object",
         "stats": {
          "unique_count": 1,
          "nan_count": 0,
          "categories": [
           {
            "name": "b80344d063b5ccb3212f76538f3d9e43d87dca9e",
            "count": 10
           }
          ]
         }
        },
        {
         "name": "song_id",
         "dtype": "object",
         "stats": {
          "unique_count": 10,
          "nan_count": 0,
          "categories": [
           {
            "name": "SOAXGDH12A8C13F8A1",
            "count": 1
           },
           {
            "name": "SONYKOW12AB01849C9",
            "count": 1
           },
           {
            "name": "8 others",
            "count": 8
           }
          ]
         }
        },
        {
         "name": "song_display_name",
         "dtype": "object",
         "stats": {
          "unique_count": 10,
          "nan_count": 0,
          "categories": [
           {
            "name": "Dog Days Are Over (Radio Edit) - Florence + The Machine",
            "count": 1
           },
           {
            "name": "Secrets - OneRepublic",
            "count": 1
           },
           {
            "name": "8 others",
            "count": 8
           }
          ]
         }
        },
        {
         "name": "score",
         "dtype": "int64",
         "stats": {
          "unique_count": 5,
          "nan_count": 0,
          "min": "16",
          "max": "24",
          "histogram": [
           {
            "bin_start": 16,
            "bin_end": 16.8,
            "count": 3
           },
           {
            "bin_start": 16.8,
            "bin_end": 17.6,
            "count": 0
           },
           {
            "bin_start": 17.6,
            "bin_end": 18.4,
            "count": 0
           },
           {
            "bin_start": 18.4,
            "bin_end": 19.2,
            "count": 4
           },
           {
            "bin_start": 19.2,
            "bin_end": 20,
            "count": 0
           },
           {
            "bin_start": 20,
            "bin_end": 20.8,
            "count": 1
           },
           {
            "bin_start": 20.8,
            "bin_end": 21.6,
            "count": 0
           },
           {
            "bin_start": 21.6,
            "bin_end": 22.4,
            "count": 1
           },
           {
            "bin_start": 22.4,
            "bin_end": 23.2,
            "count": 0
           },
           {
            "bin_start": 23.2,
            "bin_end": 24,
            "count": 1
           }
          ]
         }
        },
        {
         "name": "Rank",
         "dtype": "float64",
         "stats": {
          "unique_count": 10,
          "nan_count": 0,
          "min": "2.0",
          "max": "11.0",
          "histogram": [
           {
            "bin_start": 2,
            "bin_end": 2.9,
            "count": 1
           },
           {
            "bin_start": 2.9,
            "bin_end": 3.8,
            "count": 1
           },
           {
            "bin_start": 3.8,
            "bin_end": 4.7,
            "count": 1
           },
           {
            "bin_start": 4.7,
            "bin_end": 5.6,
            "count": 1
           },
           {
            "bin_start": 5.6,
            "bin_end": 6.5,
            "count": 1
           },
           {
            "bin_start": 6.5,
            "bin_end": 7.4,
            "count": 1
           },
           {
            "bin_start": 7.4,
            "bin_end": 8.3,
            "count": 1
           },
           {
            "bin_start": 8.3,
            "bin_end": 9.2,
            "count": 1
           },
           {
            "bin_start": 9.2,
            "bin_end": 10.1,
            "count": 1
           },
           {
            "bin_start": 10.1,
            "bin_end": 11,
            "count": 1
           }
          ]
         }
        },
        {
         "name": "_deepnote_index_column",
         "dtype": "int64"
        }
       ],
       "rows": [
        {
         "user_id": "b80344d063b5ccb3212f76538f3d9e43d87dca9e",
         "song_id": "SOAXGDH12A8C13F8A1",
         "song_display_name": "Dog Days Are Over (Radio Edit) - Florence + The Machine",
         "score": 24,
         "Rank": 2,
         "_deepnote_index_column": 155
        },
        {
         "user_id": "b80344d063b5ccb3212f76538f3d9e43d87dca9e",
         "song_id": "SONYKOW12AB01849C9",
         "song_display_name": "Secrets - OneRepublic",
         "score": 22,
         "Rank": 3,
         "_deepnote_index_column": 2477
        },
        {
         "user_id": "b80344d063b5ccb3212f76538f3d9e43d87dca9e",
         "song_id": "SOKLRPJ12A8C13C3FE",
         "song_display_name": "The Scientist - Coldplay",
         "score": 20,
         "Rank": 4,
         "_deepnote_index_column": 1846
        },
        {
         "user_id": "b80344d063b5ccb3212f76538f3d9e43d87dca9e",
         "song_id": "SOBOAFP12A8C131F36",
         "song_display_name": "Lucky (Album Version) - Jason Mraz & Colbie Caillat",
         "score": 19,
         "Rank": 5,
         "_deepnote_index_column": 276
        },
        {
         "user_id": "b80344d063b5ccb3212f76538f3d9e43d87dca9e",
         "song_id": "SOSXLTC12AF72A7F54",
         "song_display_name": "Revelry - Kings Of Leon",
         "score": 19,
         "Rank": 6,
         "_deepnote_index_column": 3312
        },
        {
         "user_id": "b80344d063b5ccb3212f76538f3d9e43d87dca9e",
         "song_id": "SOWCKVR12A8C142411",
         "song_display_name": "Use Somebody - Kings Of Leon",
         "score": 19,
         "Rank": 7,
         "_deepnote_index_column": 3842
        },
        {
         "user_id": "b80344d063b5ccb3212f76538f3d9e43d87dca9e",
         "song_id": "SOBONKR12A58A7A7E0",
         "song_display_name": "You're The One - Dwight Yoakam",
         "score": 19,
         "Rank": 8,
         "_deepnote_index_column": 282
        },
        {
         "user_id": "b80344d063b5ccb3212f76538f3d9e43d87dca9e",
         "song_id": "SOTWSXL12A8C143349",
         "song_display_name": "Love Story - Taylor Swift",
         "score": 16,
         "Rank": 9,
         "_deepnote_index_column": 3489
        },
        {
         "user_id": "b80344d063b5ccb3212f76538f3d9e43d87dca9e",
         "song_id": "SOVWADY12AB0189C63",
         "song_display_name": "Party In The U.S.A. - Miley Cyrus",
         "score": 16,
         "Rank": 10,
         "_deepnote_index_column": 3799
        },
        {
         "user_id": "b80344d063b5ccb3212f76538f3d9e43d87dca9e",
         "song_id": "SOAUWYT12A81C206F1",
         "song_display_name": "Undo - Björk",
         "score": 16,
         "Rank": 11,
         "_deepnote_index_column": 136
        }
       ]
      },
      "text/plain": "                                       user_id             song_id  \\\n155   b80344d063b5ccb3212f76538f3d9e43d87dca9e  SOAXGDH12A8C13F8A1   \n2477  b80344d063b5ccb3212f76538f3d9e43d87dca9e  SONYKOW12AB01849C9   \n1846  b80344d063b5ccb3212f76538f3d9e43d87dca9e  SOKLRPJ12A8C13C3FE   \n276   b80344d063b5ccb3212f76538f3d9e43d87dca9e  SOBOAFP12A8C131F36   \n3312  b80344d063b5ccb3212f76538f3d9e43d87dca9e  SOSXLTC12AF72A7F54   \n3842  b80344d063b5ccb3212f76538f3d9e43d87dca9e  SOWCKVR12A8C142411   \n282   b80344d063b5ccb3212f76538f3d9e43d87dca9e  SOBONKR12A58A7A7E0   \n3489  b80344d063b5ccb3212f76538f3d9e43d87dca9e  SOTWSXL12A8C143349   \n3799  b80344d063b5ccb3212f76538f3d9e43d87dca9e  SOVWADY12AB0189C63   \n136   b80344d063b5ccb3212f76538f3d9e43d87dca9e  SOAUWYT12A81C206F1   \n\n                                      song_display_name  score  Rank  \n155   Dog Days Are Over (Radio Edit) - Florence + Th...     24   2.0  \n2477                              Secrets - OneRepublic     22   3.0  \n1846                           The Scientist - Coldplay     20   4.0  \n276   Lucky (Album Version) - Jason Mraz & Colbie Ca...     19   5.0  \n3312                            Revelry - Kings Of Leon     19   6.0  \n3842                       Use Somebody - Kings Of Leon     19   7.0  \n282                      You're The One - Dwight Yoakam     19   8.0  \n3489                          Love Story - Taylor Swift     16   9.0  \n3799                  Party In The U.S.A. - Miley Cyrus     16  10.0  \n136                                        Undo - Björk     16  11.0  ",
      "text/html": "<div>\n<style scoped>\n    .dataframe tbody tr th:only-of-type {\n        vertical-align: middle;\n    }\n\n    .dataframe tbody tr th {\n        vertical-align: top;\n    }\n\n    .dataframe thead th {\n        text-align: right;\n    }\n</style>\n<table border=\"1\" class=\"dataframe\">\n  <thead>\n    <tr style=\"text-align: right;\">\n      <th></th>\n      <th>user_id</th>\n      <th>song_id</th>\n      <th>song_display_name</th>\n      <th>score</th>\n      <th>Rank</th>\n    </tr>\n  </thead>\n  <tbody>\n    <tr>\n      <th>155</th>\n      <td>b80344d063b5ccb3212f76538f3d9e43d87dca9e</td>\n      <td>SOAXGDH12A8C13F8A1</td>\n      <td>Dog Days Are Over (Radio Edit) - Florence + Th...</td>\n      <td>24</td>\n      <td>2.0</td>\n    </tr>\n    <tr>\n      <th>2477</th>\n      <td>b80344d063b5ccb3212f76538f3d9e43d87dca9e</td>\n      <td>SONYKOW12AB01849C9</td>\n      <td>Secrets - OneRepublic</td>\n      <td>22</td>\n      <td>3.0</td>\n    </tr>\n    <tr>\n      <th>1846</th>\n      <td>b80344d063b5ccb3212f76538f3d9e43d87dca9e</td>\n      <td>SOKLRPJ12A8C13C3FE</td>\n      <td>The Scientist - Coldplay</td>\n      <td>20</td>\n      <td>4.0</td>\n    </tr>\n    <tr>\n      <th>276</th>\n      <td>b80344d063b5ccb3212f76538f3d9e43d87dca9e</td>\n      <td>SOBOAFP12A8C131F36</td>\n      <td>Lucky (Album Version) - Jason Mraz &amp; Colbie Ca...</td>\n      <td>19</td>\n      <td>5.0</td>\n    </tr>\n    <tr>\n      <th>3312</th>\n      <td>b80344d063b5ccb3212f76538f3d9e43d87dca9e</td>\n      <td>SOSXLTC12AF72A7F54</td>\n      <td>Revelry - Kings Of Leon</td>\n      <td>19</td>\n      <td>6.0</td>\n    </tr>\n    <tr>\n      <th>3842</th>\n      <td>b80344d063b5ccb3212f76538f3d9e43d87dca9e</td>\n      <td>SOWCKVR12A8C142411</td>\n      <td>Use Somebody - Kings Of Leon</td>\n      <td>19</td>\n      <td>7.0</td>\n    </tr>\n    <tr>\n      <th>282</th>\n      <td>b80344d063b5ccb3212f76538f3d9e43d87dca9e</td>\n      <td>SOBONKR12A58A7A7E0</td>\n      <td>You're The One - Dwight Yoakam</td>\n      <td>19</td>\n      <td>8.0</td>\n    </tr>\n    <tr>\n      <th>3489</th>\n      <td>b80344d063b5ccb3212f76538f3d9e43d87dca9e</td>\n      <td>SOTWSXL12A8C143349</td>\n      <td>Love Story - Taylor Swift</td>\n      <td>16</td>\n      <td>9.0</td>\n    </tr>\n    <tr>\n      <th>3799</th>\n      <td>b80344d063b5ccb3212f76538f3d9e43d87dca9e</td>\n      <td>SOVWADY12AB0189C63</td>\n      <td>Party In The U.S.A. - Miley Cyrus</td>\n      <td>16</td>\n      <td>10.0</td>\n    </tr>\n    <tr>\n      <th>136</th>\n      <td>b80344d063b5ccb3212f76538f3d9e43d87dca9e</td>\n      <td>SOAUWYT12A81C206F1</td>\n      <td>Undo - Björk</td>\n      <td>16</td>\n      <td>11.0</td>\n    </tr>\n  </tbody>\n</table>\n</div>"
     },
     "metadata": {}
    }
   ],
   "execution_count": 80
  },
  {
   "cell_type": "markdown",
   "source": "#### Evaluation",
   "metadata": {
    "cell_id": "7f27748c8bad4d4791a2e2218d192f04",
    "tags": [],
    "deepnote_cell_type": "markdown",
    "deepnote_cell_height": 54
   }
  },
  {
   "cell_type": "code",
   "source": "predictions_popularity_1 = []\nfor i in user_ids:\n    user_recommendations = get_popular_song_recommendation_model_1(i)\n    predictions_popularity_1.append(user_recommendations['song_id'].to_numpy())\n\nmapk(songs_liked_by_users, predictions_popularity_1, 10)",
   "metadata": {
    "cell_id": "ef1d2138663e48eab09a55e889035713",
    "tags": [],
    "deepnote_to_be_reexecuted": false,
    "source_hash": "7ccc23ae",
    "execution_start": 1650044832095,
    "execution_millis": 515,
    "deepnote_cell_type": "code",
    "deepnote_cell_height": 208,
    "deepnote_output_heights": [
     21
    ]
   },
   "outputs": [
    {
     "output_type": "execute_result",
     "execution_count": 81,
     "data": {
      "text/plain": "0.020995611147684876"
     },
     "metadata": {}
    }
   ],
   "execution_count": 81
  },
  {
   "cell_type": "markdown",
   "source": "### Model 2: Get popular song recommendations that the user has not listened to before, but from the artists that the user has listened to before",
   "metadata": {
    "cell_id": "1bfc8cba8397436f9ef91784b4c59a01",
    "tags": [],
    "deepnote_cell_type": "markdown",
    "deepnote_cell_height": 94
   }
  },
  {
   "cell_type": "code",
   "source": "# Model 2: Get popular song recommendations that the user has not listened to before,\n#          but from the artists that the user has listened to before.\ndef get_popular_song_recommendation_model_2(user_id):\n    songs_listened_by_user = songs_df.loc[songs_df['user_id'] == user_id, 'song_id'].unique()\n    artists_listened_by_user = songs_df.loc[songs_df['user_id'] == user_id, 'artist_id'].unique()\n    user_recommendations = song_recommendation_df.loc[\n        (~song_recommendation_df['song_id'].isin(songs_listened_by_user)) & \n        (song_recommendation_df['artist_id'].isin(artists_listened_by_user))\n    ].drop(columns=['artist_id'])\n    user_recommendations.insert(0, 'user_id', user_id)\n    return user_recommendations\n\nuser_id = 'b80344d063b5ccb3212f76538f3d9e43d87dca9e'\nget_popular_song_recommendation_model_2(user_id).head(10)",
   "metadata": {
    "cell_id": "ab4d71241b48453a85aa23fb7cdba562",
    "tags": [],
    "deepnote_to_be_reexecuted": false,
    "source_hash": "b328b3ab",
    "execution_start": 1650044872546,
    "execution_millis": 33,
    "deepnote_cell_type": "code",
    "deepnote_cell_height": 834
   },
   "outputs": [
    {
     "output_type": "execute_result",
     "execution_count": 82,
     "data": {
      "application/vnd.deepnote.dataframe.v3+json": {
       "column_count": 5,
       "row_count": 10,
       "columns": [
        {
         "name": "user_id",
         "dtype": "object",
         "stats": {
          "unique_count": 1,
          "nan_count": 0,
          "categories": [
           {
            "name": "b80344d063b5ccb3212f76538f3d9e43d87dca9e",
            "count": 10
           }
          ]
         }
        },
        {
         "name": "song_id",
         "dtype": "object",
         "stats": {
          "unique_count": 10,
          "nan_count": 0,
          "categories": [
           {
            "name": "SOSCIZP12AB0181D2F",
            "count": 1
           },
           {
            "name": "SONOYIB12A81C1F88C",
            "count": 1
           },
           {
            "name": "8 others",
            "count": 8
           }
          ]
         }
        },
        {
         "name": "song_display_name",
         "dtype": "object",
         "stats": {
          "unique_count": 10,
          "nan_count": 0,
          "categories": [
           {
            "name": "Alejandro - Lady GaGa",
            "count": 1
           },
           {
            "name": "I Kissed A Girl - Katy Perry",
            "count": 1
           },
           {
            "name": "8 others",
            "count": 8
           }
          ]
         }
        },
        {
         "name": "score",
         "dtype": "int64",
         "stats": {
          "unique_count": 7,
          "nan_count": 0,
          "min": "5",
          "max": "13",
          "histogram": [
           {
            "bin_start": 5,
            "bin_end": 5.8,
            "count": 3
           },
           {
            "bin_start": 5.8,
            "bin_end": 6.6,
            "count": 1
           },
           {
            "bin_start": 6.6,
            "bin_end": 7.4,
            "count": 1
           },
           {
            "bin_start": 7.4,
            "bin_end": 8.2,
            "count": 1
           },
           {
            "bin_start": 8.2,
            "bin_end": 9,
            "count": 0
           },
           {
            "bin_start": 9,
            "bin_end": 9.8,
            "count": 1
           },
           {
            "bin_start": 9.8,
            "bin_end": 10.600000000000001,
            "count": 0
           },
           {
            "bin_start": 10.600000000000001,
            "bin_end": 11.4,
            "count": 2
           },
           {
            "bin_start": 11.4,
            "bin_end": 12.2,
            "count": 0
           },
           {
            "bin_start": 12.2,
            "bin_end": 13,
            "count": 1
           }
          ]
         }
        },
        {
         "name": "Rank",
         "dtype": "float64",
         "stats": {
          "unique_count": 10,
          "nan_count": 0,
          "min": "20.0",
          "max": "179.0",
          "histogram": [
           {
            "bin_start": 20,
            "bin_end": 35.9,
            "count": 3
           },
           {
            "bin_start": 35.9,
            "bin_end": 51.8,
            "count": 1
           },
           {
            "bin_start": 51.8,
            "bin_end": 67.7,
            "count": 1
           },
           {
            "bin_start": 67.7,
            "bin_end": 83.6,
            "count": 0
           },
           {
            "bin_start": 83.6,
            "bin_end": 99.5,
            "count": 1
           },
           {
            "bin_start": 99.5,
            "bin_end": 115.4,
            "count": 1
           },
           {
            "bin_start": 115.4,
            "bin_end": 131.3,
            "count": 1
           },
           {
            "bin_start": 131.3,
            "bin_end": 147.2,
            "count": 1
           },
           {
            "bin_start": 147.2,
            "bin_end": 163.1,
            "count": 0
           },
           {
            "bin_start": 163.1,
            "bin_end": 179,
            "count": 1
           }
          ]
         }
        },
        {
         "name": "_deepnote_index_column",
         "dtype": "int64"
        }
       ],
       "rows": [
        {
         "user_id": "b80344d063b5ccb3212f76538f3d9e43d87dca9e",
         "song_id": "SOSCIZP12AB0181D2F",
         "song_display_name": "Alejandro - Lady GaGa",
         "score": 13,
         "Rank": 20,
         "_deepnote_index_column": 3167
        },
        {
         "user_id": "b80344d063b5ccb3212f76538f3d9e43d87dca9e",
         "song_id": "SONOYIB12A81C1F88C",
         "song_display_name": "I Kissed A Girl - Katy Perry",
         "score": 11,
         "Rank": 31,
         "_deepnote_index_column": 2408
        },
        {
         "user_id": "b80344d063b5ccb3212f76538f3d9e43d87dca9e",
         "song_id": "SOFKABN12A8AE476C6",
         "song_display_name": "Just Dance - Lady GaGa / Colby O'Donis",
         "score": 11,
         "Rank": 32,
         "_deepnote_index_column": 939
        },
        {
         "user_id": "b80344d063b5ccb3212f76538f3d9e43d87dca9e",
         "song_id": "SOXNZOW12AB017F756",
         "song_display_name": "Half Of My Heart - John Mayer",
         "score": 9,
         "Rank": 39,
         "_deepnote_index_column": 4100
        },
        {
         "user_id": "b80344d063b5ccb3212f76538f3d9e43d87dca9e",
         "song_id": "SOSPXWA12AB0181875",
         "song_display_name": "Bubble Toes - Jack Johnson",
         "score": 8,
         "Rank": 54,
         "_deepnote_index_column": 3273
        },
        {
         "user_id": "b80344d063b5ccb3212f76538f3d9e43d87dca9e",
         "song_id": "SOEQJBS12A8AE475A4",
         "song_display_name": "The Funeral (Album Version) - Band Of Horses",
         "score": 7,
         "Rank": 85,
         "_deepnote_index_column": 824
        },
        {
         "user_id": "b80344d063b5ccb3212f76538f3d9e43d87dca9e",
         "song_id": "SOEYVHS12AB0181D31",
         "song_display_name": "Monster - Lady GaGa",
         "score": 6,
         "Rank": 105,
         "_deepnote_index_column": 873
        },
        {
         "user_id": "b80344d063b5ccb3212f76538f3d9e43d87dca9e",
         "song_id": "SOKUTUM12A6701D9CD",
         "song_display_name": "Do You Remember - Jack Johnson",
         "score": 5,
         "Rank": 125,
         "_deepnote_index_column": 1907
        },
        {
         "user_id": "b80344d063b5ccb3212f76538f3d9e43d87dca9e",
         "song_id": "SOUFPNI12A8C142D19",
         "song_display_name": "Heartbreak Warfare - John Mayer",
         "score": 5,
         "Rank": 138,
         "_deepnote_index_column": 3540
        },
        {
         "user_id": "b80344d063b5ccb3212f76538f3d9e43d87dca9e",
         "song_id": "SOQLUTQ12A8AE48037",
         "song_display_name": "The Pretender - Foo Fighters",
         "score": 5,
         "Rank": 179,
         "_deepnote_index_column": 2925
        }
       ]
      },
      "text/plain": "                                       user_id             song_id  \\\n3167  b80344d063b5ccb3212f76538f3d9e43d87dca9e  SOSCIZP12AB0181D2F   \n2408  b80344d063b5ccb3212f76538f3d9e43d87dca9e  SONOYIB12A81C1F88C   \n939   b80344d063b5ccb3212f76538f3d9e43d87dca9e  SOFKABN12A8AE476C6   \n4100  b80344d063b5ccb3212f76538f3d9e43d87dca9e  SOXNZOW12AB017F756   \n3273  b80344d063b5ccb3212f76538f3d9e43d87dca9e  SOSPXWA12AB0181875   \n824   b80344d063b5ccb3212f76538f3d9e43d87dca9e  SOEQJBS12A8AE475A4   \n873   b80344d063b5ccb3212f76538f3d9e43d87dca9e  SOEYVHS12AB0181D31   \n1907  b80344d063b5ccb3212f76538f3d9e43d87dca9e  SOKUTUM12A6701D9CD   \n3540  b80344d063b5ccb3212f76538f3d9e43d87dca9e  SOUFPNI12A8C142D19   \n2925  b80344d063b5ccb3212f76538f3d9e43d87dca9e  SOQLUTQ12A8AE48037   \n\n                                 song_display_name  score   Rank  \n3167                         Alejandro - Lady GaGa     13   20.0  \n2408                  I Kissed A Girl - Katy Perry     11   31.0  \n939         Just Dance - Lady GaGa / Colby O'Donis     11   32.0  \n4100                 Half Of My Heart - John Mayer      9   39.0  \n3273                    Bubble Toes - Jack Johnson      8   54.0  \n824   The Funeral (Album Version) - Band Of Horses      7   85.0  \n873                            Monster - Lady GaGa      6  105.0  \n1907                Do You Remember - Jack Johnson      5  125.0  \n3540               Heartbreak Warfare - John Mayer      5  138.0  \n2925                  The Pretender - Foo Fighters      5  179.0  ",
      "text/html": "<div>\n<style scoped>\n    .dataframe tbody tr th:only-of-type {\n        vertical-align: middle;\n    }\n\n    .dataframe tbody tr th {\n        vertical-align: top;\n    }\n\n    .dataframe thead th {\n        text-align: right;\n    }\n</style>\n<table border=\"1\" class=\"dataframe\">\n  <thead>\n    <tr style=\"text-align: right;\">\n      <th></th>\n      <th>user_id</th>\n      <th>song_id</th>\n      <th>song_display_name</th>\n      <th>score</th>\n      <th>Rank</th>\n    </tr>\n  </thead>\n  <tbody>\n    <tr>\n      <th>3167</th>\n      <td>b80344d063b5ccb3212f76538f3d9e43d87dca9e</td>\n      <td>SOSCIZP12AB0181D2F</td>\n      <td>Alejandro - Lady GaGa</td>\n      <td>13</td>\n      <td>20.0</td>\n    </tr>\n    <tr>\n      <th>2408</th>\n      <td>b80344d063b5ccb3212f76538f3d9e43d87dca9e</td>\n      <td>SONOYIB12A81C1F88C</td>\n      <td>I Kissed A Girl - Katy Perry</td>\n      <td>11</td>\n      <td>31.0</td>\n    </tr>\n    <tr>\n      <th>939</th>\n      <td>b80344d063b5ccb3212f76538f3d9e43d87dca9e</td>\n      <td>SOFKABN12A8AE476C6</td>\n      <td>Just Dance - Lady GaGa / Colby O'Donis</td>\n      <td>11</td>\n      <td>32.0</td>\n    </tr>\n    <tr>\n      <th>4100</th>\n      <td>b80344d063b5ccb3212f76538f3d9e43d87dca9e</td>\n      <td>SOXNZOW12AB017F756</td>\n      <td>Half Of My Heart - John Mayer</td>\n      <td>9</td>\n      <td>39.0</td>\n    </tr>\n    <tr>\n      <th>3273</th>\n      <td>b80344d063b5ccb3212f76538f3d9e43d87dca9e</td>\n      <td>SOSPXWA12AB0181875</td>\n      <td>Bubble Toes - Jack Johnson</td>\n      <td>8</td>\n      <td>54.0</td>\n    </tr>\n    <tr>\n      <th>824</th>\n      <td>b80344d063b5ccb3212f76538f3d9e43d87dca9e</td>\n      <td>SOEQJBS12A8AE475A4</td>\n      <td>The Funeral (Album Version) - Band Of Horses</td>\n      <td>7</td>\n      <td>85.0</td>\n    </tr>\n    <tr>\n      <th>873</th>\n      <td>b80344d063b5ccb3212f76538f3d9e43d87dca9e</td>\n      <td>SOEYVHS12AB0181D31</td>\n      <td>Monster - Lady GaGa</td>\n      <td>6</td>\n      <td>105.0</td>\n    </tr>\n    <tr>\n      <th>1907</th>\n      <td>b80344d063b5ccb3212f76538f3d9e43d87dca9e</td>\n      <td>SOKUTUM12A6701D9CD</td>\n      <td>Do You Remember - Jack Johnson</td>\n      <td>5</td>\n      <td>125.0</td>\n    </tr>\n    <tr>\n      <th>3540</th>\n      <td>b80344d063b5ccb3212f76538f3d9e43d87dca9e</td>\n      <td>SOUFPNI12A8C142D19</td>\n      <td>Heartbreak Warfare - John Mayer</td>\n      <td>5</td>\n      <td>138.0</td>\n    </tr>\n    <tr>\n      <th>2925</th>\n      <td>b80344d063b5ccb3212f76538f3d9e43d87dca9e</td>\n      <td>SOQLUTQ12A8AE48037</td>\n      <td>The Pretender - Foo Fighters</td>\n      <td>5</td>\n      <td>179.0</td>\n    </tr>\n  </tbody>\n</table>\n</div>"
     },
     "metadata": {}
    }
   ],
   "execution_count": 82
  },
  {
   "cell_type": "markdown",
   "source": "#### Evaluation",
   "metadata": {
    "cell_id": "a019eb5353e0464db95ca7ee05de0303",
    "tags": [],
    "deepnote_cell_type": "markdown",
    "deepnote_cell_height": 54
   }
  },
  {
   "cell_type": "code",
   "source": "predictions_popularity_2 = []\nfor i in user_ids:\n    user_recommendations = get_popular_song_recommendation_model_2(i)\n    predictions_popularity_2.append(user_recommendations['song_id'].to_numpy())\n\nmapk(songs_liked_by_users, predictions_popularity_2, 10)",
   "metadata": {
    "cell_id": "2723ede264224128816f0aa695b9caca",
    "tags": [],
    "deepnote_to_be_reexecuted": false,
    "source_hash": "4865580c",
    "execution_start": 1650044953093,
    "execution_millis": 688,
    "deepnote_cell_type": "code",
    "deepnote_cell_height": 208,
    "deepnote_output_heights": [
     21
    ]
   },
   "outputs": [
    {
     "output_type": "execute_result",
     "execution_count": 85,
     "data": {
      "text/plain": "0.03570301286583929"
     },
     "metadata": {}
    }
   ],
   "execution_count": 85
  },
  {
   "cell_type": "markdown",
   "source": "# Similarity based recommendation",
   "metadata": {
    "cell_id": "b78d547e78e4409ca288ee97473aeba4",
    "tags": [],
    "deepnote_cell_type": "markdown",
    "deepnote_cell_height": 82
   },
   "outputs": [],
   "execution_count": null
  },
  {
   "cell_type": "code",
   "source": "# get all unique songs in the dataset\nall_song_ids = list(songs_df['song_id'].unique())\nprint(f\"no. of unique songs in the dataset: {len(all_song_ids)}\")",
   "metadata": {
    "cell_id": "9eff54abd1ad44edb1b8206006aa1f3a",
    "tags": [],
    "deepnote_to_be_reexecuted": false,
    "source_hash": "eae79300",
    "execution_start": 1650036114956,
    "execution_millis": 5,
    "deepnote_cell_type": "code",
    "deepnote_cell_height": 147.6999969482422
   },
   "outputs": [
    {
     "name": "stdout",
     "text": "no. of unique songs in the dataset: 4461\n",
     "output_type": "stream"
    }
   ],
   "execution_count": 73
  },
  {
   "cell_type": "code",
   "source": "# create song co-occurence matrix of shape len(user_song_ids) x len(all_song_ids)\ndef create_co_occurence_matrix(user_song_ids, all_song_ids):\n    # get users who listened to each song in user_song_ids\n    user_songs_user_ids = [\n        set(songs_df.loc[songs_df['song_id'] == song_id, 'user_id'].unique())\n        for song_id in user_song_ids\n    ]\n\n    # initialize co-occurence matrix of size len(user_song_ids) x len(all_song_ids)\n    co_occurence_matrix = np.matrix(np.zeros(shape=(len(user_song_ids), len(all_song_ids))), float)\n\n    # calculate similarity between user songs and all songs\n    for i, song_id in enumerate(all_song_ids):\n        # get listeners of song i\n        user_ids_i = set(songs_df.loc[songs_df['song_id'] == song_id, 'user_id'].unique())\n\n        for j, _ in enumerate(user_song_ids):\n            user_ids_j = user_songs_user_ids[j]  # listeners of song j\n\n            users_intersection = user_ids_i.intersection(user_ids_j)  # intersection of listeners of songs i and j\n\n            # calculate co-occurence_matrix[i,j] as Jaccard Index\n            if len(users_intersection) != 0:\n                users_union = user_ids_i.union(user_ids_j)  # union of listeners of songs i and j\n\n                co_occurence_matrix[j, i] = float(len(users_intersection)) / float(len(users_union))\n            else:\n                co_occurence_matrix[j, i] = 0\n\n    return co_occurence_matrix\n\nuser_id = 'b80344d063b5ccb3212f76538f3d9e43d87dca9e'\n\n# get all songs listened by this user\nuser_song_ids = songs_df.loc[songs_df['user_id'] == user_id, 'song_id'].unique()\nprint(f\"No. of unique songs listened by the user: {len(user_song_ids)}\")\n\nco_occurence_matrix = create_co_occurence_matrix(user_song_ids, all_song_ids)\nprint(f\"Non zero values in co-occurence matrix: {np.count_nonzero(co_occurence_matrix)}\")\nprint(f\"Shape of co-occurence matrix: {co_occurence_matrix.shape}\")",
   "metadata": {
    "cell_id": "a68d97826ed541b08479817557fffd72",
    "tags": [],
    "deepnote_to_be_reexecuted": false,
    "source_hash": "40d3835f",
    "execution_start": 1650070037039,
    "execution_millis": 3990,
    "deepnote_cell_type": "code",
    "deepnote_cell_height": 853.0999755859375
   },
   "outputs": [
    {
     "name": "stdout",
     "text": "No. of unique songs listened by the user: 36\nNon zero values in co-occurence matrix: 5316\nShape of co-occurence matrix: (36, 4461)\n",
     "output_type": "stream"
    }
   ],
   "execution_count": 106
  },
  {
   "cell_type": "code",
   "source": "def get_top_recommendations(user_id, co_occurence_matrix, all_song_ids, user_song_ids):\n    # calculate weighted average of the scores in co-occurence matrix for all user songs.\n    similarity_scores = co_occurence_matrix.sum(axis=0) / float(co_occurence_matrix.shape[0])\n    similarity_scores = np.array(similarity_scores)[0].tolist()\n\n    # sort the indices of similarity_scores based on their value, while maintaining the score\n    similarity_scores_sorted = sorted(((e, i) for i, e in enumerate(list(similarity_scores))), reverse=True)\n\n    df = pandas.DataFrame(columns=['user_id', 'song_id', 'song_display_name', 'score', 'rank'])\n\n    # find top 10 recommendations and update the dataframe\n    rank = 1\n    for score, i in similarity_scores_sorted:\n        if (\n            ~np.isnan(score) and \n            all_song_ids[i] not in user_song_ids and \n            rank <= 10\n        ):\n            song_id = all_song_ids[i]\n            song_display_name = songs_df.loc[songs_df['song_id'] == song_id, 'song_display_name'].iloc[0]\n            df.loc[len(df)] = [user_id, all_song_ids[i], song_display_name, score, rank]\n            rank += 1\n\n    if len(df) == 0:\n        print(f\"WARN: The user {user_id} has not listened to any songs for training the similarity based recommendation model.\")\n    return df\n\nget_top_recommendations(user_id, co_occurence_matrix, all_song_ids, user_song_ids)",
   "metadata": {
    "cell_id": "35e2d8853ad84a9f895123a63b3fb664",
    "tags": [],
    "deepnote_to_be_reexecuted": false,
    "source_hash": "aa269523",
    "execution_start": 1650069927410,
    "execution_millis": 103,
    "deepnote_cell_type": "code",
    "deepnote_cell_height": 1086
   },
   "outputs": [
    {
     "output_type": "execute_result",
     "execution_count": 105,
     "data": {
      "application/vnd.deepnote.dataframe.v3+json": {
       "column_count": 5,
       "row_count": 10,
       "columns": [
        {
         "name": "user_id",
         "dtype": "object",
         "stats": {
          "unique_count": 1,
          "nan_count": 0,
          "categories": [
           {
            "name": "b80344d063b5ccb3212f76538f3d9e43d87dca9e",
            "count": 10
           }
          ]
         }
        },
        {
         "name": "song_id",
         "dtype": "object",
         "stats": {
          "unique_count": 10,
          "nan_count": 0,
          "categories": [
           {
            "name": "SORYLNP12A8C13C3E7",
            "count": 1
           },
           {
            "name": "SOVXBOT12A8C136816",
            "count": 1
           },
           {
            "name": "8 others",
            "count": 8
           }
          ]
         }
        },
        {
         "name": "song_display_name",
         "dtype": "object",
         "stats": {
          "unique_count": 10,
          "nan_count": 0,
          "categories": [
           {
            "name": "Lump Sum - Bon Iver",
            "count": 1
           },
           {
            "name": "Drops Of Jupiter - Train",
            "count": 1
           },
           {
            "name": "8 others",
            "count": 8
           }
          ]
         }
        },
        {
         "name": "score",
         "dtype": "float64",
         "stats": {
          "unique_count": 9,
          "nan_count": 0,
          "min": "0.028735632183908042",
          "max": "0.03822751322751323",
          "histogram": [
           {
            "bin_start": 0.028735632183908042,
            "bin_end": 0.029684820288268562,
            "count": 2
           },
           {
            "bin_start": 0.029684820288268562,
            "bin_end": 0.03063400839262908,
            "count": 2
           },
           {
            "bin_start": 0.03063400839262908,
            "bin_end": 0.031583196496989596,
            "count": 1
           },
           {
            "bin_start": 0.031583196496989596,
            "bin_end": 0.03253238460135012,
            "count": 2
           },
           {
            "bin_start": 0.03253238460135012,
            "bin_end": 0.03348157270571064,
            "count": 1
           },
           {
            "bin_start": 0.03348157270571064,
            "bin_end": 0.034430760810071154,
            "count": 1
           },
           {
            "bin_start": 0.034430760810071154,
            "bin_end": 0.03537994891443167,
            "count": 0
           },
           {
            "bin_start": 0.03537994891443167,
            "bin_end": 0.03632913701879219,
            "count": 0
           },
           {
            "bin_start": 0.03632913701879219,
            "bin_end": 0.03727832512315271,
            "count": 0
           },
           {
            "bin_start": 0.03727832512315271,
            "bin_end": 0.03822751322751323,
            "count": 1
           }
          ]
         }
        },
        {
         "name": "rank",
         "dtype": "object",
         "stats": {
          "unique_count": 10,
          "nan_count": 0,
          "categories": [
           {
            "name": "1",
            "count": 1
           },
           {
            "name": "2",
            "count": 1
           },
           {
            "name": "8 others",
            "count": 8
           }
          ]
         }
        },
        {
         "name": "_deepnote_index_column",
         "dtype": "int64"
        }
       ],
       "rows": [
        {
         "user_id": "b80344d063b5ccb3212f76538f3d9e43d87dca9e",
         "song_id": "SORYLNP12A8C13C3E7",
         "song_display_name": "Lump Sum - Bon Iver",
         "score": 0.03822751322751323,
         "rank": "1",
         "_deepnote_index_column": 0
        },
        {
         "user_id": "b80344d063b5ccb3212f76538f3d9e43d87dca9e",
         "song_id": "SOVXBOT12A8C136816",
         "song_display_name": "Drops Of Jupiter - Train",
         "score": 0.03386015325670498,
         "rank": "2",
         "_deepnote_index_column": 1
        },
        {
         "user_id": "b80344d063b5ccb3212f76538f3d9e43d87dca9e",
         "song_id": "SOLCKAS12A8C14242A",
         "song_display_name": "Eye Of The Tiger - Survivor",
         "score": 0.03283267906923821,
         "rank": "3",
         "_deepnote_index_column": 2
        },
        {
         "user_id": "b80344d063b5ccb3212f76538f3d9e43d87dca9e",
         "song_id": "SOSEUUV12A6701E93C",
         "song_display_name": "No One Knows - Queens Of The Stone Age",
         "score": 0.03240740740740741,
         "rank": "4",
         "_deepnote_index_column": 3
        },
        {
         "user_id": "b80344d063b5ccb3212f76538f3d9e43d87dca9e",
         "song_id": "SOSMTVN12A6701E910",
         "song_display_name": "Song For The Dead - Queens Of The Stone Age",
         "score": 0.03240740740740741,
         "rank": "5",
         "_deepnote_index_column": 4
        },
        {
         "user_id": "b80344d063b5ccb3212f76538f3d9e43d87dca9e",
         "song_id": "SOYFMNU12AB0181435",
         "song_display_name": "ROCKSTAR 101 - Rihanna / Slash",
         "score": 0.030883962780514505,
         "rank": "6",
         "_deepnote_index_column": 5
        },
        {
         "user_id": "b80344d063b5ccb3212f76538f3d9e43d87dca9e",
         "song_id": "SOFLJIY12A8C13FF69",
         "song_display_name": "DLZ - TV On The Radio",
         "score": 0.03009259259259259,
         "rank": "7",
         "_deepnote_index_column": 6
        },
        {
         "user_id": "b80344d063b5ccb3212f76538f3d9e43d87dca9e",
         "song_id": "SOAFQGA12A8C1367FA",
         "song_display_name": "I'm Still Breathing - Katy Perry",
         "score": 0.0300705467372134,
         "rank": "8",
         "_deepnote_index_column": 7
        },
        {
         "user_id": "b80344d063b5ccb3212f76538f3d9e43d87dca9e",
         "song_id": "SOFKABN12A8AE476C6",
         "song_display_name": "Just Dance - Lady GaGa / Colby O'Donis",
         "score": 0.029038371276274504,
         "rank": "9",
         "_deepnote_index_column": 8
        },
        {
         "user_id": "b80344d063b5ccb3212f76538f3d9e43d87dca9e",
         "song_id": "SOCDNMP12AB018440C",
         "song_display_name": "Vuelvo Al Sur - Gotan Project",
         "score": 0.028735632183908042,
         "rank": "10",
         "_deepnote_index_column": 9
        }
       ]
      },
      "text/plain": "                                    user_id             song_id  \\\n0  b80344d063b5ccb3212f76538f3d9e43d87dca9e  SORYLNP12A8C13C3E7   \n1  b80344d063b5ccb3212f76538f3d9e43d87dca9e  SOVXBOT12A8C136816   \n2  b80344d063b5ccb3212f76538f3d9e43d87dca9e  SOLCKAS12A8C14242A   \n3  b80344d063b5ccb3212f76538f3d9e43d87dca9e  SOSEUUV12A6701E93C   \n4  b80344d063b5ccb3212f76538f3d9e43d87dca9e  SOSMTVN12A6701E910   \n5  b80344d063b5ccb3212f76538f3d9e43d87dca9e  SOYFMNU12AB0181435   \n6  b80344d063b5ccb3212f76538f3d9e43d87dca9e  SOFLJIY12A8C13FF69   \n7  b80344d063b5ccb3212f76538f3d9e43d87dca9e  SOAFQGA12A8C1367FA   \n8  b80344d063b5ccb3212f76538f3d9e43d87dca9e  SOFKABN12A8AE476C6   \n9  b80344d063b5ccb3212f76538f3d9e43d87dca9e  SOCDNMP12AB018440C   \n\n                             song_display_name     score rank  \n0                          Lump Sum - Bon Iver  0.038228    1  \n1                     Drops Of Jupiter - Train  0.033860    2  \n2                  Eye Of The Tiger - Survivor  0.032833    3  \n3       No One Knows - Queens Of The Stone Age  0.032407    4  \n4  Song For The Dead - Queens Of The Stone Age  0.032407    5  \n5               ROCKSTAR 101 - Rihanna / Slash  0.030884    6  \n6                        DLZ - TV On The Radio  0.030093    7  \n7             I'm Still Breathing - Katy Perry  0.030071    8  \n8       Just Dance - Lady GaGa / Colby O'Donis  0.029038    9  \n9                Vuelvo Al Sur - Gotan Project  0.028736   10  ",
      "text/html": "<div>\n<style scoped>\n    .dataframe tbody tr th:only-of-type {\n        vertical-align: middle;\n    }\n\n    .dataframe tbody tr th {\n        vertical-align: top;\n    }\n\n    .dataframe thead th {\n        text-align: right;\n    }\n</style>\n<table border=\"1\" class=\"dataframe\">\n  <thead>\n    <tr style=\"text-align: right;\">\n      <th></th>\n      <th>user_id</th>\n      <th>song_id</th>\n      <th>song_display_name</th>\n      <th>score</th>\n      <th>rank</th>\n    </tr>\n  </thead>\n  <tbody>\n    <tr>\n      <th>0</th>\n      <td>b80344d063b5ccb3212f76538f3d9e43d87dca9e</td>\n      <td>SORYLNP12A8C13C3E7</td>\n      <td>Lump Sum - Bon Iver</td>\n      <td>0.038228</td>\n      <td>1</td>\n    </tr>\n    <tr>\n      <th>1</th>\n      <td>b80344d063b5ccb3212f76538f3d9e43d87dca9e</td>\n      <td>SOVXBOT12A8C136816</td>\n      <td>Drops Of Jupiter - Train</td>\n      <td>0.033860</td>\n      <td>2</td>\n    </tr>\n    <tr>\n      <th>2</th>\n      <td>b80344d063b5ccb3212f76538f3d9e43d87dca9e</td>\n      <td>SOLCKAS12A8C14242A</td>\n      <td>Eye Of The Tiger - Survivor</td>\n      <td>0.032833</td>\n      <td>3</td>\n    </tr>\n    <tr>\n      <th>3</th>\n      <td>b80344d063b5ccb3212f76538f3d9e43d87dca9e</td>\n      <td>SOSEUUV12A6701E93C</td>\n      <td>No One Knows - Queens Of The Stone Age</td>\n      <td>0.032407</td>\n      <td>4</td>\n    </tr>\n    <tr>\n      <th>4</th>\n      <td>b80344d063b5ccb3212f76538f3d9e43d87dca9e</td>\n      <td>SOSMTVN12A6701E910</td>\n      <td>Song For The Dead - Queens Of The Stone Age</td>\n      <td>0.032407</td>\n      <td>5</td>\n    </tr>\n    <tr>\n      <th>5</th>\n      <td>b80344d063b5ccb3212f76538f3d9e43d87dca9e</td>\n      <td>SOYFMNU12AB0181435</td>\n      <td>ROCKSTAR 101 - Rihanna / Slash</td>\n      <td>0.030884</td>\n      <td>6</td>\n    </tr>\n    <tr>\n      <th>6</th>\n      <td>b80344d063b5ccb3212f76538f3d9e43d87dca9e</td>\n      <td>SOFLJIY12A8C13FF69</td>\n      <td>DLZ - TV On The Radio</td>\n      <td>0.030093</td>\n      <td>7</td>\n    </tr>\n    <tr>\n      <th>7</th>\n      <td>b80344d063b5ccb3212f76538f3d9e43d87dca9e</td>\n      <td>SOAFQGA12A8C1367FA</td>\n      <td>I'm Still Breathing - Katy Perry</td>\n      <td>0.030071</td>\n      <td>8</td>\n    </tr>\n    <tr>\n      <th>8</th>\n      <td>b80344d063b5ccb3212f76538f3d9e43d87dca9e</td>\n      <td>SOFKABN12A8AE476C6</td>\n      <td>Just Dance - Lady GaGa / Colby O'Donis</td>\n      <td>0.029038</td>\n      <td>9</td>\n    </tr>\n    <tr>\n      <th>9</th>\n      <td>b80344d063b5ccb3212f76538f3d9e43d87dca9e</td>\n      <td>SOCDNMP12AB018440C</td>\n      <td>Vuelvo Al Sur - Gotan Project</td>\n      <td>0.028736</td>\n      <td>10</td>\n    </tr>\n  </tbody>\n</table>\n</div>"
     },
     "metadata": {}
    }
   ],
   "execution_count": 105
  },
  {
   "cell_type": "code",
   "source": "# Get songs similar to the songs listened by the user\ndef get_similar_songs_for_user(user_id):\n    # get all unique songs for this user\n    user_song_ids = songs_df.loc[songs_df['user_id'] == user_id, 'song_id'].unique()\n    print(f\"no. of unique songs for the user: {len(user_song_ids)}\")\n\n    co_occurence_matrix = create_co_occurence_matrix(user_song_ids, all_song_ids)\n    print(f\"non zero values in co-occurence_matrix: {np.count_nonzero(co_occurence_matrix)}\")\n    return get_top_recommendations(user_id, co_occurence_matrix, all_song_ids, user_song_ids)\n\n\nuser_id = 'b80344d063b5ccb3212f76538f3d9e43d87dca9e'\nget_similar_songs_for_user(user_id)",
   "metadata": {
    "cell_id": "81b2d4c8b67147baa6c613d5071bf3ce",
    "tags": [],
    "deepnote_to_be_reexecuted": false,
    "source_hash": "fb3ad3c8",
    "execution_start": 1650068173280,
    "execution_millis": 3912,
    "deepnote_cell_type": "code",
    "deepnote_cell_height": 881.4000244140625
   },
   "outputs": [
    {
     "name": "stdout",
     "text": "no. of unique songs for the user: 36\nnon zero values in co-occurence_matrix: 5316\n",
     "output_type": "stream"
    },
    {
     "output_type": "execute_result",
     "execution_count": 102,
     "data": {
      "application/vnd.deepnote.dataframe.v3+json": {
       "column_count": 5,
       "row_count": 10,
       "columns": [
        {
         "name": "user_id",
         "dtype": "object",
         "stats": {
          "unique_count": 1,
          "nan_count": 0,
          "categories": [
           {
            "name": "b80344d063b5ccb3212f76538f3d9e43d87dca9e",
            "count": 10
           }
          ]
         }
        },
        {
         "name": "song_id",
         "dtype": "object",
         "stats": {
          "unique_count": 10,
          "nan_count": 0,
          "categories": [
           {
            "name": "SORYLNP12A8C13C3E7",
            "count": 1
           },
           {
            "name": "SOVXBOT12A8C136816",
            "count": 1
           },
           {
            "name": "8 others",
            "count": 8
           }
          ]
         }
        },
        {
         "name": "song_display_name",
         "dtype": "object",
         "stats": {
          "unique_count": 10,
          "nan_count": 0,
          "categories": [
           {
            "name": "Lump Sum - Bon Iver",
            "count": 1
           },
           {
            "name": "Drops Of Jupiter - Train",
            "count": 1
           },
           {
            "name": "8 others",
            "count": 8
           }
          ]
         }
        },
        {
         "name": "score",
         "dtype": "float64",
         "stats": {
          "unique_count": 9,
          "nan_count": 0,
          "min": "0.028735632183908042",
          "max": "0.03822751322751323",
          "histogram": [
           {
            "bin_start": 0.028735632183908042,
            "bin_end": 0.029684820288268562,
            "count": 2
           },
           {
            "bin_start": 0.029684820288268562,
            "bin_end": 0.03063400839262908,
            "count": 2
           },
           {
            "bin_start": 0.03063400839262908,
            "bin_end": 0.031583196496989596,
            "count": 1
           },
           {
            "bin_start": 0.031583196496989596,
            "bin_end": 0.03253238460135012,
            "count": 2
           },
           {
            "bin_start": 0.03253238460135012,
            "bin_end": 0.03348157270571064,
            "count": 1
           },
           {
            "bin_start": 0.03348157270571064,
            "bin_end": 0.034430760810071154,
            "count": 1
           },
           {
            "bin_start": 0.034430760810071154,
            "bin_end": 0.03537994891443167,
            "count": 0
           },
           {
            "bin_start": 0.03537994891443167,
            "bin_end": 0.03632913701879219,
            "count": 0
           },
           {
            "bin_start": 0.03632913701879219,
            "bin_end": 0.03727832512315271,
            "count": 0
           },
           {
            "bin_start": 0.03727832512315271,
            "bin_end": 0.03822751322751323,
            "count": 1
           }
          ]
         }
        },
        {
         "name": "rank",
         "dtype": "object",
         "stats": {
          "unique_count": 10,
          "nan_count": 0,
          "categories": [
           {
            "name": "1",
            "count": 1
           },
           {
            "name": "2",
            "count": 1
           },
           {
            "name": "8 others",
            "count": 8
           }
          ]
         }
        },
        {
         "name": "_deepnote_index_column",
         "dtype": "int64"
        }
       ],
       "rows": [
        {
         "user_id": "b80344d063b5ccb3212f76538f3d9e43d87dca9e",
         "song_id": "SORYLNP12A8C13C3E7",
         "song_display_name": "Lump Sum - Bon Iver",
         "score": 0.03822751322751323,
         "rank": "1",
         "_deepnote_index_column": 0
        },
        {
         "user_id": "b80344d063b5ccb3212f76538f3d9e43d87dca9e",
         "song_id": "SOVXBOT12A8C136816",
         "song_display_name": "Drops Of Jupiter - Train",
         "score": 0.03386015325670498,
         "rank": "2",
         "_deepnote_index_column": 1
        },
        {
         "user_id": "b80344d063b5ccb3212f76538f3d9e43d87dca9e",
         "song_id": "SOLCKAS12A8C14242A",
         "song_display_name": "Eye Of The Tiger - Survivor",
         "score": 0.03283267906923821,
         "rank": "3",
         "_deepnote_index_column": 2
        },
        {
         "user_id": "b80344d063b5ccb3212f76538f3d9e43d87dca9e",
         "song_id": "SOSEUUV12A6701E93C",
         "song_display_name": "No One Knows - Queens Of The Stone Age",
         "score": 0.03240740740740741,
         "rank": "4",
         "_deepnote_index_column": 3
        },
        {
         "user_id": "b80344d063b5ccb3212f76538f3d9e43d87dca9e",
         "song_id": "SOSMTVN12A6701E910",
         "song_display_name": "Song For The Dead - Queens Of The Stone Age",
         "score": 0.03240740740740741,
         "rank": "5",
         "_deepnote_index_column": 4
        },
        {
         "user_id": "b80344d063b5ccb3212f76538f3d9e43d87dca9e",
         "song_id": "SOYFMNU12AB0181435",
         "song_display_name": "ROCKSTAR 101 - Rihanna / Slash",
         "score": 0.030883962780514505,
         "rank": "6",
         "_deepnote_index_column": 5
        },
        {
         "user_id": "b80344d063b5ccb3212f76538f3d9e43d87dca9e",
         "song_id": "SOFLJIY12A8C13FF69",
         "song_display_name": "DLZ - TV On The Radio",
         "score": 0.03009259259259259,
         "rank": "7",
         "_deepnote_index_column": 6
        },
        {
         "user_id": "b80344d063b5ccb3212f76538f3d9e43d87dca9e",
         "song_id": "SOAFQGA12A8C1367FA",
         "song_display_name": "I'm Still Breathing - Katy Perry",
         "score": 0.0300705467372134,
         "rank": "8",
         "_deepnote_index_column": 7
        },
        {
         "user_id": "b80344d063b5ccb3212f76538f3d9e43d87dca9e",
         "song_id": "SOFKABN12A8AE476C6",
         "song_display_name": "Just Dance - Lady GaGa / Colby O'Donis",
         "score": 0.029038371276274504,
         "rank": "9",
         "_deepnote_index_column": 8
        },
        {
         "user_id": "b80344d063b5ccb3212f76538f3d9e43d87dca9e",
         "song_id": "SOCDNMP12AB018440C",
         "song_display_name": "Vuelvo Al Sur - Gotan Project",
         "score": 0.028735632183908042,
         "rank": "10",
         "_deepnote_index_column": 9
        }
       ]
      },
      "text/plain": "                                    user_id             song_id  \\\n0  b80344d063b5ccb3212f76538f3d9e43d87dca9e  SORYLNP12A8C13C3E7   \n1  b80344d063b5ccb3212f76538f3d9e43d87dca9e  SOVXBOT12A8C136816   \n2  b80344d063b5ccb3212f76538f3d9e43d87dca9e  SOLCKAS12A8C14242A   \n3  b80344d063b5ccb3212f76538f3d9e43d87dca9e  SOSEUUV12A6701E93C   \n4  b80344d063b5ccb3212f76538f3d9e43d87dca9e  SOSMTVN12A6701E910   \n5  b80344d063b5ccb3212f76538f3d9e43d87dca9e  SOYFMNU12AB0181435   \n6  b80344d063b5ccb3212f76538f3d9e43d87dca9e  SOFLJIY12A8C13FF69   \n7  b80344d063b5ccb3212f76538f3d9e43d87dca9e  SOAFQGA12A8C1367FA   \n8  b80344d063b5ccb3212f76538f3d9e43d87dca9e  SOFKABN12A8AE476C6   \n9  b80344d063b5ccb3212f76538f3d9e43d87dca9e  SOCDNMP12AB018440C   \n\n                             song_display_name     score rank  \n0                          Lump Sum - Bon Iver  0.038228    1  \n1                     Drops Of Jupiter - Train  0.033860    2  \n2                  Eye Of The Tiger - Survivor  0.032833    3  \n3       No One Knows - Queens Of The Stone Age  0.032407    4  \n4  Song For The Dead - Queens Of The Stone Age  0.032407    5  \n5               ROCKSTAR 101 - Rihanna / Slash  0.030884    6  \n6                        DLZ - TV On The Radio  0.030093    7  \n7             I'm Still Breathing - Katy Perry  0.030071    8  \n8       Just Dance - Lady GaGa / Colby O'Donis  0.029038    9  \n9                Vuelvo Al Sur - Gotan Project  0.028736   10  ",
      "text/html": "<div>\n<style scoped>\n    .dataframe tbody tr th:only-of-type {\n        vertical-align: middle;\n    }\n\n    .dataframe tbody tr th {\n        vertical-align: top;\n    }\n\n    .dataframe thead th {\n        text-align: right;\n    }\n</style>\n<table border=\"1\" class=\"dataframe\">\n  <thead>\n    <tr style=\"text-align: right;\">\n      <th></th>\n      <th>user_id</th>\n      <th>song_id</th>\n      <th>song_display_name</th>\n      <th>score</th>\n      <th>rank</th>\n    </tr>\n  </thead>\n  <tbody>\n    <tr>\n      <th>0</th>\n      <td>b80344d063b5ccb3212f76538f3d9e43d87dca9e</td>\n      <td>SORYLNP12A8C13C3E7</td>\n      <td>Lump Sum - Bon Iver</td>\n      <td>0.038228</td>\n      <td>1</td>\n    </tr>\n    <tr>\n      <th>1</th>\n      <td>b80344d063b5ccb3212f76538f3d9e43d87dca9e</td>\n      <td>SOVXBOT12A8C136816</td>\n      <td>Drops Of Jupiter - Train</td>\n      <td>0.033860</td>\n      <td>2</td>\n    </tr>\n    <tr>\n      <th>2</th>\n      <td>b80344d063b5ccb3212f76538f3d9e43d87dca9e</td>\n      <td>SOLCKAS12A8C14242A</td>\n      <td>Eye Of The Tiger - Survivor</td>\n      <td>0.032833</td>\n      <td>3</td>\n    </tr>\n    <tr>\n      <th>3</th>\n      <td>b80344d063b5ccb3212f76538f3d9e43d87dca9e</td>\n      <td>SOSEUUV12A6701E93C</td>\n      <td>No One Knows - Queens Of The Stone Age</td>\n      <td>0.032407</td>\n      <td>4</td>\n    </tr>\n    <tr>\n      <th>4</th>\n      <td>b80344d063b5ccb3212f76538f3d9e43d87dca9e</td>\n      <td>SOSMTVN12A6701E910</td>\n      <td>Song For The Dead - Queens Of The Stone Age</td>\n      <td>0.032407</td>\n      <td>5</td>\n    </tr>\n    <tr>\n      <th>5</th>\n      <td>b80344d063b5ccb3212f76538f3d9e43d87dca9e</td>\n      <td>SOYFMNU12AB0181435</td>\n      <td>ROCKSTAR 101 - Rihanna / Slash</td>\n      <td>0.030884</td>\n      <td>6</td>\n    </tr>\n    <tr>\n      <th>6</th>\n      <td>b80344d063b5ccb3212f76538f3d9e43d87dca9e</td>\n      <td>SOFLJIY12A8C13FF69</td>\n      <td>DLZ - TV On The Radio</td>\n      <td>0.030093</td>\n      <td>7</td>\n    </tr>\n    <tr>\n      <th>7</th>\n      <td>b80344d063b5ccb3212f76538f3d9e43d87dca9e</td>\n      <td>SOAFQGA12A8C1367FA</td>\n      <td>I'm Still Breathing - Katy Perry</td>\n      <td>0.030071</td>\n      <td>8</td>\n    </tr>\n    <tr>\n      <th>8</th>\n      <td>b80344d063b5ccb3212f76538f3d9e43d87dca9e</td>\n      <td>SOFKABN12A8AE476C6</td>\n      <td>Just Dance - Lady GaGa / Colby O'Donis</td>\n      <td>0.029038</td>\n      <td>9</td>\n    </tr>\n    <tr>\n      <th>9</th>\n      <td>b80344d063b5ccb3212f76538f3d9e43d87dca9e</td>\n      <td>SOCDNMP12AB018440C</td>\n      <td>Vuelvo Al Sur - Gotan Project</td>\n      <td>0.028736</td>\n      <td>10</td>\n    </tr>\n  </tbody>\n</table>\n</div>"
     },
     "metadata": {}
    }
   ],
   "execution_count": 102
  },
  {
   "cell_type": "markdown",
   "source": "### Evaluation",
   "metadata": {
    "cell_id": "b29d08eb18cc4e8fa4d13f670c29586d",
    "tags": [],
    "deepnote_cell_type": "markdown",
    "deepnote_cell_height": 62
   }
  },
  {
   "cell_type": "code",
   "source": "predictions_similarity = []\n\nfor i in user_ids:\n    recommendations_df = get_similar_songs_for_user(i)\n    # print(recommendations_df['song_id'])\n    # print(songs_liked_by_users[0])\n    predictions_similarity.append(recommendations_df['song_id'].to_numpy())\n\nmapk(songs_liked_by_users, predictions_similarity, 10)",
   "metadata": {
    "cell_id": "103370c5660a47cd831b3096552fd15f",
    "tags": [],
    "deepnote_to_be_reexecuted": false,
    "source_hash": "6993b514",
    "execution_start": 1650064473419,
    "execution_millis": 591875,
    "deepnote_cell_type": "code",
    "deepnote_cell_height": 897,
    "deepnote_output_heights": [
     null,
     21
    ]
   },
   "outputs": [
    {
     "name": "stdout",
     "text": "no. of unique songs for the user: 46\nnon zero values in co-occurence_matrix: 10068\nno. of unique songs for the user: 86\nnon zero values in co-occurence_matrix: 17222\nno. of unique songs for the user: 42\nnon zero values in co-occurence_matrix: 13767\nno. of unique songs for the user: 105\nnon zero values in co-occurence_matrix: 21875\nno. of unique songs for the user: 98\nnon zero values in co-occurence_matrix: 26587\nno. of unique songs for the user: 105\nnon zero values in co-occurence_matrix: 29275\nno. of unique songs for the user: 101\nnon zero values in co-occurence_matrix: 23008\nno. of unique songs for the user: 47\nnon zero values in co-occurence_matrix: 9602\nno. of unique songs for the user: 24\nnon zero values in co-occurence_matrix: 1534\nno. of unique songs for the user: 70\nnon zero values in co-occurence_matrix: 12581\nno. of unique songs for the user: 58\nnon zero values in co-occurence_matrix: 6400\nno. of unique songs for the user: 136\nnon zero values in co-occurence_matrix: 31812\nno. of unique songs for the user: 74\nnon zero values in co-occurence_matrix: 21064\nno. of unique songs for the user: 45\nnon zero values in co-occurence_matrix: 7571\nno. of unique songs for the user: 122\nnon zero values in co-occurence_matrix: 45748\nno. of unique songs for the user: 49\nnon zero values in co-occurence_matrix: 6956\nno. of unique songs for the user: 54\nnon zero values in co-occurence_matrix: 9091\nno. of unique songs for the user: 52\nnon zero values in co-occurence_matrix: 6480\nno. of unique songs for the user: 125\nnon zero values in co-occurence_matrix: 28181\nno. of unique songs for the user: 38\nnon zero values in co-occurence_matrix: 5237\nno. of unique songs for the user: 42\nnon zero values in co-occurence_matrix: 4231\nno. of unique songs for the user: 105\nnon zero values in co-occurence_matrix: 23020\nno. of unique songs for the user: 94\nnon zero values in co-occurence_matrix: 17116\nno. of unique songs for the user: 25\nnon zero values in co-occurence_matrix: 4128\nno. of unique songs for the user: 46\nnon zero values in co-occurence_matrix: 11796\nno. of unique songs for the user: 25\nnon zero values in co-occurence_matrix: 4362\nno. of unique songs for the user: 67\nnon zero values in co-occurence_matrix: 12481\nno. of unique songs for the user: 51\nnon zero values in co-occurence_matrix: 6115\nno. of unique songs for the user: 25\nnon zero values in co-occurence_matrix: 2025\nno. of unique songs for the user: 67\nnon zero values in co-occurence_matrix: 16028\nno. of unique songs for the user: 37\nnon zero values in co-occurence_matrix: 3698\nno. of unique songs for the user: 80\nnon zero values in co-occurence_matrix: 11986\nno. of unique songs for the user: 90\nnon zero values in co-occurence_matrix: 15894\nno. of unique songs for the user: 121\nnon zero values in co-occurence_matrix: 22020\nno. of unique songs for the user: 28\nnon zero values in co-occurence_matrix: 3812\nno. of unique songs for the user: 34\nnon zero values in co-occurence_matrix: 4956\nno. of unique songs for the user: 42\nnon zero values in co-occurence_matrix: 7964\nno. of unique songs for the user: 34\nnon zero values in co-occurence_matrix: 15548\nno. of unique songs for the user: 27\nnon zero values in co-occurence_matrix: 5564\nno. of unique songs for the user: 42\nnon zero values in co-occurence_matrix: 4874\nno. of unique songs for the user: 24\nnon zero values in co-occurence_matrix: 3387\nno. of unique songs for the user: 37\nnon zero values in co-occurence_matrix: 7619\nno. of unique songs for the user: 56\nnon zero values in co-occurence_matrix: 9850\nno. of unique songs for the user: 78\nnon zero values in co-occurence_matrix: 13288\nno. of unique songs for the user: 46\nnon zero values in co-occurence_matrix: 15894\nno. of unique songs for the user: 153\nnon zero values in co-occurence_matrix: 50357\nno. of unique songs for the user: 45\nnon zero values in co-occurence_matrix: 11581\nno. of unique songs for the user: 101\nnon zero values in co-occurence_matrix: 22575\nno. of unique songs for the user: 32\nnon zero values in co-occurence_matrix: 8534\nno. of unique songs for the user: 35\nnon zero values in co-occurence_matrix: 4508\nno. of unique songs for the user: 31\nnon zero values in co-occurence_matrix: 3895\nno. of unique songs for the user: 36\nnon zero values in co-occurence_matrix: 4032\nno. of unique songs for the user: 78\nnon zero values in co-occurence_matrix: 14876\nno. of unique songs for the user: 30\nnon zero values in co-occurence_matrix: 6217\nno. of unique songs for the user: 36\nnon zero values in co-occurence_matrix: 10436\nno. of unique songs for the user: 57\nnon zero values in co-occurence_matrix: 8688\nno. of unique songs for the user: 69\nnon zero values in co-occurence_matrix: 24273\nno. of unique songs for the user: 74\nnon zero values in co-occurence_matrix: 15589\nno. of unique songs for the user: 34\nnon zero values in co-occurence_matrix: 6585\nno. of unique songs for the user: 37\nnon zero values in co-occurence_matrix: 3793\nno. of unique songs for the user: 82\nnon zero values in co-occurence_matrix: 16083\nno. of unique songs for the user: 103\nnon zero values in co-occurence_matrix: 24001\nno. of unique songs for the user: 321\nnon zero values in co-occurence_matrix: 131134\nno. of unique songs for the user: 94\nnon zero values in co-occurence_matrix: 28022\nno. of unique songs for the user: 50\nnon zero values in co-occurence_matrix: 11755\nno. of unique songs for the user: 26\nnon zero values in co-occurence_matrix: 13484\nno. of unique songs for the user: 30\nnon zero values in co-occurence_matrix: 9134\nno. of unique songs for the user: 50\nnon zero values in co-occurence_matrix: 17957\nno. of unique songs for the user: 34\nnon zero values in co-occurence_matrix: 3034\nno. of unique songs for the user: 33\nnon zero values in co-occurence_matrix: 3059\nno. of unique songs for the user: 127\nnon zero values in co-occurence_matrix: 26776\nno. of unique songs for the user: 110\nnon zero values in co-occurence_matrix: 25880\nno. of unique songs for the user: 31\nnon zero values in co-occurence_matrix: 4787\nno. of unique songs for the user: 82\nnon zero values in co-occurence_matrix: 16184\nno. of unique songs for the user: 99\nnon zero values in co-occurence_matrix: 22350\nno. of unique songs for the user: 44\nnon zero values in co-occurence_matrix: 7189\nno. of unique songs for the user: 24\nnon zero values in co-occurence_matrix: 3375\nno. of unique songs for the user: 26\nnon zero values in co-occurence_matrix: 6664\nno. of unique songs for the user: 37\nnon zero values in co-occurence_matrix: 3331\nno. of unique songs for the user: 111\nnon zero values in co-occurence_matrix: 25390\nno. of unique songs for the user: 29\nnon zero values in co-occurence_matrix: 3685\nno. of unique songs for the user: 29\nnon zero values in co-occurence_matrix: 5021\nno. of unique songs for the user: 55\nnon zero values in co-occurence_matrix: 10065\nno. of unique songs for the user: 29\nnon zero values in co-occurence_matrix: 5942\nno. of unique songs for the user: 41\nnon zero values in co-occurence_matrix: 5647\nno. of unique songs for the user: 34\nnon zero values in co-occurence_matrix: 3727\nno. of unique songs for the user: 25\nnon zero values in co-occurence_matrix: 5775\nno. of unique songs for the user: 45\nnon zero values in co-occurence_matrix: 7659\nno. of unique songs for the user: 42\nnon zero values in co-occurence_matrix: 12991\nno. of unique songs for the user: 26\nnon zero values in co-occurence_matrix: 5221\nno. of unique songs for the user: 37\nnon zero values in co-occurence_matrix: 4697\nno. of unique songs for the user: 36\nnon zero values in co-occurence_matrix: 6151\nno. of unique songs for the user: 46\nnon zero values in co-occurence_matrix: 8896\nno. of unique songs for the user: 31\nnon zero values in co-occurence_matrix: 4381\nno. of unique songs for the user: 38\nnon zero values in co-occurence_matrix: 7041\nno. of unique songs for the user: 28\nnon zero values in co-occurence_matrix: 5520\nno. of unique songs for the user: 53\nnon zero values in co-occurence_matrix: 9658\nno. of unique songs for the user: 37\nnon zero values in co-occurence_matrix: 7668\nno. of unique songs for the user: 62\nnon zero values in co-occurence_matrix: 7808\nno. of unique songs for the user: 46\nnon zero values in co-occurence_matrix: 5820\nno. of unique songs for the user: 36\nnon zero values in co-occurence_matrix: 6356\nno. of unique songs for the user: 41\nnon zero values in co-occurence_matrix: 5246\nno. of unique songs for the user: 53\nnon zero values in co-occurence_matrix: 8098\nno. of unique songs for the user: 26\nnon zero values in co-occurence_matrix: 9604\nno. of unique songs for the user: 42\nnon zero values in co-occurence_matrix: 7788\nno. of unique songs for the user: 34\nnon zero values in co-occurence_matrix: 4049\nno. of unique songs for the user: 44\nnon zero values in co-occurence_matrix: 6811\nno. of unique songs for the user: 53\nnon zero values in co-occurence_matrix: 8513\nno. of unique songs for the user: 137\nnon zero values in co-occurence_matrix: 40298\nno. of unique songs for the user: 135\nnon zero values in co-occurence_matrix: 44179\nno. of unique songs for the user: 35\nnon zero values in co-occurence_matrix: 4364\nno. of unique songs for the user: 35\nnon zero values in co-occurence_matrix: 4540\nno. of unique songs for the user: 46\nnon zero values in co-occurence_matrix: 4982\nno. of unique songs for the user: 57\nnon zero values in co-occurence_matrix: 17204\nno. of unique songs for the user: 24\nnon zero values in co-occurence_matrix: 4642\nno. of unique songs for the user: 26\nnon zero values in co-occurence_matrix: 1650\nno. of unique songs for the user: 29\nnon zero values in co-occurence_matrix: 6010\nno. of unique songs for the user: 40\nnon zero values in co-occurence_matrix: 12841\nno. of unique songs for the user: 30\nnon zero values in co-occurence_matrix: 3787\nno. of unique songs for the user: 33\nnon zero values in co-occurence_matrix: 4536\nno. of unique songs for the user: 41\nnon zero values in co-occurence_matrix: 3778\nno. of unique songs for the user: 25\nnon zero values in co-occurence_matrix: 2531\nno. of unique songs for the user: 35\nnon zero values in co-occurence_matrix: 3125\nno. of unique songs for the user: 58\nnon zero values in co-occurence_matrix: 24018\nno. of unique songs for the user: 28\nnon zero values in co-occurence_matrix: 9950\nno. of unique songs for the user: 54\nnon zero values in co-occurence_matrix: 6198\nno. of unique songs for the user: 42\nnon zero values in co-occurence_matrix: 4888\nno. of unique songs for the user: 34\nnon zero values in co-occurence_matrix: 3552\nno. of unique songs for the user: 30\nnon zero values in co-occurence_matrix: 9238\nno. of unique songs for the user: 43\nnon zero values in co-occurence_matrix: 6528\nno. of unique songs for the user: 27\nnon zero values in co-occurence_matrix: 9814\nno. of unique songs for the user: 36\nnon zero values in co-occurence_matrix: 5316\nno. of unique songs for the user: 30\nnon zero values in co-occurence_matrix: 11107\nno. of unique songs for the user: 27\nnon zero values in co-occurence_matrix: 10809\nno. of unique songs for the user: 38\nnon zero values in co-occurence_matrix: 5821\nno. of unique songs for the user: 10\nnon zero values in co-occurence_matrix: 2326\nno. of unique songs for the user: 30\nnon zero values in co-occurence_matrix: 3378\nno. of unique songs for the user: 30\nnon zero values in co-occurence_matrix: 4957\nno. of unique songs for the user: 25\nnon zero values in co-occurence_matrix: 3742\nno. of unique songs for the user: 31\nnon zero values in co-occurence_matrix: 8436\nno. of unique songs for the user: 33\nnon zero values in co-occurence_matrix: 4452\nno. of unique songs for the user: 24\nnon zero values in co-occurence_matrix: 2252\nno. of unique songs for the user: 28\nnon zero values in co-occurence_matrix: 2345\nno. of unique songs for the user: 26\nnon zero values in co-occurence_matrix: 2029\nno. of unique songs for the user: 29\nnon zero values in co-occurence_matrix: 6765\nno. of unique songs for the user: 25\nnon zero values in co-occurence_matrix: 3563\nno. of unique songs for the user: 29\nnon zero values in co-occurence_matrix: 4271\nno. of unique songs for the user: 29\nnon zero values in co-occurence_matrix: 3952\nno. of unique songs for the user: 26\nnon zero values in co-occurence_matrix: 3738\nno. of unique songs for the user: 26\nnon zero values in co-occurence_matrix: 2945\nno. of unique songs for the user: 34\nnon zero values in co-occurence_matrix: 7455\nno. of unique songs for the user: 38\nnon zero values in co-occurence_matrix: 6666\nno. of unique songs for the user: 26\nnon zero values in co-occurence_matrix: 4840\nno. of unique songs for the user: 26\nnon zero values in co-occurence_matrix: 4312\nno. of unique songs for the user: 40\nnon zero values in co-occurence_matrix: 15750\n",
     "output_type": "stream"
    },
    {
     "output_type": "execute_result",
     "execution_count": 92,
     "data": {
      "text/plain": "0.023362476531831367"
     },
     "metadata": {}
    }
   ],
   "execution_count": 92
  },
  {
   "cell_type": "code",
   "source": "# Get similar songs to a given list of songs\nsong_ids = ['SOAKIMP12A8C130995', 'SOMMJUQ12AF72A5931']\n\nco_occurence_matrix = create_co_occurence_matrix(song_ids, all_song_ids)\nrecommendations_df = get_top_recommendations(user_id, co_occurence_matrix, all_song_ids, song_ids)\nrecommendations_df",
   "metadata": {
    "cell_id": "260fd456fd754f31be274bcf087f8192",
    "tags": [],
    "deepnote_to_be_reexecuted": false,
    "source_hash": "d2c6ce8e",
    "execution_start": 1650039915651,
    "execution_millis": 3540,
    "deepnote_cell_type": "code",
    "deepnote_cell_height": 735.7000122070312
   },
   "outputs": [
    {
     "name": "stdout",
     "text": "no. of unique songs in the dataset: 4461\n",
     "output_type": "stream"
    },
    {
     "output_type": "execute_result",
     "execution_count": 79,
     "data": {
      "application/vnd.deepnote.dataframe.v3+json": {
       "column_count": 5,
       "row_count": 10,
       "columns": [
        {
         "name": "user_id",
         "dtype": "object",
         "stats": {
          "unique_count": 1,
          "nan_count": 0,
          "categories": [
           {
            "name": "b80344d063b5ccb3212f76538f3d9e43d87dca9e",
            "count": 10
           }
          ]
         }
        },
        {
         "name": "song_id",
         "dtype": "object",
         "stats": {
          "unique_count": 10,
          "nan_count": 0,
          "categories": [
           {
            "name": "SOVYIYI12A8C138D88",
            "count": 1
           },
           {
            "name": "SOQJLDY12AAF3B456D",
            "count": 1
           },
           {
            "name": "8 others",
            "count": 8
           }
          ]
         }
        },
        {
         "name": "song_display_name",
         "dtype": "object",
         "stats": {
          "unique_count": 10,
          "nan_count": 0,
          "categories": [
           {
            "name": "He Doesn't Know Why - Fleet Foxes",
            "count": 1
           },
           {
            "name": "Love Song For No One - John Mayer",
            "count": 1
           },
           {
            "name": "8 others",
            "count": 8
           }
          ]
         }
        },
        {
         "name": "score",
         "dtype": "float64",
         "stats": {
          "unique_count": 1,
          "nan_count": 0,
          "min": "0.5",
          "max": "0.5",
          "histogram": [
           {
            "bin_start": 0,
            "bin_end": 0.1,
            "count": 0
           },
           {
            "bin_start": 0.1,
            "bin_end": 0.2,
            "count": 0
           },
           {
            "bin_start": 0.2,
            "bin_end": 0.30000000000000004,
            "count": 0
           },
           {
            "bin_start": 0.30000000000000004,
            "bin_end": 0.4,
            "count": 0
           },
           {
            "bin_start": 0.4,
            "bin_end": 0.5,
            "count": 0
           },
           {
            "bin_start": 0.5,
            "bin_end": 0.6000000000000001,
            "count": 10
           },
           {
            "bin_start": 0.6000000000000001,
            "bin_end": 0.7000000000000001,
            "count": 0
           },
           {
            "bin_start": 0.7000000000000001,
            "bin_end": 0.8,
            "count": 0
           },
           {
            "bin_start": 0.8,
            "bin_end": 0.9,
            "count": 0
           },
           {
            "bin_start": 0.9,
            "bin_end": 1,
            "count": 0
           }
          ]
         }
        },
        {
         "name": "rank",
         "dtype": "object",
         "stats": {
          "unique_count": 10,
          "nan_count": 0,
          "categories": [
           {
            "name": "1",
            "count": 1
           },
           {
            "name": "2",
            "count": 1
           },
           {
            "name": "8 others",
            "count": 8
           }
          ]
         }
        },
        {
         "name": "_deepnote_index_column",
         "dtype": "int64"
        }
       ],
       "rows": [
        {
         "user_id": "b80344d063b5ccb3212f76538f3d9e43d87dca9e",
         "song_id": "SOVYIYI12A8C138D88",
         "song_display_name": "He Doesn't Know Why - Fleet Foxes",
         "score": 0.5,
         "rank": "1",
         "_deepnote_index_column": 0
        },
        {
         "user_id": "b80344d063b5ccb3212f76538f3d9e43d87dca9e",
         "song_id": "SOQJLDY12AAF3B456D",
         "song_display_name": "Love Song For No One - John Mayer",
         "score": 0.5,
         "rank": "2",
         "_deepnote_index_column": 1
        },
        {
         "user_id": "b80344d063b5ccb3212f76538f3d9e43d87dca9e",
         "song_id": "SOXRXDG12A8C131DE5",
         "song_display_name": "City Love - John Mayer",
         "score": 0.5,
         "rank": "3",
         "_deepnote_index_column": 2
        },
        {
         "user_id": "b80344d063b5ccb3212f76538f3d9e43d87dca9e",
         "song_id": "SOJPFQG12A58A7833A",
         "song_display_name": "Clarity - John Mayer",
         "score": 0.5,
         "rank": "4",
         "_deepnote_index_column": 3
        },
        {
         "user_id": "b80344d063b5ccb3212f76538f3d9e43d87dca9e",
         "song_id": "SOZOBWN12A8C130999",
         "song_display_name": "Holes To Heaven - Jack Johnson",
         "score": 0.5,
         "rank": "5",
         "_deepnote_index_column": 4
        },
        {
         "user_id": "b80344d063b5ccb3212f76538f3d9e43d87dca9e",
         "song_id": "SONSAEZ12A8C138D7A",
         "song_display_name": "Ragged Wood - Fleet Foxes",
         "score": 0.5,
         "rank": "6",
         "_deepnote_index_column": 5
        },
        {
         "user_id": "b80344d063b5ccb3212f76538f3d9e43d87dca9e",
         "song_id": "SOIYTOA12A6D4F9A23",
         "song_display_name": "Let It Be Sung - Jack Johnson / Matt Costa / Zach Gill / Dan Lebowitz / Steve Adams",
         "score": 0.5,
         "rank": "7",
         "_deepnote_index_column": 6
        },
        {
         "user_id": "b80344d063b5ccb3212f76538f3d9e43d87dca9e",
         "song_id": "SOPCVQE12AC468AF36",
         "song_display_name": "Country Road - Jack Johnson / Paula Fuga",
         "score": 0.5,
         "rank": "8",
         "_deepnote_index_column": 7
        },
        {
         "user_id": "b80344d063b5ccb3212f76538f3d9e43d87dca9e",
         "song_id": "SOUKXIN12A8C133C7F",
         "song_display_name": "Drive - Incubus",
         "score": 0.5,
         "rank": "9",
         "_deepnote_index_column": 8
        },
        {
         "user_id": "b80344d063b5ccb3212f76538f3d9e43d87dca9e",
         "song_id": "SODDNQT12A6D4F5F7E",
         "song_display_name": "Apuesta Por El Rock 'N' Roll - Héroes del Silencio",
         "score": 0.5,
         "rank": "10",
         "_deepnote_index_column": 9
        }
       ]
      },
      "text/plain": "                                    user_id             song_id  \\\n0  b80344d063b5ccb3212f76538f3d9e43d87dca9e  SOVYIYI12A8C138D88   \n1  b80344d063b5ccb3212f76538f3d9e43d87dca9e  SOQJLDY12AAF3B456D   \n2  b80344d063b5ccb3212f76538f3d9e43d87dca9e  SOXRXDG12A8C131DE5   \n3  b80344d063b5ccb3212f76538f3d9e43d87dca9e  SOJPFQG12A58A7833A   \n4  b80344d063b5ccb3212f76538f3d9e43d87dca9e  SOZOBWN12A8C130999   \n5  b80344d063b5ccb3212f76538f3d9e43d87dca9e  SONSAEZ12A8C138D7A   \n6  b80344d063b5ccb3212f76538f3d9e43d87dca9e  SOIYTOA12A6D4F9A23   \n7  b80344d063b5ccb3212f76538f3d9e43d87dca9e  SOPCVQE12AC468AF36   \n8  b80344d063b5ccb3212f76538f3d9e43d87dca9e  SOUKXIN12A8C133C7F   \n9  b80344d063b5ccb3212f76538f3d9e43d87dca9e  SODDNQT12A6D4F5F7E   \n\n                                   song_display_name  score rank  \n0                  He Doesn't Know Why - Fleet Foxes    0.5    1  \n1                  Love Song For No One - John Mayer    0.5    2  \n2                             City Love - John Mayer    0.5    3  \n3                               Clarity - John Mayer    0.5    4  \n4                     Holes To Heaven - Jack Johnson    0.5    5  \n5                          Ragged Wood - Fleet Foxes    0.5    6  \n6  Let It Be Sung - Jack Johnson / Matt Costa / Z...    0.5    7  \n7           Country Road - Jack Johnson / Paula Fuga    0.5    8  \n8                                    Drive - Incubus    0.5    9  \n9  Apuesta Por El Rock 'N' Roll - Héroes del Sile...    0.5   10  ",
      "text/html": "<div>\n<style scoped>\n    .dataframe tbody tr th:only-of-type {\n        vertical-align: middle;\n    }\n\n    .dataframe tbody tr th {\n        vertical-align: top;\n    }\n\n    .dataframe thead th {\n        text-align: right;\n    }\n</style>\n<table border=\"1\" class=\"dataframe\">\n  <thead>\n    <tr style=\"text-align: right;\">\n      <th></th>\n      <th>user_id</th>\n      <th>song_id</th>\n      <th>song_display_name</th>\n      <th>score</th>\n      <th>rank</th>\n    </tr>\n  </thead>\n  <tbody>\n    <tr>\n      <th>0</th>\n      <td>b80344d063b5ccb3212f76538f3d9e43d87dca9e</td>\n      <td>SOVYIYI12A8C138D88</td>\n      <td>He Doesn't Know Why - Fleet Foxes</td>\n      <td>0.5</td>\n      <td>1</td>\n    </tr>\n    <tr>\n      <th>1</th>\n      <td>b80344d063b5ccb3212f76538f3d9e43d87dca9e</td>\n      <td>SOQJLDY12AAF3B456D</td>\n      <td>Love Song For No One - John Mayer</td>\n      <td>0.5</td>\n      <td>2</td>\n    </tr>\n    <tr>\n      <th>2</th>\n      <td>b80344d063b5ccb3212f76538f3d9e43d87dca9e</td>\n      <td>SOXRXDG12A8C131DE5</td>\n      <td>City Love - John Mayer</td>\n      <td>0.5</td>\n      <td>3</td>\n    </tr>\n    <tr>\n      <th>3</th>\n      <td>b80344d063b5ccb3212f76538f3d9e43d87dca9e</td>\n      <td>SOJPFQG12A58A7833A</td>\n      <td>Clarity - John Mayer</td>\n      <td>0.5</td>\n      <td>4</td>\n    </tr>\n    <tr>\n      <th>4</th>\n      <td>b80344d063b5ccb3212f76538f3d9e43d87dca9e</td>\n      <td>SOZOBWN12A8C130999</td>\n      <td>Holes To Heaven - Jack Johnson</td>\n      <td>0.5</td>\n      <td>5</td>\n    </tr>\n    <tr>\n      <th>5</th>\n      <td>b80344d063b5ccb3212f76538f3d9e43d87dca9e</td>\n      <td>SONSAEZ12A8C138D7A</td>\n      <td>Ragged Wood - Fleet Foxes</td>\n      <td>0.5</td>\n      <td>6</td>\n    </tr>\n    <tr>\n      <th>6</th>\n      <td>b80344d063b5ccb3212f76538f3d9e43d87dca9e</td>\n      <td>SOIYTOA12A6D4F9A23</td>\n      <td>Let It Be Sung - Jack Johnson / Matt Costa / Z...</td>\n      <td>0.5</td>\n      <td>7</td>\n    </tr>\n    <tr>\n      <th>7</th>\n      <td>b80344d063b5ccb3212f76538f3d9e43d87dca9e</td>\n      <td>SOPCVQE12AC468AF36</td>\n      <td>Country Road - Jack Johnson / Paula Fuga</td>\n      <td>0.5</td>\n      <td>8</td>\n    </tr>\n    <tr>\n      <th>8</th>\n      <td>b80344d063b5ccb3212f76538f3d9e43d87dca9e</td>\n      <td>SOUKXIN12A8C133C7F</td>\n      <td>Drive - Incubus</td>\n      <td>0.5</td>\n      <td>9</td>\n    </tr>\n    <tr>\n      <th>9</th>\n      <td>b80344d063b5ccb3212f76538f3d9e43d87dca9e</td>\n      <td>SODDNQT12A6D4F5F7E</td>\n      <td>Apuesta Por El Rock 'N' Roll - Héroes del Sile...</td>\n      <td>0.5</td>\n      <td>10</td>\n    </tr>\n  </tbody>\n</table>\n</div>"
     },
     "metadata": {}
    }
   ],
   "execution_count": 79
  },
  {
   "cell_type": "markdown",
   "source": "# Recommendation using Nearest Neighbours",
   "metadata": {
    "cell_id": "5cd11d5f49de4efbb0a7417bae44d0b0",
    "tags": [],
    "deepnote_to_be_reexecuted": true,
    "source_hash": "b623e53d",
    "deepnote_cell_type": "markdown",
    "deepnote_cell_height": 82
   },
   "outputs": [],
   "execution_count": null
  },
  {
   "cell_type": "code",
   "source": "songs_cat_cols = [\"KeySignature\", \"Mode\", \"TimeSignature\"]\nsongs_num_cols = [\"Danceability\", \"Duration\", \"Tempo\"]",
   "metadata": {
    "cell_id": "dfbede5a593d408d8e594a075ccdb3c0",
    "tags": [],
    "deepnote_to_be_reexecuted": false,
    "source_hash": "309f0684",
    "execution_start": 1650078049544,
    "execution_millis": 3,
    "deepnote_cell_type": "code",
    "deepnote_cell_height": 99
   },
   "outputs": [],
   "execution_count": 177
  },
  {
   "cell_type": "code",
   "source": "from sklearn.model_selection import train_test_split\nsongs_df_train, songs_df_test = train_test_split(songs_csv_df,test_size=0.2,random_state=42)",
   "metadata": {
    "cell_id": "e8f5e736383941ad8efc9ee265a5a991",
    "tags": [],
    "deepnote_to_be_reexecuted": false,
    "source_hash": "86763702",
    "execution_start": 1650078063180,
    "execution_millis": 11,
    "deepnote_cell_type": "code",
    "deepnote_cell_height": 99
   },
   "outputs": [],
   "execution_count": 179
  },
  {
   "cell_type": "code",
   "source": "from sklearn.pipeline import Pipeline\nfrom sklearn.compose import ColumnTransformer\nfrom sklearn.preprocessing import OneHotEncoder\nfrom sklearn.preprocessing import StandardScaler\n\npipeline = ColumnTransformer([\n                              ('ohe_encoder', OneHotEncoder(handle_unknown = 'ignore'), songs_cat_cols),\n                              ('scaler', StandardScaler(), songs_num_cols)\n])",
   "metadata": {
    "cell_id": "b0cba36a9fc54c3a9c91268da3fa0e66",
    "tags": [],
    "deepnote_to_be_reexecuted": false,
    "source_hash": "beb70698",
    "execution_start": 1650078063195,
    "execution_millis": 2,
    "owner_user_id": "c02bddf9-4d23-4cb8-8332-d516eaac2776",
    "deepnote_cell_type": "code",
    "deepnote_cell_height": 225
   },
   "outputs": [],
   "execution_count": 180
  },
  {
   "cell_type": "code",
   "source": "from sklearn.neighbors import NearestNeighbors\n\ndata = pipeline.fit_transform(songs_csv_df)\n\nneigh = NearestNeighbors(n_neighbors=2)\nneigh.fit(data)\n\nprint(neigh.kneighbors(pipeline.transform(songs_df_test.head(1)), 4, return_distance=True))",
   "metadata": {
    "cell_id": "cae49944131b493bb56b05a1de85fe2d",
    "tags": [],
    "deepnote_to_be_reexecuted": false,
    "source_hash": "a072d3fb",
    "execution_start": 1650078063201,
    "execution_millis": 32,
    "deepnote_cell_type": "code",
    "deepnote_cell_height": 238
   },
   "outputs": [
    {
     "name": "stdout",
     "text": "(array([[0.        , 0.12098556, 0.1294099 , 0.18359538]]), array([[6252, 7501, 2604, 5933]]))\n",
     "output_type": "stream"
    }
   ],
   "execution_count": 181
  },
  {
   "cell_type": "code",
   "source": "def get_listened_songs_with_count(df_func, userId):\n  return df_func[(df_func['user_id'] == userId) & (df_func['listen_count']>0)]",
   "metadata": {
    "cell_id": "be914303482444e18b3c0d6dd3a155d7",
    "tags": [],
    "deepnote_to_be_reexecuted": false,
    "source_hash": "f692f34c",
    "execution_start": 1650078063233,
    "execution_millis": 3,
    "deepnote_cell_type": "code",
    "deepnote_cell_height": 99
   },
   "outputs": [],
   "execution_count": 182
  },
  {
   "cell_type": "code",
   "source": "songs_data_df",
   "metadata": {
    "cell_id": "cafad8f023034a3bb38767f89244af77",
    "tags": [],
    "deepnote_to_be_reexecuted": false,
    "source_hash": "9ccf9cef",
    "execution_start": 1650078063279,
    "execution_millis": 727,
    "deepnote_cell_type": "code",
    "deepnote_cell_height": 600
   },
   "outputs": [
    {
     "output_type": "execute_result",
     "execution_count": 183,
     "data": {
      "application/vnd.deepnote.dataframe.v3+json": {
       "column_count": 14,
       "row_count": 999056,
       "columns": [
        {
         "name": "track_id",
         "dtype": "object"
        },
        {
         "name": "title",
         "dtype": "object"
        },
        {
         "name": "song_id",
         "dtype": "object"
        },
        {
         "name": "release",
         "dtype": "object"
        },
        {
         "name": "artist_id",
         "dtype": "object"
        },
        {
         "name": "artist_mbid",
         "dtype": "object"
        },
        {
         "name": "artist_name",
         "dtype": "object"
        },
        {
         "name": "duration",
         "dtype": "float64"
        },
        {
         "name": "artist_familiarity",
         "dtype": "float64"
        },
        {
         "name": "artist_hotttnesss",
         "dtype": "float64"
        },
        {
         "name": "year",
         "dtype": "int64"
        },
        {
         "name": "track_7digitalid",
         "dtype": "int64"
        },
        {
         "name": "shs_perf",
         "dtype": "int64"
        },
        {
         "name": "shs_work",
         "dtype": "int64"
        },
        {
         "name": "_deepnote_index_column",
         "dtype": "int64"
        }
       ],
       "rows": [
        {
         "track_id": "TRMMMYQ128F932D901",
         "title": "Silent Night",
         "song_id": "SOQMMHC12AB0180CB8",
         "release": "Monster Ballads X-Mas",
         "artist_id": "ARYZTJS1187B98C555",
         "artist_mbid": "357ff05d-848a-44cf-b608-cb34b5701ae5",
         "artist_name": "Faster Pussy cat",
         "duration": 252.05506,
         "artist_familiarity": 0.649822100201,
         "artist_hotttnesss": 0.394031892714,
         "year": 2003,
         "track_7digitalid": 7032331,
         "shs_perf": -1,
         "shs_work": 0,
         "_deepnote_index_column": 0
        },
        {
         "track_id": "TRMMMKD128F425225D",
         "title": "Tanssi vaan",
         "song_id": "SOVFVAK12A8C1350D9",
         "release": "Karkuteillä",
         "artist_id": "ARMVN3U1187FB3A1EB",
         "artist_mbid": "8d7ef530-a6fd-4f8f-b2e2-74aec765e0f9",
         "artist_name": "Karkkiautomaatti",
         "duration": 156.55138,
         "artist_familiarity": 0.439603966677,
         "artist_hotttnesss": 0.356992107756,
         "year": 1995,
         "track_7digitalid": 1514808,
         "shs_perf": -1,
         "shs_work": 0,
         "_deepnote_index_column": 1
        },
        {
         "track_id": "TRMMMRX128F93187D9",
         "title": "No One Could Ever",
         "song_id": "SOGTUKN12AB017F4F1",
         "release": "Butter",
         "artist_id": "ARGEKB01187FB50750",
         "artist_mbid": "3d403d44-36ce-465c-ad43-ae877e65adc4",
         "artist_name": "Hudson Mohawke",
         "duration": 138.97098,
         "artist_familiarity": 0.643680572058,
         "artist_hotttnesss": 0.437503836595,
         "year": 2006,
         "track_7digitalid": 6945353,
         "shs_perf": -1,
         "shs_work": 0,
         "_deepnote_index_column": 2
        },
        {
         "track_id": "TRMMMCH128F425532C",
         "title": "Si Vos Querés",
         "song_id": "SOBNYVR12A8C13558C",
         "release": "De Culo",
         "artist_id": "ARNWYLR1187B9B2F9C",
         "artist_mbid": "12be7648-7094-495f-90e6-df4189d68615",
         "artist_name": "Yerba Brava",
         "duration": 145.05751,
         "artist_familiarity": 0.448501159656,
         "artist_hotttnesss": 0.372349068517,
         "year": 2003,
         "track_7digitalid": 2168257,
         "shs_perf": -1,
         "shs_work": 0,
         "_deepnote_index_column": 3
        },
        {
         "track_id": "TRMMMWA128F426B589",
         "title": "Tangle Of Aspens",
         "song_id": "SOHSBXH12A8C13B0DF",
         "release": "Rene Ablaze Presents Winter Sessions",
         "artist_id": "AREQDTE1269FB37231",
         "artist_mbid": "",
         "artist_name": "Der Mystic",
         "duration": 514.29832,
         "artist_familiarity": 0,
         "artist_hotttnesss": 0,
         "year": 0,
         "track_7digitalid": 2264873,
         "shs_perf": -1,
         "shs_work": 0,
         "_deepnote_index_column": 4
        },
        {
         "track_id": "TRMMMXN128F42936A5",
         "title": "Symphony No. 1 G minor \"Sinfonie Serieuse\"/Allegro con energia",
         "song_id": "SOZVAPQ12A8C13B63C",
         "release": "Berwald: Symphonies Nos. 1/2/3/4",
         "artist_id": "AR2NS5Y1187FB5879D",
         "artist_mbid": "d087b377-bab7-46c4-bd12-15debebb5d61",
         "artist_name": "David Montgomery",
         "duration": 816.53506,
         "artist_familiarity": 0.361286979628,
         "artist_hotttnesss": 0.109625847059,
         "year": 0,
         "track_7digitalid": 3360982,
         "shs_perf": -1,
         "shs_work": 0,
         "_deepnote_index_column": 5
        },
        {
         "track_id": "TRMMMLR128F1494097",
         "title": "We Have Got Love",
         "song_id": "SOQVRHI12A6D4FB2D7",
         "release": "Strictly The Best Vol. 34",
         "artist_id": "ARO41T51187FB397AB",
         "artist_mbid": "d2461c0a-5575-4425-a225-fce0180de3fd",
         "artist_name": "Sasha / Turbulence",
         "duration": 212.37506,
         "artist_familiarity": 0.692922730576,
         "artist_hotttnesss": 0.453731585999,
         "year": 0,
         "track_7digitalid": 552626,
         "shs_perf": -1,
         "shs_work": 0,
         "_deepnote_index_column": 6
        },
        {
         "track_id": "TRMMMBB12903CB7D21",
         "title": "2 Da Beat Ch'yall",
         "song_id": "SOEYRFT12AB018936C",
         "release": "Da Bomb",
         "artist_id": "AR3Z9WY1187FB4CDC2",
         "artist_mbid": "bf61e8ff-7621-4655-8ebd-68210645c5e9",
         "artist_name": "Kris Kross",
         "duration": 221.20444,
         "artist_familiarity": 0.588156187675,
         "artist_hotttnesss": 0.401092425177,
         "year": 1993,
         "track_7digitalid": 6435649,
         "shs_perf": -1,
         "shs_work": 0,
         "_deepnote_index_column": 7
        },
        {
         "track_id": "TRMMMHY12903CB53F1",
         "title": "Goodbye",
         "song_id": "SOPMIYT12A6D4F851E",
         "release": "Danny Boy",
         "artist_id": "ARA04401187B991E6E",
         "artist_mbid": "1a9bf859-1dc2-495b-9e7c-289be7731a9f",
         "artist_name": "Joseph Locke",
         "duration": 139.17995,
         "artist_familiarity": 0.408465463469,
         "artist_hotttnesss": 0.285901196045,
         "year": 0,
         "track_7digitalid": 8376489,
         "shs_perf": -1,
         "shs_work": 0,
         "_deepnote_index_column": 8
        },
        {
         "track_id": "TRMMMML128F4280EE9",
         "title": "Mama_ mama can't you see ?",
         "song_id": "SOJCFMH12A8C13B0C2",
         "release": "March to cadence with the US marines",
         "artist_id": "ARCVMYS12454A51E6E",
         "artist_mbid": "",
         "artist_name": "The Sun Harbor's Chorus-Documentary Recordings",
         "duration": 104.48934,
         "artist_familiarity": 0.41994127477,
         "artist_hotttnesss": 0.24913722954,
         "year": 0,
         "track_7digitalid": 1043208,
         "shs_perf": -1,
         "shs_work": 0,
         "_deepnote_index_column": 9
        }
       ]
      },
      "text/plain": "                  track_id                                title  \\\n0       TRMMMYQ128F932D901                         Silent Night   \n1       TRMMMKD128F425225D                          Tanssi vaan   \n2       TRMMMRX128F93187D9                    No One Could Ever   \n3       TRMMMCH128F425532C                        Si Vos Querés   \n4       TRMMMWA128F426B589                     Tangle Of Aspens   \n...                    ...                                  ...   \n999995  TRYYYUS12903CD2DF0                      O Samba Da Vida   \n999996  TRYYYJO128F426DA37                         Jago Chhadeo   \n999997  TRYYYMG128F4260ECA                              Novemba   \n999998  TRYYYDJ128F9310A21                              Faraday   \n999999  TRYYYVU12903CD01E3  Fernweh feat. Sektion Kuchikäschtli   \n\n                   song_id                               release  \\\n0       SOQMMHC12AB0180CB8                 Monster Ballads X-Mas   \n1       SOVFVAK12A8C1350D9                           Karkuteillä   \n2       SOGTUKN12AB017F4F1                                Butter   \n3       SOBNYVR12A8C13558C                               De Culo   \n4       SOHSBXH12A8C13B0DF  Rene Ablaze Presents Winter Sessions   \n...                    ...                                   ...   \n999995  SOTXAME12AB018F136                          Pacha V.I.P.   \n999996  SOXQYIQ12A8C137FBB              Naale Baba Lassi Pee Gya   \n999997  SOHODZI12A8C137BB3       Dub_Connected: electronic music   \n999998  SOLXGOR12A81C21EB7          The Trance Collection Vol. 2   \n999999  SOWXJXQ12AB0189F43                            So Oder So   \n\n                 artist_id                           artist_mbid  \\\n0       ARYZTJS1187B98C555  357ff05d-848a-44cf-b608-cb34b5701ae5   \n1       ARMVN3U1187FB3A1EB  8d7ef530-a6fd-4f8f-b2e2-74aec765e0f9   \n2       ARGEKB01187FB50750  3d403d44-36ce-465c-ad43-ae877e65adc4   \n3       ARNWYLR1187B9B2F9C  12be7648-7094-495f-90e6-df4189d68615   \n4       AREQDTE1269FB37231                                         \n...                    ...                                   ...   \n999995  AR7Z4J81187FB3FC59  9d50cb20-7e42-45cc-b0dd-154c3e92a577   \n999996  ART5FZD1187B9A7FCF  2357c400-9109-42b6-b3fe-9e2d9f8e3872   \n999997  ARZ3R6M1187B9AF750  8b97e9c8-61f5-4615-9a96-276f24204e34   \n999998  ARCMCOK1187B9B1073  4ac5f3de-c5ad-475e-ad50-41f1ef9dba20   \n999999  AR7PLM21187B990D08  3af2b07e-c91c-4160-9bda-f0b9e3144ed3   \n\n             artist_name   duration  artist_familiarity  artist_hotttnesss  \\\n0       Faster Pussy cat  252.05506            0.649822           0.394032   \n1       Karkkiautomaatti  156.55138            0.439604           0.356992   \n2         Hudson Mohawke  138.97098            0.643681           0.437504   \n3            Yerba Brava  145.05751            0.448501           0.372349   \n4             Der Mystic  514.29832            0.000000           0.000000   \n...                  ...        ...                 ...                ...   \n999995      Kiko Navarro  217.44281            0.528617           0.411595   \n999996     Kuldeep Manak  244.16608            0.401500           0.374866   \n999997    Gabriel Le Mar  553.03791            0.556918           0.336914   \n999998             Elude  484.51873            0.403668           0.256935   \n999999             Texta  295.07873            0.552977           0.454869   \n\n        year  track_7digitalid  shs_perf  shs_work  \n0       2003           7032331        -1         0  \n1       1995           1514808        -1         0  \n2       2006           6945353        -1         0  \n3       2003           2168257        -1         0  \n4          0           2264873        -1         0  \n...      ...               ...       ...       ...  \n999995     0           7522478        -1         0  \n999996     0           1632096        -1         0  \n999997     0           2219291        -1         0  \n999998     0           5472456        -1         0  \n999999  2004           8486723        -1         0  \n\n[999056 rows x 14 columns]",
      "text/html": "<div>\n<style scoped>\n    .dataframe tbody tr th:only-of-type {\n        vertical-align: middle;\n    }\n\n    .dataframe tbody tr th {\n        vertical-align: top;\n    }\n\n    .dataframe thead th {\n        text-align: right;\n    }\n</style>\n<table border=\"1\" class=\"dataframe\">\n  <thead>\n    <tr style=\"text-align: right;\">\n      <th></th>\n      <th>track_id</th>\n      <th>title</th>\n      <th>song_id</th>\n      <th>release</th>\n      <th>artist_id</th>\n      <th>artist_mbid</th>\n      <th>artist_name</th>\n      <th>duration</th>\n      <th>artist_familiarity</th>\n      <th>artist_hotttnesss</th>\n      <th>year</th>\n      <th>track_7digitalid</th>\n      <th>shs_perf</th>\n      <th>shs_work</th>\n    </tr>\n  </thead>\n  <tbody>\n    <tr>\n      <th>0</th>\n      <td>TRMMMYQ128F932D901</td>\n      <td>Silent Night</td>\n      <td>SOQMMHC12AB0180CB8</td>\n      <td>Monster Ballads X-Mas</td>\n      <td>ARYZTJS1187B98C555</td>\n      <td>357ff05d-848a-44cf-b608-cb34b5701ae5</td>\n      <td>Faster Pussy cat</td>\n      <td>252.05506</td>\n      <td>0.649822</td>\n      <td>0.394032</td>\n      <td>2003</td>\n      <td>7032331</td>\n      <td>-1</td>\n      <td>0</td>\n    </tr>\n    <tr>\n      <th>1</th>\n      <td>TRMMMKD128F425225D</td>\n      <td>Tanssi vaan</td>\n      <td>SOVFVAK12A8C1350D9</td>\n      <td>Karkuteillä</td>\n      <td>ARMVN3U1187FB3A1EB</td>\n      <td>8d7ef530-a6fd-4f8f-b2e2-74aec765e0f9</td>\n      <td>Karkkiautomaatti</td>\n      <td>156.55138</td>\n      <td>0.439604</td>\n      <td>0.356992</td>\n      <td>1995</td>\n      <td>1514808</td>\n      <td>-1</td>\n      <td>0</td>\n    </tr>\n    <tr>\n      <th>2</th>\n      <td>TRMMMRX128F93187D9</td>\n      <td>No One Could Ever</td>\n      <td>SOGTUKN12AB017F4F1</td>\n      <td>Butter</td>\n      <td>ARGEKB01187FB50750</td>\n      <td>3d403d44-36ce-465c-ad43-ae877e65adc4</td>\n      <td>Hudson Mohawke</td>\n      <td>138.97098</td>\n      <td>0.643681</td>\n      <td>0.437504</td>\n      <td>2006</td>\n      <td>6945353</td>\n      <td>-1</td>\n      <td>0</td>\n    </tr>\n    <tr>\n      <th>3</th>\n      <td>TRMMMCH128F425532C</td>\n      <td>Si Vos Querés</td>\n      <td>SOBNYVR12A8C13558C</td>\n      <td>De Culo</td>\n      <td>ARNWYLR1187B9B2F9C</td>\n      <td>12be7648-7094-495f-90e6-df4189d68615</td>\n      <td>Yerba Brava</td>\n      <td>145.05751</td>\n      <td>0.448501</td>\n      <td>0.372349</td>\n      <td>2003</td>\n      <td>2168257</td>\n      <td>-1</td>\n      <td>0</td>\n    </tr>\n    <tr>\n      <th>4</th>\n      <td>TRMMMWA128F426B589</td>\n      <td>Tangle Of Aspens</td>\n      <td>SOHSBXH12A8C13B0DF</td>\n      <td>Rene Ablaze Presents Winter Sessions</td>\n      <td>AREQDTE1269FB37231</td>\n      <td></td>\n      <td>Der Mystic</td>\n      <td>514.29832</td>\n      <td>0.000000</td>\n      <td>0.000000</td>\n      <td>0</td>\n      <td>2264873</td>\n      <td>-1</td>\n      <td>0</td>\n    </tr>\n    <tr>\n      <th>...</th>\n      <td>...</td>\n      <td>...</td>\n      <td>...</td>\n      <td>...</td>\n      <td>...</td>\n      <td>...</td>\n      <td>...</td>\n      <td>...</td>\n      <td>...</td>\n      <td>...</td>\n      <td>...</td>\n      <td>...</td>\n      <td>...</td>\n      <td>...</td>\n    </tr>\n    <tr>\n      <th>999995</th>\n      <td>TRYYYUS12903CD2DF0</td>\n      <td>O Samba Da Vida</td>\n      <td>SOTXAME12AB018F136</td>\n      <td>Pacha V.I.P.</td>\n      <td>AR7Z4J81187FB3FC59</td>\n      <td>9d50cb20-7e42-45cc-b0dd-154c3e92a577</td>\n      <td>Kiko Navarro</td>\n      <td>217.44281</td>\n      <td>0.528617</td>\n      <td>0.411595</td>\n      <td>0</td>\n      <td>7522478</td>\n      <td>-1</td>\n      <td>0</td>\n    </tr>\n    <tr>\n      <th>999996</th>\n      <td>TRYYYJO128F426DA37</td>\n      <td>Jago Chhadeo</td>\n      <td>SOXQYIQ12A8C137FBB</td>\n      <td>Naale Baba Lassi Pee Gya</td>\n      <td>ART5FZD1187B9A7FCF</td>\n      <td>2357c400-9109-42b6-b3fe-9e2d9f8e3872</td>\n      <td>Kuldeep Manak</td>\n      <td>244.16608</td>\n      <td>0.401500</td>\n      <td>0.374866</td>\n      <td>0</td>\n      <td>1632096</td>\n      <td>-1</td>\n      <td>0</td>\n    </tr>\n    <tr>\n      <th>999997</th>\n      <td>TRYYYMG128F4260ECA</td>\n      <td>Novemba</td>\n      <td>SOHODZI12A8C137BB3</td>\n      <td>Dub_Connected: electronic music</td>\n      <td>ARZ3R6M1187B9AF750</td>\n      <td>8b97e9c8-61f5-4615-9a96-276f24204e34</td>\n      <td>Gabriel Le Mar</td>\n      <td>553.03791</td>\n      <td>0.556918</td>\n      <td>0.336914</td>\n      <td>0</td>\n      <td>2219291</td>\n      <td>-1</td>\n      <td>0</td>\n    </tr>\n    <tr>\n      <th>999998</th>\n      <td>TRYYYDJ128F9310A21</td>\n      <td>Faraday</td>\n      <td>SOLXGOR12A81C21EB7</td>\n      <td>The Trance Collection Vol. 2</td>\n      <td>ARCMCOK1187B9B1073</td>\n      <td>4ac5f3de-c5ad-475e-ad50-41f1ef9dba20</td>\n      <td>Elude</td>\n      <td>484.51873</td>\n      <td>0.403668</td>\n      <td>0.256935</td>\n      <td>0</td>\n      <td>5472456</td>\n      <td>-1</td>\n      <td>0</td>\n    </tr>\n    <tr>\n      <th>999999</th>\n      <td>TRYYYVU12903CD01E3</td>\n      <td>Fernweh feat. Sektion Kuchikäschtli</td>\n      <td>SOWXJXQ12AB0189F43</td>\n      <td>So Oder So</td>\n      <td>AR7PLM21187B990D08</td>\n      <td>3af2b07e-c91c-4160-9bda-f0b9e3144ed3</td>\n      <td>Texta</td>\n      <td>295.07873</td>\n      <td>0.552977</td>\n      <td>0.454869</td>\n      <td>2004</td>\n      <td>8486723</td>\n      <td>-1</td>\n      <td>0</td>\n    </tr>\n  </tbody>\n</table>\n<p>999056 rows × 14 columns</p>\n</div>"
     },
     "metadata": {}
    }
   ],
   "execution_count": 183
  },
  {
   "cell_type": "code",
   "source": "triplets_train, triplets_test = train_test_split(triplets_df,test_size=0.2,random_state=42, stratify=triplets_df['user_id'])",
   "metadata": {
    "cell_id": "39fa7efd0f584e0e92eff8b1383032f7",
    "tags": [],
    "deepnote_to_be_reexecuted": false,
    "source_hash": "be5a5282",
    "execution_start": 1650078064041,
    "execution_millis": 1778,
    "deepnote_cell_type": "code",
    "deepnote_cell_height": 81
   },
   "outputs": [],
   "execution_count": 184
  },
  {
   "cell_type": "code",
   "source": "def get_song_predictions(user_id):\n    listened_songs_with_count = get_listened_songs_with_count(triplets_train, user_id)\n\n    pred_songs_with_weight=[]\n    for index, row in listened_songs_with_count.iterrows():\n        song_row = songs_csv_df[songs_csv_df['SongID']==row[\"song_id\"]]\n        if len(song_row) == 0:\n            continue\n        neighbours_predict = (neigh.kneighbors(pipeline.transform(song_row), 11, return_distance=True))\n\n        prediction_indices = neighbours_predict[1][0]\n        prediction_distances = neighbours_predict[0][0]\n        for i in range(len(prediction_indices)):\n            if prediction_distances[i]>0:\n                pred_songs_with_weight.append((songs_csv_df.iloc[prediction_indices[i]]['SongID'], row['listen_count']/prediction_distances[i]))\n\n    pred_songs_with_weight.sort(key = lambda x: -x[1])\n    listened_songs = listened_songs_with_count['song_id'].values\n\n    df = pandas.DataFrame(columns=['user_id', 'song_id', 'song_display_name', 'score'])\n    for song_id, weight in pred_songs_with_weight:\n        #if song_id in listened_songs:\n            #continue\n        song_info_df = songs_data_df.loc[songs_data_df['song_id'] == song_id]\n        song_display_name = (song_info_df['title'] + ' - ' + song_info_df['artist_name']).iloc[0]\n        df.loc[len(df)] = [user_id, song_id, song_display_name, weight]\n\n    return df",
   "metadata": {
    "cell_id": "ff742e4e6708413584d47e98cf2b5a39",
    "tags": [],
    "deepnote_to_be_reexecuted": false,
    "source_hash": "3bfb6c72",
    "execution_start": 1650078166483,
    "execution_millis": 1,
    "deepnote_cell_type": "code",
    "deepnote_cell_height": 567
   },
   "outputs": [],
   "execution_count": 190
  },
  {
   "cell_type": "code",
   "source": "user_id = \"b64cdd1a0bd907e5e00b39e345194768e330d652\"\ndisplay(get_song_predictions(user_id))\nprint(triplets_test[triplets_test['user_id'] == user_id]['song_id'].to_numpy())",
   "metadata": {
    "cell_id": "e00acf7202214eb5b27c593db037304d",
    "tags": [],
    "deepnote_to_be_reexecuted": false,
    "source_hash": "f2698458",
    "execution_start": 1650078065909,
    "execution_millis": 3129,
    "deepnote_cell_type": "code",
    "deepnote_cell_height": 258
   },
   "outputs": [
    {
     "data": {
      "text/plain": "                                     user_id             song_id  \\\n0   b64cdd1a0bd907e5e00b39e345194768e330d652  SOZNZIN12A6701E95F   \n1   b64cdd1a0bd907e5e00b39e345194768e330d652  SONOQCH12A6D4FE0EE   \n2   b64cdd1a0bd907e5e00b39e345194768e330d652  SOSIANM12AB018CC80   \n3   b64cdd1a0bd907e5e00b39e345194768e330d652  SOJHJKZ12AB0182AA2   \n4   b64cdd1a0bd907e5e00b39e345194768e330d652  SOPJSAG12AC468ADAF   \n5   b64cdd1a0bd907e5e00b39e345194768e330d652  SOJRFYT12A6D4F9972   \n6   b64cdd1a0bd907e5e00b39e345194768e330d652  SOYEUES12AB0187F14   \n7   b64cdd1a0bd907e5e00b39e345194768e330d652  SOYOZCL12AB0189C16   \n8   b64cdd1a0bd907e5e00b39e345194768e330d652  SOLZCZD12A8C13833B   \n9   b64cdd1a0bd907e5e00b39e345194768e330d652  SOIMZSM12AB0188CB8   \n10  b64cdd1a0bd907e5e00b39e345194768e330d652  SOFSTCX12A8C139C09   \n11  b64cdd1a0bd907e5e00b39e345194768e330d652  SOAFJWE12AB01837B3   \n12  b64cdd1a0bd907e5e00b39e345194768e330d652  SOKHRWE12A6D4F6BE7   \n13  b64cdd1a0bd907e5e00b39e345194768e330d652  SOZKXKY12AB018039F   \n14  b64cdd1a0bd907e5e00b39e345194768e330d652  SOXXWCR12A58A7D4FA   \n15  b64cdd1a0bd907e5e00b39e345194768e330d652  SONCELS12A58A7D2A7   \n16  b64cdd1a0bd907e5e00b39e345194768e330d652  SOXGKJJ12AB0183C53   \n17  b64cdd1a0bd907e5e00b39e345194768e330d652  SOQCQNU12A8C138694   \n18  b64cdd1a0bd907e5e00b39e345194768e330d652  SOCBAQW12A58A780A5   \n19  b64cdd1a0bd907e5e00b39e345194768e330d652  SOPSOHL12AB0185A0C   \n20  b64cdd1a0bd907e5e00b39e345194768e330d652  SOVKXYA12AB0188679   \n21  b64cdd1a0bd907e5e00b39e345194768e330d652  SOBXWEW12AB017FB9B   \n22  b64cdd1a0bd907e5e00b39e345194768e330d652  SOFOYJY12A679D30E3   \n23  b64cdd1a0bd907e5e00b39e345194768e330d652  SOIAWUS12AB0187B0B   \n24  b64cdd1a0bd907e5e00b39e345194768e330d652  SOSJVGP12AB0185B95   \n25  b64cdd1a0bd907e5e00b39e345194768e330d652  SOBMUYO12AB0183BAC   \n26  b64cdd1a0bd907e5e00b39e345194768e330d652  SOFPXNL12AB018498A   \n27  b64cdd1a0bd907e5e00b39e345194768e330d652  SOEDFBN12AC9072EFE   \n28  b64cdd1a0bd907e5e00b39e345194768e330d652  SOGXMVM12A8C130C02   \n29  b64cdd1a0bd907e5e00b39e345194768e330d652  SOLQVLD12A58A7610B   \n\n                                    song_display_name      score  \n0                       Janie's Got A Gun - Aerosmith  36.035810  \n1                     Walk With Me - Angélla Christie  24.214133  \n2       Only Human - Usher Featuring The Nu Beginning  18.862833  \n3                             Les choses - Edgar Bori  17.530574  \n4             Stand Up and Praise Him - Vickie Winans  14.534120  \n5           I Cannot Believe It's True - Phil Collins  13.221819  \n6                    Underlying Lies - Scott Matthews  12.495640  \n7   Heart it Races (Frank Tetaz Remix) - Architect...  11.500072  \n8          Baños De Budapest (Extended Remix) - Hevia  10.972725  \n9                                Time Will Tell - Ice  10.433003  \n10                        Hesitation Blues - Hot Tuna   6.280516  \n11                         Come With Me - Tania Maria   6.127378  \n12           Cuando Seolvida El Amor - Paquito Guzman   5.632626  \n13                                    Wave - Carl Doy   4.933982  \n14  God Rest Ye Merry Gentlemen (World) - R. Carlo...   3.230782  \n15  No Ordinary Love (Remastered LP Version) - Def...   2.234310  \n16           Bop Till You Drop - Michael Stanley Band   2.200010  \n17                He Wasn't Man Enough - Toni Braxton   2.194605  \n18             Money Money Money - Top Of The Poppers   2.171583  \n19                    Goodnight Irene - Kingston Trio   2.141565  \n20                    Tras La Reja - Orquesta Sublime   2.070626  \n21                                  Rebelion - Juanes   2.055508  \n22                              On The Boards - Taste   1.973219  \n23                     Sample Track 11 - Simon Harris   1.944934  \n24                     Church Hangover - George Lopez   1.857642  \n25  Quand j'improvise sur mon piano - Jacques Higelin   1.827038  \n26                            Juke Appeal - DJ Rashad   1.741911  \n27            I'm Gonna Take My Time - Anthony Watson   1.534360  \n28                             Susan Said - David Tao   1.299788  \n29                     Secret Handshakes - The Ataris   1.250652  ",
      "text/html": "<div>\n<style scoped>\n    .dataframe tbody tr th:only-of-type {\n        vertical-align: middle;\n    }\n\n    .dataframe tbody tr th {\n        vertical-align: top;\n    }\n\n    .dataframe thead th {\n        text-align: right;\n    }\n</style>\n<table border=\"1\" class=\"dataframe\">\n  <thead>\n    <tr style=\"text-align: right;\">\n      <th></th>\n      <th>user_id</th>\n      <th>song_id</th>\n      <th>song_display_name</th>\n      <th>score</th>\n    </tr>\n  </thead>\n  <tbody>\n    <tr>\n      <th>0</th>\n      <td>b64cdd1a0bd907e5e00b39e345194768e330d652</td>\n      <td>SOZNZIN12A6701E95F</td>\n      <td>Janie's Got A Gun - Aerosmith</td>\n      <td>36.035810</td>\n    </tr>\n    <tr>\n      <th>1</th>\n      <td>b64cdd1a0bd907e5e00b39e345194768e330d652</td>\n      <td>SONOQCH12A6D4FE0EE</td>\n      <td>Walk With Me - Angélla Christie</td>\n      <td>24.214133</td>\n    </tr>\n    <tr>\n      <th>2</th>\n      <td>b64cdd1a0bd907e5e00b39e345194768e330d652</td>\n      <td>SOSIANM12AB018CC80</td>\n      <td>Only Human - Usher Featuring The Nu Beginning</td>\n      <td>18.862833</td>\n    </tr>\n    <tr>\n      <th>3</th>\n      <td>b64cdd1a0bd907e5e00b39e345194768e330d652</td>\n      <td>SOJHJKZ12AB0182AA2</td>\n      <td>Les choses - Edgar Bori</td>\n      <td>17.530574</td>\n    </tr>\n    <tr>\n      <th>4</th>\n      <td>b64cdd1a0bd907e5e00b39e345194768e330d652</td>\n      <td>SOPJSAG12AC468ADAF</td>\n      <td>Stand Up and Praise Him - Vickie Winans</td>\n      <td>14.534120</td>\n    </tr>\n    <tr>\n      <th>5</th>\n      <td>b64cdd1a0bd907e5e00b39e345194768e330d652</td>\n      <td>SOJRFYT12A6D4F9972</td>\n      <td>I Cannot Believe It's True - Phil Collins</td>\n      <td>13.221819</td>\n    </tr>\n    <tr>\n      <th>6</th>\n      <td>b64cdd1a0bd907e5e00b39e345194768e330d652</td>\n      <td>SOYEUES12AB0187F14</td>\n      <td>Underlying Lies - Scott Matthews</td>\n      <td>12.495640</td>\n    </tr>\n    <tr>\n      <th>7</th>\n      <td>b64cdd1a0bd907e5e00b39e345194768e330d652</td>\n      <td>SOYOZCL12AB0189C16</td>\n      <td>Heart it Races (Frank Tetaz Remix) - Architect...</td>\n      <td>11.500072</td>\n    </tr>\n    <tr>\n      <th>8</th>\n      <td>b64cdd1a0bd907e5e00b39e345194768e330d652</td>\n      <td>SOLZCZD12A8C13833B</td>\n      <td>Baños De Budapest (Extended Remix) - Hevia</td>\n      <td>10.972725</td>\n    </tr>\n    <tr>\n      <th>9</th>\n      <td>b64cdd1a0bd907e5e00b39e345194768e330d652</td>\n      <td>SOIMZSM12AB0188CB8</td>\n      <td>Time Will Tell - Ice</td>\n      <td>10.433003</td>\n    </tr>\n    <tr>\n      <th>10</th>\n      <td>b64cdd1a0bd907e5e00b39e345194768e330d652</td>\n      <td>SOFSTCX12A8C139C09</td>\n      <td>Hesitation Blues - Hot Tuna</td>\n      <td>6.280516</td>\n    </tr>\n    <tr>\n      <th>11</th>\n      <td>b64cdd1a0bd907e5e00b39e345194768e330d652</td>\n      <td>SOAFJWE12AB01837B3</td>\n      <td>Come With Me - Tania Maria</td>\n      <td>6.127378</td>\n    </tr>\n    <tr>\n      <th>12</th>\n      <td>b64cdd1a0bd907e5e00b39e345194768e330d652</td>\n      <td>SOKHRWE12A6D4F6BE7</td>\n      <td>Cuando Seolvida El Amor - Paquito Guzman</td>\n      <td>5.632626</td>\n    </tr>\n    <tr>\n      <th>13</th>\n      <td>b64cdd1a0bd907e5e00b39e345194768e330d652</td>\n      <td>SOZKXKY12AB018039F</td>\n      <td>Wave - Carl Doy</td>\n      <td>4.933982</td>\n    </tr>\n    <tr>\n      <th>14</th>\n      <td>b64cdd1a0bd907e5e00b39e345194768e330d652</td>\n      <td>SOXXWCR12A58A7D4FA</td>\n      <td>God Rest Ye Merry Gentlemen (World) - R. Carlo...</td>\n      <td>3.230782</td>\n    </tr>\n    <tr>\n      <th>15</th>\n      <td>b64cdd1a0bd907e5e00b39e345194768e330d652</td>\n      <td>SONCELS12A58A7D2A7</td>\n      <td>No Ordinary Love (Remastered LP Version) - Def...</td>\n      <td>2.234310</td>\n    </tr>\n    <tr>\n      <th>16</th>\n      <td>b64cdd1a0bd907e5e00b39e345194768e330d652</td>\n      <td>SOXGKJJ12AB0183C53</td>\n      <td>Bop Till You Drop - Michael Stanley Band</td>\n      <td>2.200010</td>\n    </tr>\n    <tr>\n      <th>17</th>\n      <td>b64cdd1a0bd907e5e00b39e345194768e330d652</td>\n      <td>SOQCQNU12A8C138694</td>\n      <td>He Wasn't Man Enough - Toni Braxton</td>\n      <td>2.194605</td>\n    </tr>\n    <tr>\n      <th>18</th>\n      <td>b64cdd1a0bd907e5e00b39e345194768e330d652</td>\n      <td>SOCBAQW12A58A780A5</td>\n      <td>Money Money Money - Top Of The Poppers</td>\n      <td>2.171583</td>\n    </tr>\n    <tr>\n      <th>19</th>\n      <td>b64cdd1a0bd907e5e00b39e345194768e330d652</td>\n      <td>SOPSOHL12AB0185A0C</td>\n      <td>Goodnight Irene - Kingston Trio</td>\n      <td>2.141565</td>\n    </tr>\n    <tr>\n      <th>20</th>\n      <td>b64cdd1a0bd907e5e00b39e345194768e330d652</td>\n      <td>SOVKXYA12AB0188679</td>\n      <td>Tras La Reja - Orquesta Sublime</td>\n      <td>2.070626</td>\n    </tr>\n    <tr>\n      <th>21</th>\n      <td>b64cdd1a0bd907e5e00b39e345194768e330d652</td>\n      <td>SOBXWEW12AB017FB9B</td>\n      <td>Rebelion - Juanes</td>\n      <td>2.055508</td>\n    </tr>\n    <tr>\n      <th>22</th>\n      <td>b64cdd1a0bd907e5e00b39e345194768e330d652</td>\n      <td>SOFOYJY12A679D30E3</td>\n      <td>On The Boards - Taste</td>\n      <td>1.973219</td>\n    </tr>\n    <tr>\n      <th>23</th>\n      <td>b64cdd1a0bd907e5e00b39e345194768e330d652</td>\n      <td>SOIAWUS12AB0187B0B</td>\n      <td>Sample Track 11 - Simon Harris</td>\n      <td>1.944934</td>\n    </tr>\n    <tr>\n      <th>24</th>\n      <td>b64cdd1a0bd907e5e00b39e345194768e330d652</td>\n      <td>SOSJVGP12AB0185B95</td>\n      <td>Church Hangover - George Lopez</td>\n      <td>1.857642</td>\n    </tr>\n    <tr>\n      <th>25</th>\n      <td>b64cdd1a0bd907e5e00b39e345194768e330d652</td>\n      <td>SOBMUYO12AB0183BAC</td>\n      <td>Quand j'improvise sur mon piano - Jacques Higelin</td>\n      <td>1.827038</td>\n    </tr>\n    <tr>\n      <th>26</th>\n      <td>b64cdd1a0bd907e5e00b39e345194768e330d652</td>\n      <td>SOFPXNL12AB018498A</td>\n      <td>Juke Appeal - DJ Rashad</td>\n      <td>1.741911</td>\n    </tr>\n    <tr>\n      <th>27</th>\n      <td>b64cdd1a0bd907e5e00b39e345194768e330d652</td>\n      <td>SOEDFBN12AC9072EFE</td>\n      <td>I'm Gonna Take My Time - Anthony Watson</td>\n      <td>1.534360</td>\n    </tr>\n    <tr>\n      <th>28</th>\n      <td>b64cdd1a0bd907e5e00b39e345194768e330d652</td>\n      <td>SOGXMVM12A8C130C02</td>\n      <td>Susan Said - David Tao</td>\n      <td>1.299788</td>\n    </tr>\n    <tr>\n      <th>29</th>\n      <td>b64cdd1a0bd907e5e00b39e345194768e330d652</td>\n      <td>SOLQVLD12A58A7610B</td>\n      <td>Secret Handshakes - The Ataris</td>\n      <td>1.250652</td>\n    </tr>\n  </tbody>\n</table>\n</div>"
     },
     "metadata": {},
     "output_type": "display_data"
    },
    {
     "name": "stdout",
     "text": "['SOIDSDT12A6D4F98DB' 'SOWUTFF12A8C138AB2' 'SOTIEEP12A6701C779'\n 'SOTSVKB12A8C139EF0' 'SOXFTSF12A6D4F7278' 'SOMGVYU12A8C1314FF'\n 'SOZPQES12A6D4F8E57' 'SOFWANS12AF72A12E6' 'SOBDMNP12AF72AB1E1'\n 'SOYUOVK12AB0185549' 'SOOSADY12A6701F119' 'SOYSWHI12AAA8C5BFD'\n 'SOXGQCN12A8C1384FA']\n",
     "output_type": "stream"
    }
   ],
   "execution_count": 186
  },
  {
   "cell_type": "markdown",
   "source": "## Evaluation",
   "metadata": {
    "cell_id": "234083d0859443beb4046ce6931d71b0",
    "tags": [],
    "deepnote_cell_type": "markdown",
    "deepnote_cell_height": 70
   },
   "outputs": [],
   "execution_count": null
  },
  {
   "cell_type": "code",
   "source": "len(triplets_test['user_id'].unique())",
   "metadata": {
    "cell_id": "ebcfd8093c0d4b30828bb57a22474c06",
    "tags": [],
    "deepnote_to_be_reexecuted": false,
    "source_hash": "426c529",
    "execution_start": 1650078069055,
    "execution_millis": 36,
    "deepnote_cell_type": "code",
    "deepnote_cell_height": 97
   },
   "outputs": [
    {
     "output_type": "execute_result",
     "execution_count": 187,
     "data": {
      "text/plain": "20391"
     },
     "metadata": {}
    }
   ],
   "execution_count": 187
  },
  {
   "outputs": [
    {
     "name": "stdout",
     "text": "0\n30\n10\n10\n50\n0\n0\n10\n20\n0\n0\n10\n20\n0\n0\n10\n10\n30\n20\n20\n10\n10\n0\n0\n0\n10\n20\n0\n30\n0\n0\n0\n0\n10\n10\n0\n20\n10\n30\n60\n0\n10\n10\n0\n10\n10\n0\n30\n0\n20\n0\n0\n0\n50\n10\n40\n10\n0\n0\n0\n20\n0\n0\n10\n10\n0\n60\n10\n20\n10\n20\n10\n20\n0\n20\n0\n0\n0\n20\n20\n0\n20\n0\n0\n20\n0\n0\n0\n20\n10\n40\n10\n0\n0\n10\n10\n0\n0\n10\n0\n",
     "output_type": "stream"
    },
    {
     "output_type": "execute_result",
     "execution_count": 194,
     "data": {
      "text/plain": "0.0"
     },
     "metadata": {}
    }
   ],
   "execution_count": 194,
   "cell_type": "code",
   "source": "predictions_similarity = []\nuser_ids = triplets_df['user_id'].unique()[:100]\n\nsongs_liked_by_users_knn = []\nfor i in user_ids:\n    songs_liked_by_users_knn.append(triplets_df[triplets_df['user_id'] == i]['song_id'].to_numpy())\n    recommendations_df = get_song_predictions(i)\n    print(len(recommendations_df))\n    # print(recommendations_df['song_id'])\n    # print(songs_liked_by_users[0])\n    predictions_similarity.append(recommendations_df['song_id'].to_numpy())\n\nmapk(songs_liked_by_users_knn, predictions_similarity, 10)",
   "metadata": {
    "cell_id": "b54bdfd3774c40398853a67506c6bd23",
    "tags": [],
    "deepnote_to_be_reexecuted": false,
    "source_hash": "972fd8d0",
    "execution_start": 1650078349161,
    "execution_millis": 129320,
    "owner_user_id": "7927716d-1317-4948-b275-c85d132ad950",
    "deepnote_cell_type": "code",
    "deepnote_cell_height": 948,
    "deepnote_output_heights": [
     null,
     21
    ]
   }
  },
  {
   "cell_type": "code",
   "source": "mapk(songs_liked_by_users_knn, [x for x in predictions_similarity if len(x) != 0], 10)",
   "metadata": {
    "cell_id": "cec7353d015f49cdb505bc949dda24e6",
    "tags": [],
    "deepnote_to_be_reexecuted": true,
    "source_hash": "f82d0094",
    "execution_start": 1650074840579,
    "execution_millis": 6,
    "deepnote_cell_type": "code",
    "deepnote_cell_height": 97,
    "deepnote_output_heights": [
     21
    ]
   },
   "outputs": [
    {
     "output_type": "execute_result",
     "execution_count": 161,
     "data": {
      "text/plain": "0.0"
     },
     "metadata": {}
    }
   ],
   "execution_count": 161
  },
  {
   "cell_type": "code",
   "source": "",
   "metadata": {
    "cell_id": "eccf4fd027014d499ba1c116f3e776ac",
    "tags": [],
    "deepnote_to_be_reexecuted": true,
    "source_hash": "b623e53d",
    "deepnote_cell_type": "code",
    "deepnote_cell_height": 66
   },
   "outputs": [],
   "execution_count": null
  },
  {
   "cell_type": "markdown",
   "source": "<a style='text-decoration:none;line-height:16px;display:flex;color:#5B5B62;padding:10px;justify-content:end;' href='https://deepnote.com?utm_source=created-in-deepnote-cell&projectId=07a75db5-b040-4684-ba0a-30d718353198' target=\"_blank\">\n<img alt='Created in deepnote.com' style='display:inline;max-height:16px;margin:0px;margin-right:7.5px;' src='data:image/svg+xml;base64,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' > </img>\nCreated in <span style='font-weight:600;margin-left:4px;'>Deepnote</span></a>",
   "metadata": {
    "tags": [],
    "created_in_deepnote_cell": true,
    "deepnote_cell_type": "markdown"
   }
  }
 ],
 "nbformat": 4,
 "nbformat_minor": 2,
 "metadata": {
  "orig_nbformat": 2,
  "deepnote": {
   "is_reactive": false
  },
  "deepnote_notebook_id": "94a82621-e255-4c63-bbae-8b9e5c643390",
  "deepnote_execution_queue": []
 }
}